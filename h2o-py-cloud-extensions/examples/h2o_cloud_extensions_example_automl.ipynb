{
 "cells": [
  {
   "cell_type": "code",
   "execution_count": null,
   "metadata": {},
   "outputs": [],
   "source": [
    "import h2o"
   ]
  },
  {
   "cell_type": "code",
   "execution_count": null,
   "metadata": {},
   "outputs": [],
   "source": [
    "import h2o_cloud_extensions as hce"
   ]
  },
  {
   "cell_type": "code",
   "execution_count": null,
   "metadata": {},
   "outputs": [],
   "source": [
    "# Go to https://internal.dedicated.h2o.ai/auth/get-platform-token\n",
    "hce.settings.connection.refresh_token = \"TOKEN_THAT_YOU_RECIEVED_AFTER_AUTHENTICATION\""
   ]
  },
  {
   "cell_type": "code",
   "execution_count": null,
   "metadata": {},
   "outputs": [],
   "source": [
    "hce.settings.connection.client_id = 'hac-platform-public'\n",
    "hce.settings.connection.token_endpoint_url = 'https://auth.internal.dedicated.h2o.ai/auth/realms/hac/protocol/openid-connect/token'\n",
    "hce.settings.mlops.api_url = 'https://mlops-api.internal.dedicated.h2o.ai'\n",
    "hce.settings.mlops.project_name = 'h2o-3-test'\n",
    "hce.settings.mlops.project_description = 'Testing project for h2o3 cloud extensions'\n",
    "hce.settings.mlops.deployment_environment = 'DEV'\n",
    "hce.settings.mlops.automl.automatic_publishing = False\n",
    "hce.settings.mlops.automl.automatic_deployment = False\n",
    "hce.settings.mlops.automl.publishing_strategy = \"best\""
   ]
  },
  {
   "cell_type": "code",
   "execution_count": null,
   "metadata": {},
   "outputs": [],
   "source": [
    "h2o.init()"
   ]
  },
  {
   "cell_type": "code",
   "execution_count": null,
   "metadata": {},
   "outputs": [],
   "source": [
    "from h2o.automl import H2OAutoML\n",
    "\n",
    "train = h2o.import_file(\"https://s3.amazonaws.com/h2o-public-test-data/smalldata/higgs/higgs_train_10k.csv\")\n",
    "x = train.columns\n",
    "y = \"response\"\n",
    "x.remove(y)\n",
    "train[y] = train[y].asfactor()\n",
    "\n",
    "aml = H2OAutoML(max_models=5, seed=1)\n",
    "\n",
    "aml.train(x=x, y=y, training_frame=train)"
   ]
  },
  {
   "cell_type": "code",
   "execution_count": null,
   "metadata": {},
   "outputs": [],
   "source": [
    "aml.is_published()"
   ]
  },
  {
   "cell_type": "code",
   "execution_count": null,
   "outputs": [],
   "source": [
    "aml.publish()"
   ],
   "metadata": {
    "collapsed": false
   }
  },
  {
   "cell_type": "code",
   "execution_count": null,
   "metadata": {},
   "outputs": [],
   "source": [
    "aml.is_published()"
   ]
  },
  {
   "cell_type": "code",
   "execution_count": null,
   "metadata": {},
   "outputs": [],
   "source": [
    "aml.is_deployed()"
   ]
  },
  {
   "cell_type": "code",
   "execution_count": null,
   "metadata": {},
   "outputs": [],
   "source": [
    "aml.deploy()"
   ]
  },
  {
   "cell_type": "code",
   "execution_count": null,
   "metadata": {},
   "outputs": [],
   "source": [
    "aml.is_deployed()\n"
   ]
  }
 ],
 "metadata": {
  "kernelspec": {
   "display_name": "h2o-cloud-extensions",
   "language": "python",
   "name": "h2o-cloud-extensions"
  },
  "language_info": {
   "codemirror_mode": {
    "name": "ipython",
    "version": 3
   },
   "file_extension": ".py",
   "mimetype": "text/x-python",
   "name": "python",
   "nbconvert_exporter": "python",
   "pygments_lexer": "ipython3",
   "version": "3.8.15"
  }
 },
 "nbformat": 4,
 "nbformat_minor": 4
}
