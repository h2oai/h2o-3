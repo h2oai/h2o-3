{
 "cells": [
  {
   "cell_type": "code",
   "execution_count": null,
   "metadata": {},
   "outputs": [],
   "source": [
    "import h2o"
   ]
  },
  {
   "cell_type": "code",
   "execution_count": null,
   "metadata": {},
   "outputs": [],
   "source": [
    "import h2o_cloud_extensions as hce"
   ]
  },
  {
   "cell_type": "code",
   "execution_count": null,
   "metadata": {},
   "outputs": [],
   "source": [
    "# Go to https://cloud-qa.h2o.ai/auth/get-platform-token\n",
    "hce.settings.connection.refresh_token = \"TOKEN_THAT_YOU_RECIEVED_AFTER_AUTHENTICATION\""
   ]
  },
  {
   "cell_type": "code",
   "execution_count": null,
   "metadata": {},
   "outputs": [],
   "source": [
    "hce.settings.connection.token_endpoint_url = 'https://auth.demo.h2o.ai/auth/realms/q8s-qa/protocol/openid-connect/token'\n",
    "hce.settings.mlops.api_url = 'https://mlops-api.cloud-qa.h2o.ai'\n",
    "hce.settings.mlops.project_name = 'h2o-3-test'\n",
    "hce.settings.mlops.project_description = 'Testing project for h2o3 cloud extensions'\n",
    "hce.settings.mlops.deployment_environment = 'DEV'\n",
    "hce.settings.mlops.estimator.automatic_publishing = False\n",
    "hce.settings.mlops.estimator.automatic_deployment = False"
   ]
  },
  {
   "cell_type": "code",
   "execution_count": null,
   "metadata": {},
   "outputs": [],
   "source": [
    "h2o.init()"
   ]
  },
  {
   "cell_type": "code",
   "execution_count": null,
   "metadata": {},
   "outputs": [],
   "source": [
    "# Train model\n",
    "from h2o.estimators import H2OGradientBoostingEstimator\n",
    "prostate = h2o.import_file(\"http://s3.amazonaws.com/h2o-public-test-data/smalldata/prostate/prostate.csv\")\n",
    "prostate[\"CAPSULE\"] = prostate[\"CAPSULE\"].asfactor()\n",
    "predictors = [\"ID\",\"AGE\",\"RACE\",\"DPROS\",\"DCAPS\",\"PSA\",\"VOL\",\"GLEASON\"]\n",
    "response = \"CAPSULE\"\n",
    "pros_gbm = H2OGradientBoostingEstimator(nfolds=5,\n",
    "                                        seed=1111,\n",
    "                                        keep_cross_validation_predictions = True)\n",
    "pros_gbm.train(x=predictors, y=response, training_frame=prostate)"
   ]
  },
  {
   "cell_type": "code",
   "execution_count": null,
   "metadata": {},
   "outputs": [],
   "source": [
    "pros_gbm.is_published()"
   ]
  },
  {
   "cell_type": "code",
   "execution_count": null,
   "metadata": {},
   "outputs": [],
   "source": [
    "pros_gbm.publish()"
   ]
  },
  {
   "cell_type": "code",
   "execution_count": null,
   "metadata": {},
   "outputs": [],
   "source": [
    "pros_gbm.is_published()"
   ]
  },
  {
   "cell_type": "code",
   "execution_count": null,
   "metadata": {},
   "outputs": [],
   "source": [
    "pros_gbm.is_deployed()"
   ]
  },
  {
   "cell_type": "code",
   "execution_count": null,
   "metadata": {},
   "outputs": [],
   "source": [
    "pros_gbm.deploy()"
   ]
  },
  {
   "cell_type": "code",
   "execution_count": null,
   "metadata": {},
   "outputs": [],
   "source": [
    "pros_gbm.is_deployed()"
   ]
  }
 ],
 "metadata": {
  "kernelspec": {
   "display_name": "h2o-cloud-extensions",
   "language": "python",
   "name": "h2o-cloud-extensions"
  },
  "language_info": {
   "codemirror_mode": {
    "name": "ipython",
    "version": 3
   },
   "file_extension": ".py",
   "mimetype": "text/x-python",
   "name": "python",
   "nbconvert_exporter": "python",
   "pygments_lexer": "ipython3",
   "version": "3.8.15"
  }
 },
 "nbformat": 4,
 "nbformat_minor": 4
}
