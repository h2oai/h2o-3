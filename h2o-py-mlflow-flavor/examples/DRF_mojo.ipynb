{
 "cells": [
  {
   "cell_type": "code",
   "execution_count": null,
   "id": "3ded5553",
   "metadata": {},
   "outputs": [],
   "source": [
    "# Start H2O-3 runtime.\n",
    "\n",
    "import h2o\n",
    "h2o.init(strict_version_check=False)"
   ]
  },
  {
   "cell_type": "code",
   "execution_count": null,
   "id": "5e746ad4",
   "metadata": {},
   "outputs": [],
   "source": [
    "# Configure DRF algorithm and train a model.\n",
    "\n",
    "from h2o.estimators import H2ORandomForestEstimator\n",
    "\n",
    "# Import the cars dataset into H2O:\n",
    "cars = h2o.import_file(\"https://s3.amazonaws.com/h2o-public-test-data/smalldata/junit/cars_20mpg.csv\")\n",
    "\n",
    "# Set the predictors and response;\n",
    "# set the response as a factor:\n",
    "cars[\"economy_20mpg\"] = cars[\"economy_20mpg\"].asfactor()\n",
    "predictors = [\"displacement\",\"power\",\"weight\",\"acceleration\",\"year\"]\n",
    "response = \"economy_20mpg\"\n",
    "\n",
    "# Split the dataset into a train and valid set:\n",
    "train, valid = cars.split_frame(ratios=[.8], seed=1234)\n",
    "drf = H2ORandomForestEstimator(ntrees=10,\n",
    "                                    max_depth=5,\n",
    "                                    min_rows=10,\n",
    "                                    calibrate_model=True,\n",
    "                                    calibration_frame=valid,\n",
    "                                    binomial_double_trees=True)\n",
    "drf.train(x=predictors,\n",
    "          y=response,\n",
    "          training_frame=train,\n",
    "          validation_frame=valid)"
   ]
  },
  {
   "cell_type": "code",
   "execution_count": null,
   "id": "29eb0722",
   "metadata": {},
   "outputs": [],
   "source": [
    "# Log the model to an MLFlow reqistry.\n",
    "\n",
    "import mlflow\n",
    "import h2o_mlflow_flavor\n",
    "mlflow.set_tracking_uri(\"http://127.0.0.1:8080\")\n",
    "\n",
    "with mlflow.start_run(run_name=\"cars\") as run:\n",
    "    mlflow.log_params(h2o_mlflow_flavor.get_params(drf)) # Log training parameters of the model (optional).\n",
    "    mlflow.log_metrics(h2o_mlflow_flavor.get_metrics(drf)) # Log performance matrics of the model (optional).\n",
    "    input_example = h2o_mlflow_flavor.get_input_example(drf) # Extract input example from training dataset (optional)\n",
    "    h2o_mlflow_flavor.log_model(drf, \"cars\", input_example=input_example,\n",
    "                                model_type=\"MOJO\", # Specify whether the output model should be MOJO or POJO. (MOJO is default)\n",
    "                                extra_prediction_args=[\"--predictCalibrated\"]) # Add extra prediction args if needed."
   ]
  },
  {
   "cell_type": "code",
   "execution_count": null,
   "id": "bed1dafe",
   "metadata": {},
   "outputs": [],
   "source": [
    "# Load model from the MLFlow registry and score with the model.\n",
    "\n",
    "import mlflow\n",
    "mlflow.set_tracking_uri(\"http://127.0.0.1:8080\")\n",
    "\n",
    "logged_model = 'runs:/a9ff364f07fa499eb44e7c49e47fab11/cars' # Specify correct id of your run.\n",
    "\n",
    "# Load model as a PyFuncModel.\n",
    "loaded_model = mlflow.pyfunc.load_model(logged_model)\n",
    "\n",
    "# Predict on a Pandas DataFrame.\n",
    "import pandas as pd\n",
    "data = pd.read_csv(\"https://s3.amazonaws.com/h2o-public-test-data/smalldata/junit/cars_20mpg.csv\")\n",
    "loaded_model.predict(data)"
   ]
  },
  {
   "cell_type": "code",
   "execution_count": null,
   "id": "905b0c4c",
   "metadata": {},
   "outputs": [],
   "source": []
  }
 ],
 "metadata": {
  "kernelspec": {
   "display_name": "mlflow",
   "language": "python",
   "name": "mlflow"
  },
  "language_info": {
   "codemirror_mode": {
    "name": "ipython",
    "version": 3
   },
   "file_extension": ".py",
   "mimetype": "text/x-python",
   "name": "python",
   "nbconvert_exporter": "python",
   "pygments_lexer": "ipython3",
   "version": "3.11.5"
  }
 },
 "nbformat": 4,
 "nbformat_minor": 5
}
