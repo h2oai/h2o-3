{
 "cells": [
  {
   "cell_type": "code",
   "execution_count": 1,
   "metadata": {},
   "outputs": [
    {
     "name": "stdout",
     "output_type": "stream",
     "text": [
      "versionFromGradle='3.37.0',projectVersion='3.37.0.99999',branch='valenad-PUBDEV-8470-checkpointing',lastCommitHash='271a91cd10b36e841f7e96cbe26ff6155993250b',gitDescribe='jenkins-master-5866-20-g271a91cd10',compiledOn='2022-06-27 01:55:35',compiledBy='adam'\n"
     ]
    }
   ],
   "source": [
    "import sys\n",
    "sys.path.append(\"../h2o-py/build/main\")\n",
    "import h2o\n",
    "import time\n",
    "import os\n",
    "import statistics\n",
    "import random"
   ]
  },
  {
   "cell_type": "code",
   "execution_count": 2,
   "metadata": {},
   "outputs": [],
   "source": [
    "def get_folder_size(start_path = '.'):\n",
    "    total_size = 0\n",
    "    for dirpath, dirnames, filenames in os.walk(start_path):\n",
    "        for f in filenames:\n",
    "            fp = os.path.join(dirpath, f)\n",
    "            if not os.path.islink(fp):\n",
    "                total_size += os.path.getsize(fp)\n",
    "\n",
    "    return total_size\n",
    "\n",
    "\n",
    "def to_MB(size_in_bytes):\n",
    "    return size_in_bytes / 1024**2\n",
    "\n",
    "\n",
    "\n",
    "def measure_model(ntrees, max_depth, checkpoints_path=None):\n",
    "    times = []\n",
    "    file_sizes = []\n",
    "    \n",
    "    for seed in range(0,10):\n",
    "        if checkpoints_path!=None: \n",
    "            checkpoints_path_unique = checkpoints_path + \"_\" + str(ntrees) + \"_\" + str(max_depth) + \"_\" + str(seed)\n",
    "            print(\"Checkpoints path:\", checkpoints_path_unique)\n",
    "        else:\n",
    "            checkpoints_path_unique=None\n",
    "            \n",
    "        creditcards_gbm = H2OGradientBoostingEstimator(ntrees=ntrees,\n",
    "                                            max_depth=max_depth,\n",
    "                                            min_rows=1,\n",
    "                                            score_tree_interval=ntrees+1,\n",
    "                                            in_training_checkpoints_dir=checkpoints_path_unique,\n",
    "                                            seed = seed)\n",
    "        start = time.time()\n",
    "        creditcards_gbm.train(x=predictors,\n",
    "                       y=response,\n",
    "                       training_frame=train)\n",
    "        end = time.time()\n",
    "        training_time = end - start\n",
    "        print(\"Took\", training_time, \"s\")\n",
    "        times.append(training_time)\n",
    "        model_path = h2o.save_model(creditcards_gbm, \"models/\")\n",
    "        file_stats = os.stat(model_path)\n",
    "        model_size = to_MB(file_stats.st_size)\n",
    "        file_sizes.append(model_size)\n",
    "        \n",
    "    print(\"Mean training times: \", statistics.mean(times))\n",
    "    print(\"Mean model size in MegaBytes is\", statistics.mean(file_sizes))\n",
    "\n",
    "    if checkpoints_path != None:\n",
    "        checkpoints_folder_size = to_MB(get_folder_size(f\"{checkpoints_path_unique}\"))\n",
    "        print(\"Size of all checkpoints is: \", checkpoints_folder_size, 'MB')\n",
    "        print(\"Its \", checkpoints_folder_size / statistics.mean(file_sizes), \"times more that size of final model\")\n",
    "        \n",
    "    return times, file_sizes"
   ]
  },
  {
   "cell_type": "code",
   "execution_count": 3,
   "metadata": {},
   "outputs": [
    {
     "name": "stdout",
     "output_type": "stream",
     "text": [
      "Checking whether there is an H2O instance running at http://localhost:54321 ..... not found.\n",
      "Attempting to start a local H2O server...\n",
      "  Java Version: java version \"1.8.0_311\"; Java(TM) SE Runtime Environment (build 1.8.0_311-b11); Java HotSpot(TM) 64-Bit Server VM (build 25.311-b11, mixed mode)\n",
      "  Starting server from /Users/adam/h2o-3/build/h2o.jar\n",
      "  Ice root: /var/folders/2z/9gdhqbns0djdj9crb242sgc00000gn/T/tmp10_iht84\n",
      "  JVM stdout: /var/folders/2z/9gdhqbns0djdj9crb242sgc00000gn/T/tmp10_iht84/h2o_adam_started_from_python.out\n",
      "  JVM stderr: /var/folders/2z/9gdhqbns0djdj9crb242sgc00000gn/T/tmp10_iht84/h2o_adam_started_from_python.err\n",
      "  Server is running at http://127.0.0.1:54321\n",
      "Connecting to H2O server at http://127.0.0.1:54321 ... successful.\n"
     ]
    },
    {
     "data": {
      "text/html": [
       "<div style=\"overflow:auto\"><table style=\"width:50%\"><tr><td>H2O_cluster_uptime:</td>\n",
       "<td>02 secs</td></tr>\n",
       "<tr><td>H2O_cluster_timezone:</td>\n",
       "<td>Europe/Prague</td></tr>\n",
       "<tr><td>H2O_data_parsing_timezone:</td>\n",
       "<td>UTC</td></tr>\n",
       "<tr><td>H2O_cluster_version:</td>\n",
       "<td>3.37.0.99999</td></tr>\n",
       "<tr><td>H2O_cluster_version_age:</td>\n",
       "<td>4 minutes </td></tr>\n",
       "<tr><td>H2O_cluster_name:</td>\n",
       "<td>H2O_from_python_adam_dpmb2h</td></tr>\n",
       "<tr><td>H2O_cluster_total_nodes:</td>\n",
       "<td>1</td></tr>\n",
       "<tr><td>H2O_cluster_free_memory:</td>\n",
       "<td>3.556 Gb</td></tr>\n",
       "<tr><td>H2O_cluster_total_cores:</td>\n",
       "<td>12</td></tr>\n",
       "<tr><td>H2O_cluster_allowed_cores:</td>\n",
       "<td>12</td></tr>\n",
       "<tr><td>H2O_cluster_status:</td>\n",
       "<td>locked, healthy</td></tr>\n",
       "<tr><td>H2O_connection_url:</td>\n",
       "<td>http://127.0.0.1:54321</td></tr>\n",
       "<tr><td>H2O_connection_proxy:</td>\n",
       "<td>{\"http\": null, \"https\": null}</td></tr>\n",
       "<tr><td>H2O_internal_security:</td>\n",
       "<td>False</td></tr>\n",
       "<tr><td>Python_version:</td>\n",
       "<td>3.9.8 final</td></tr></table></div>"
      ],
      "text/plain": [
       "--------------------------  -----------------------------\n",
       "H2O_cluster_uptime:         02 secs\n",
       "H2O_cluster_timezone:       Europe/Prague\n",
       "H2O_data_parsing_timezone:  UTC\n",
       "H2O_cluster_version:        3.37.0.99999\n",
       "H2O_cluster_version_age:    4 minutes\n",
       "H2O_cluster_name:           H2O_from_python_adam_dpmb2h\n",
       "H2O_cluster_total_nodes:    1\n",
       "H2O_cluster_free_memory:    3.556 Gb\n",
       "H2O_cluster_total_cores:    12\n",
       "H2O_cluster_allowed_cores:  12\n",
       "H2O_cluster_status:         locked, healthy\n",
       "H2O_connection_url:         http://127.0.0.1:54321\n",
       "H2O_connection_proxy:       {\"http\": null, \"https\": null}\n",
       "H2O_internal_security:      False\n",
       "Python_version:             3.9.8 final\n",
       "--------------------------  -----------------------------"
      ]
     },
     "metadata": {},
     "output_type": "display_data"
    },
    {
     "name": "stdout",
     "output_type": "stream",
     "text": [
      "Parse progress: |████████████████████████████████████████████████████████████████| (done) 100%\n"
     ]
    }
   ],
   "source": [
    "from h2o.estimators import H2OGradientBoostingEstimator\n",
    "h2o.init()\n",
    "\n",
    "creditcards = h2o.import_file(\"../bigdata/laptop/creditcardfraud/creditcardfraud.csv\")\n",
    "\n",
    "columns = creditcards.columns\n",
    "predictors = columns[:len(columns)-1]\n",
    "response = \"Class\"\n",
    "\n",
    "creditcards[response] = creditcards[response].asfactor()\n",
    "\n",
    "train = creditcards"
   ]
  },
  {
   "cell_type": "code",
   "execution_count": 4,
   "metadata": {},
   "outputs": [
    {
     "name": "stdout",
     "output_type": "stream",
     "text": [
      "gbm Model Build progress: |██████████████████████████████████████████████████████| (done) 100%\n",
      "Took 33.4317569732666 s\n",
      "gbm Model Build progress: |██████████████████████████████████████████████████████| (done) 100%\n",
      "Took 33.27121710777283 s\n",
      "gbm Model Build progress: |██████████████████████████████████████████████████████| (done) 100%\n",
      "Took 31.909560203552246 s\n",
      "gbm Model Build progress: |██████████████████████████████████████████████████████| (done) 100%\n",
      "Took 31.636754989624023 s\n",
      "gbm Model Build progress: |██████████████████████████████████████████████████████| (done) 100%\n",
      "Took 31.72126603126526 s\n",
      "gbm Model Build progress: |██████████████████████████████████████████████████████| (done) 100%\n",
      "Took 31.708994150161743 s\n",
      "gbm Model Build progress: |██████████████████████████████████████████████████████| (done) 100%\n",
      "Took 34.28730392456055 s\n",
      "gbm Model Build progress: |██████████████████████████████████████████████████████| (done) 100%\n",
      "Took 35.95831298828125 s\n",
      "gbm Model Build progress: |██████████████████████████████████████████████████████| (done) 100%\n",
      "Took 33.62814712524414 s\n",
      "gbm Model Build progress: |██████████████████████████████████████████████████████| (done) 100%\n",
      "Took 33.56273412704468 s\n",
      "Mean training times:  33.111604762077334\n",
      "Mean model size in MegaBytes is 1.4884326934814454\n",
      "Checkpoints path: checkpoints_gbm_100_30_0\n",
      "gbm Model Build progress: |██████████████████████████████████████████████████████| (done) 100%\n",
      "Took 33.843544006347656 s\n",
      "Checkpoints path: checkpoints_gbm_100_30_1\n",
      "gbm Model Build progress: |██████████████████████████████████████████████████████| (done) 100%\n",
      "Took 33.82450771331787 s\n",
      "Checkpoints path: checkpoints_gbm_100_30_2\n",
      "gbm Model Build progress: |██████████████████████████████████████████████████████| (done) 100%\n",
      "Took 34.1566059589386 s\n",
      "Checkpoints path: checkpoints_gbm_100_30_3\n",
      "gbm Model Build progress: |██████████████████████████████████████████████████████| (done) 100%\n",
      "Took 34.20288801193237 s\n",
      "Checkpoints path: checkpoints_gbm_100_30_4\n",
      "gbm Model Build progress: |██████████████████████████████████████████████████████| (done) 100%\n",
      "Took 35.25788402557373 s\n",
      "Checkpoints path: checkpoints_gbm_100_30_5\n",
      "gbm Model Build progress: |██████████████████████████████████████████████████████| (done) 100%\n",
      "Took 34.07809495925903 s\n",
      "Checkpoints path: checkpoints_gbm_100_30_6\n",
      "gbm Model Build progress: |██████████████████████████████████████████████████████| (done) 100%\n",
      "Took 35.543802976608276 s\n",
      "Checkpoints path: checkpoints_gbm_100_30_7\n",
      "gbm Model Build progress: |██████████████████████████████████████████████████████| (done) 100%\n",
      "Took 34.49162411689758 s\n",
      "Checkpoints path: checkpoints_gbm_100_30_8\n",
      "gbm Model Build progress: |██████████████████████████████████████████████████████| (done) 100%\n",
      "Took 33.99303317070007 s\n",
      "Checkpoints path: checkpoints_gbm_100_30_9\n",
      "gbm Model Build progress: |██████████████████████████████████████████████████████| (done) 100%\n",
      "Took 34.301186084747314 s\n",
      "Mean training times:  34.36931710243225\n",
      "Mean model size in MegaBytes is 1.4884872436523438\n",
      "Size of all checkpoints is:  75.42982482910156 MB\n",
      "Its  50.67549295485882 times more that size of final model\n"
     ]
    },
    {
     "data": {
      "text/plain": [
       "'Without checkpoints times'"
      ]
     },
     "metadata": {},
     "output_type": "display_data"
    },
    {
     "data": {
      "text/plain": [
       "([33.4317569732666,\n",
       "  33.27121710777283,\n",
       "  31.909560203552246,\n",
       "  31.636754989624023,\n",
       "  31.72126603126526,\n",
       "  31.708994150161743,\n",
       "  34.28730392456055,\n",
       "  35.95831298828125,\n",
       "  33.62814712524414,\n",
       "  33.56273412704468],\n",
       " [1.4883661270141602,\n",
       "  1.4884281158447266,\n",
       "  1.4884319305419922,\n",
       "  1.4884357452392578,\n",
       "  1.4884471893310547,\n",
       "  1.4884347915649414,\n",
       "  1.4884347915649414,\n",
       "  1.4884471893310547,\n",
       "  1.4884510040283203,\n",
       "  1.488450050354004])"
      ]
     },
     "metadata": {},
     "output_type": "display_data"
    },
    {
     "data": {
      "text/plain": [
       "'With checkpoints times'"
      ]
     },
     "metadata": {},
     "output_type": "display_data"
    },
    {
     "data": {
      "text/plain": [
       "([33.843544006347656,\n",
       "  33.82450771331787,\n",
       "  34.1566059589386,\n",
       "  34.20288801193237,\n",
       "  35.25788402557373,\n",
       "  34.07809495925903,\n",
       "  35.543802976608276,\n",
       "  34.49162411689758,\n",
       "  33.99303317070007,\n",
       "  34.301186084747314],\n",
       " [1.488499641418457,\n",
       "  1.4884929656982422,\n",
       "  1.488485336303711,\n",
       "  1.4884824752807617,\n",
       "  1.4884862899780273,\n",
       "  1.4884700775146484,\n",
       "  1.4884977340698242,\n",
       "  1.4884977340698242,\n",
       "  1.4884700775146484,\n",
       "  1.488490104675293])"
      ]
     },
     "metadata": {},
     "output_type": "display_data"
    },
    {
     "name": "stdout",
     "output_type": "stream",
     "text": [
      "Training time is: 3.79840345822009 % different with checkpoints\n",
      "gbm Model Build progress: |██████████████████████████████████████████████████████| (done) 100%\n",
      "Took 67.62316489219666 s\n",
      "gbm Model Build progress: |██████████████████████████████████████████████████████| (done) 100%\n",
      "Took 67.97757983207703 s\n",
      "gbm Model Build progress: |██████████████████████████████████████████████████████| (done) 100%\n",
      "Took 67.77299809455872 s\n",
      "gbm Model Build progress: |██████████████████████████████████████████████████████| (done) 100%\n",
      "Took 67.0569839477539 s\n",
      "gbm Model Build progress: |██████████████████████████████████████████████████████| (done) 100%\n",
      "Took 67.00074529647827 s\n",
      "gbm Model Build progress: |██████████████████████████████████████████████████████| (done) 100%\n",
      "Took 66.39607286453247 s\n",
      "gbm Model Build progress: |██████████████████████████████████████████████████████| (done) 100%\n",
      "Took 66.57682704925537 s\n",
      "gbm Model Build progress: |██████████████████████████████████████████████████████| (done) 100%\n",
      "Took 67.47103214263916 s\n",
      "gbm Model Build progress: |██████████████████████████████████████████████████████| (done) 100%\n",
      "Took 66.03261804580688 s\n",
      "gbm Model Build progress: |██████████████████████████████████████████████████████| (done) 100%\n",
      "Took 66.46323800086975 s\n",
      "Mean training times:  67.03712601661682\n",
      "Mean model size in MegaBytes is 2.9566000938415526\n",
      "Checkpoints path: checkpoints_gbm_200_30_0\n",
      "gbm Model Build progress: |██████████████████████████████████████████████████████| (done) 100%\n",
      "Took 65.93310117721558 s\n",
      "Checkpoints path: checkpoints_gbm_200_30_1\n",
      "gbm Model Build progress: |██████████████████████████████████████████████████████| (done) 100%\n",
      "Took 68.41800117492676 s\n",
      "Checkpoints path: checkpoints_gbm_200_30_2\n",
      "gbm Model Build progress: |██████████████████████████████████████████████████████| (done) 100%\n",
      "Took 66.71239399909973 s\n",
      "Checkpoints path: checkpoints_gbm_200_30_3\n",
      "gbm Model Build progress: |██████████████████████████████████████████████████████| (done) 100%\n",
      "Took 66.87696313858032 s\n",
      "Checkpoints path: checkpoints_gbm_200_30_4\n",
      "gbm Model Build progress: |██████████████████████████████████████████████████████| (done) 100%\n",
      "Took 66.51057314872742 s\n",
      "Checkpoints path: checkpoints_gbm_200_30_5\n",
      "gbm Model Build progress: |██████████████████████████████████████████████████████| (done) 100%\n",
      "Took 65.6205370426178 s\n",
      "Checkpoints path: checkpoints_gbm_200_30_6\n",
      "gbm Model Build progress: |██████████████████████████████████████████████████████| (done) 100%\n",
      "Took 67.06651997566223 s\n",
      "Checkpoints path: checkpoints_gbm_200_30_7\n",
      "gbm Model Build progress: |██████████████████████████████████████████████████████| (done) 100%\n",
      "Took 66.41373205184937 s\n",
      "Checkpoints path: checkpoints_gbm_200_30_8\n",
      "gbm Model Build progress: |██████████████████████████████████████████████████████| (done) 100%\n",
      "Took 65.71719098091125 s\n",
      "Checkpoints path: checkpoints_gbm_200_30_9\n",
      "gbm Model Build progress: |██████████████████████████████████████████████████████| (done) 100%\n",
      "Took 65.47262287139893 s\n",
      "Mean training times:  66.47416355609894\n",
      "Mean model size in MegaBytes is 2.9566414833068846\n",
      "Size of all checkpoints is:  297.96635818481445 MB\n",
      "Its  100.77865709018974 times more that size of final model\n"
     ]
    },
    {
     "data": {
      "text/plain": [
       "'Without checkpoints times'"
      ]
     },
     "metadata": {},
     "output_type": "display_data"
    },
    {
     "data": {
      "text/plain": [
       "([67.62316489219666,\n",
       "  67.97757983207703,\n",
       "  67.77299809455872,\n",
       "  67.0569839477539,\n",
       "  67.00074529647827,\n",
       "  66.39607286453247,\n",
       "  66.57682704925537,\n",
       "  67.47103214263916,\n",
       "  66.03261804580688,\n",
       "  66.46323800086975],\n",
       " [2.9566116333007812,\n",
       "  2.956605911254883,\n",
       "  2.956597328186035,\n",
       "  2.956601142883301,\n",
       "  2.9565792083740234,\n",
       "  2.956608772277832,\n",
       "  2.956599235534668,\n",
       "  2.9566240310668945,\n",
       "  2.9565982818603516,\n",
       "  2.956575393676758])"
      ]
     },
     "metadata": {},
     "output_type": "display_data"
    },
    {
     "data": {
      "text/plain": [
       "'With checkpoints times'"
      ]
     },
     "metadata": {},
     "output_type": "display_data"
    },
    {
     "data": {
      "text/plain": [
       "([65.93310117721558,\n",
       "  68.41800117492676,\n",
       "  66.71239399909973,\n",
       "  66.87696313858032,\n",
       "  66.51057314872742,\n",
       "  65.6205370426178,\n",
       "  67.06651997566223,\n",
       "  66.41373205184937,\n",
       "  65.71719098091125,\n",
       "  65.47262287139893],\n",
       " [2.9566478729248047,\n",
       "  2.9566287994384766,\n",
       "  2.956650733947754,\n",
       "  2.9566125869750977,\n",
       "  2.9566659927368164,\n",
       "  2.9566688537597656,\n",
       "  2.9566287994384766,\n",
       "  2.956639289855957,\n",
       "  2.956624984741211,\n",
       "  2.9566469192504883])"
      ]
     },
     "metadata": {},
     "output_type": "display_data"
    },
    {
     "name": "stdout",
     "output_type": "stream",
     "text": [
      "Training time is: -0.839777141368403 % different with checkpoints\n",
      "gbm Model Build progress: |██████████████████████████████████████████████████████| (done) 100%\n",
      "Took 106.10653328895569 s\n",
      "gbm Model Build progress: |██████████████████████████████████████████████████████| (done) 100%\n",
      "Took 104.93350768089294 s\n",
      "gbm Model Build progress: |██████████████████████████████████████████████████████| (done) 100%\n",
      "Took 103.66442489624023 s\n",
      "gbm Model Build progress: |██████████████████████████████████████████████████████| (done) 100%\n",
      "Took 106.11266803741455 s\n",
      "gbm Model Build progress: |██████████████████████████████████████████████████████| (done) 100%\n",
      "Took 103.90525794029236 s\n",
      "gbm Model Build progress: |██████████████████████████████████████████████████████| (done) 100%\n",
      "Took 104.36680793762207 s\n",
      "gbm Model Build progress: |██████████████████████████████████████████████████████| (done) 100%\n",
      "Took 107.04533791542053 s\n",
      "gbm Model Build progress: |██████████████████████████████████████████████████████| (done) 100%\n",
      "Took 104.5396499633789 s\n",
      "gbm Model Build progress: |██████████████████████████████████████████████████████| (done) 100%\n",
      "Took 104.64195489883423 s\n",
      "gbm Model Build progress: |██████████████████████████████████████████████████████| (done) 100%\n",
      "Took 105.40122699737549 s\n",
      "Mean training times:  105.0717369556427\n",
      "Mean model size in MegaBytes is 4.370186042785645\n",
      "Checkpoints path: checkpoints_gbm_500_30_0\n",
      "gbm Model Build progress: |██████████████████████████████████████████████████████| (done) 100%\n",
      "Took 104.3037109375 s\n",
      "Checkpoints path: checkpoints_gbm_500_30_1\n",
      "gbm Model Build progress: |██████████████████████████████████████████████████████| (done) 100%\n",
      "Took 104.41359901428223 s\n",
      "Checkpoints path: checkpoints_gbm_500_30_2\n",
      "gbm Model Build progress: |██████████████████████████████████████████████████████| (done) 100%\n",
      "Took 106.48323392868042 s\n",
      "Checkpoints path: checkpoints_gbm_500_30_3\n",
      "gbm Model Build progress: |██████████████████████████████████████████████████████| (done) 100%\n",
      "Took 103.90191793441772 s\n",
      "Checkpoints path: checkpoints_gbm_500_30_4\n",
      "gbm Model Build progress: |██████████████████████████████████████████████████████| (done) 100%\n",
      "Took 104.59812617301941 s\n",
      "Checkpoints path: checkpoints_gbm_500_30_5\n",
      "gbm Model Build progress: |██████████████████████████████████████████████████████| (done) 100%\n",
      "Took 104.8479528427124 s\n",
      "Checkpoints path: checkpoints_gbm_500_30_6\n",
      "gbm Model Build progress: |██████████████████████████████████████████████████████| (done) 100%\n",
      "Took 103.31968832015991 s\n",
      "Checkpoints path: checkpoints_gbm_500_30_7\n",
      "gbm Model Build progress: |██████████████████████████████████████████████████████| (done) 100%\n",
      "Took 102.27428579330444 s\n",
      "Checkpoints path: checkpoints_gbm_500_30_8\n",
      "gbm Model Build progress: |██████████████████████████████████████████████████████| (done) 100%\n",
      "Took 104.49757814407349 s\n",
      "Checkpoints path: checkpoints_gbm_500_30_9\n",
      "gbm Model Build progress: |██████████████████████████████████████████████████████| (done) 100%\n",
      "Took 102.8906261920929 s\n",
      "Mean training times:  104.15307192802429\n",
      "Mean model size in MegaBytes is 4.370233821868896\n",
      "Size of all checkpoints is:  1522.705843925476 MB\n",
      "Its  348.4266302424759 times more that size of final model\n"
     ]
    },
    {
     "data": {
      "text/plain": [
       "'Without checkpoints times'"
      ]
     },
     "metadata": {},
     "output_type": "display_data"
    },
    {
     "data": {
      "text/plain": [
       "([106.10653328895569,\n",
       "  104.93350768089294,\n",
       "  103.66442489624023,\n",
       "  106.11266803741455,\n",
       "  103.90525794029236,\n",
       "  104.36680793762207,\n",
       "  107.04533791542053,\n",
       "  104.5396499633789,\n",
       "  104.64195489883423,\n",
       "  105.40122699737549],\n",
       " [4.370203971862793,\n",
       "  4.370180130004883,\n",
       "  4.370175361633301,\n",
       "  4.370210647583008,\n",
       "  4.370141983032227,\n",
       "  4.370172500610352,\n",
       "  4.37020206451416,\n",
       "  4.370199203491211,\n",
       "  4.370168685913086,\n",
       "  4.370205879211426])"
      ]
     },
     "metadata": {},
     "output_type": "display_data"
    },
    {
     "data": {
      "text/plain": [
       "'With checkpoints times'"
      ]
     },
     "metadata": {},
     "output_type": "display_data"
    },
    {
     "data": {
      "text/plain": [
       "([104.3037109375,\n",
       "  104.41359901428223,\n",
       "  106.48323392868042,\n",
       "  103.90191793441772,\n",
       "  104.59812617301941,\n",
       "  104.8479528427124,\n",
       "  103.31968832015991,\n",
       "  102.27428579330444,\n",
       "  104.49757814407349,\n",
       "  102.8906261920929],\n",
       " [4.370213508605957,\n",
       "  4.370241165161133,\n",
       "  4.370232582092285,\n",
       "  4.370251655578613,\n",
       "  4.370242118835449,\n",
       "  4.370234489440918,\n",
       "  4.3702497482299805,\n",
       "  4.370230674743652,\n",
       "  4.370217323303223,\n",
       "  4.370224952697754])"
      ]
     },
     "metadata": {},
     "output_type": "display_data"
    },
    {
     "name": "stdout",
     "output_type": "stream",
     "text": [
      "Training time is: -0.8743217293592842 % different with checkpoints\n",
      "gbm Model Build progress: |██████████████████████████████████████████████████████| (done) 100%\n",
      "Took 154.10553908348083 s\n",
      "gbm Model Build progress: |██████████████████████████████████████████████████████| (done) 100%\n",
      "Took 151.9739511013031 s\n",
      "gbm Model Build progress: |██████████████████████████████████████████████████████| (done) 100%\n",
      "Took 154.96620202064514 s\n",
      "gbm Model Build progress: |██████████████████████████████████████████████████████| (done) 100%\n",
      "Took 152.19303607940674 s\n",
      "gbm Model Build progress: |██████████████████████████████████████████████████████| (done) 100%\n",
      "Took 152.7576458454132 s\n",
      "gbm Model Build progress: |██████████████████████████████████████████████████████| (done) 100%\n",
      "Took 151.31441593170166 s\n",
      "gbm Model Build progress: |██████████████████████████████████████████████████████| (done) 100%\n",
      "Took 152.94519186019897 s\n",
      "gbm Model Build progress: |██████████████████████████████████████████████████████| (done) 100%\n",
      "Took 151.56276488304138 s\n",
      "gbm Model Build progress: |██████████████████████████████████████████████████████| (done) 100%\n",
      "Took 152.70845985412598 s\n",
      "gbm Model Build progress: |██████████████████████████████████████████████████████| (done) 100%\n",
      "Took 150.1232409477234 s\n",
      "Mean training times:  152.46504476070405\n",
      "Mean model size in MegaBytes is 4.964382457733154\n",
      "Checkpoints path: checkpoints_gbm_1000_30_0\n",
      "gbm Model Build progress: |██████████████████████████████████████████████████████| (done) 100%\n",
      "Took 156.2925500869751 s\n",
      "Checkpoints path: checkpoints_gbm_1000_30_1\n",
      "gbm Model Build progress: |██████████████████████████████████████████████████████| (done) 100%\n",
      "Took 153.95087718963623 s\n",
      "Checkpoints path: checkpoints_gbm_1000_30_2\n",
      "gbm Model Build progress: |██████████████████████████████████████████████████████| (done) 100%\n",
      "Took 155.4369673728943 s\n",
      "Checkpoints path: checkpoints_gbm_1000_30_3\n",
      "gbm Model Build progress: |██████████████████████████████████████████████████████| (done) 100%\n",
      "Took 154.43201112747192 s\n",
      "Checkpoints path: checkpoints_gbm_1000_30_4\n",
      "gbm Model Build progress: |██████████████████████████████████████████████████████| (done) 100%\n",
      "Took 156.85681986808777 s\n",
      "Checkpoints path: checkpoints_gbm_1000_30_5\n",
      "gbm Model Build progress: |██████████████████████████████████████████████████████| (done) 100%\n",
      "Took 154.48422408103943 s\n",
      "Checkpoints path: checkpoints_gbm_1000_30_6\n",
      "gbm Model Build progress: |██████████████████████████████████████████████████████| (done) 100%\n",
      "Took 156.45426106452942 s\n",
      "Checkpoints path: checkpoints_gbm_1000_30_7\n",
      "gbm Model Build progress: |██████████████████████████████████████████████████████| (done) 100%\n",
      "Took 154.18208003044128 s\n",
      "Checkpoints path: checkpoints_gbm_1000_30_8\n",
      "gbm Model Build progress: |██████████████████████████████████████████████████████| (done) 100%\n",
      "Took 155.9257550239563 s\n",
      "Checkpoints path: checkpoints_gbm_1000_30_9\n",
      "gbm Model Build progress: |██████████████████████████████████████████████████████| (done) 100%\n",
      "Took 153.9195852279663 s\n",
      "Mean training times:  155.1935131072998\n",
      "Mean model size in MegaBytes is 4.964437103271484\n",
      "Size of all checkpoints is:  3846.6860933303833 MB\n",
      "Its  774.8483893159769 times more that size of final model\n"
     ]
    },
    {
     "data": {
      "text/plain": [
       "'Without checkpoints times'"
      ]
     },
     "metadata": {},
     "output_type": "display_data"
    },
    {
     "data": {
      "text/plain": [
       "([154.10553908348083,\n",
       "  151.9739511013031,\n",
       "  154.96620202064514,\n",
       "  152.19303607940674,\n",
       "  152.7576458454132,\n",
       "  151.31441593170166,\n",
       "  152.94519186019897,\n",
       "  151.56276488304138,\n",
       "  152.70845985412598,\n",
       "  150.1232409477234],\n",
       " [4.964383125305176,\n",
       "  4.964374542236328,\n",
       "  4.964394569396973,\n",
       "  4.964398384094238,\n",
       "  4.964356422424316,\n",
       "  4.96435546875,\n",
       "  4.964405059814453,\n",
       "  4.964398384094238,\n",
       "  4.964360237121582,\n",
       "  4.964398384094238])"
      ]
     },
     "metadata": {},
     "output_type": "display_data"
    },
    {
     "data": {
      "text/plain": [
       "'With checkpoints times'"
      ]
     },
     "metadata": {},
     "output_type": "display_data"
    },
    {
     "data": {
      "text/plain": [
       "([156.2925500869751,\n",
       "  153.95087718963623,\n",
       "  155.4369673728943,\n",
       "  154.43201112747192,\n",
       "  156.85681986808777,\n",
       "  154.48422408103943,\n",
       "  156.45426106452942,\n",
       "  154.18208003044128,\n",
       "  155.9257550239563,\n",
       "  153.9195852279663],\n",
       " [4.964405059814453,\n",
       "  4.96440315246582,\n",
       "  4.964430809020996,\n",
       "  4.964460372924805,\n",
       "  4.964448928833008,\n",
       "  4.964426040649414,\n",
       "  4.964468955993652,\n",
       "  4.964385032653809,\n",
       "  4.964483261108398,\n",
       "  4.964459419250488])"
      ]
     },
     "metadata": {},
     "output_type": "display_data"
    },
    {
     "name": "stdout",
     "output_type": "stream",
     "text": [
      "Training time is: 1.7895697672067223 % different with checkpoints\n",
      "gbm Model Build progress: |██████████████████████████████████████████████████████| (done) 100%\n",
      "Took 205.30768418312073 s\n",
      "gbm Model Build progress: |██████████████████████████████████████████████████████| (done) 100%\n",
      "Took 205.47759318351746 s\n",
      "gbm Model Build progress: |██████████████████████████████████████████████████████| (done) 100%\n",
      "Took 203.3487730026245 s\n",
      "gbm Model Build progress: |██████████████████████████████████████████████████████| (done) 100%\n",
      "Took 204.82065105438232 s\n",
      "gbm Model Build progress: |██████████████████████████████████████████████████████| (done) 100%\n",
      "Took 204.58983516693115 s\n",
      "gbm Model Build progress: |██████████████████████████████████████████████████████| (done) 100%\n",
      "Took 202.52561116218567 s\n",
      "gbm Model Build progress: |██████████████████████████████████████████████████████| (done) 100%\n",
      "Took 204.97925209999084 s\n",
      "gbm Model Build progress: |██████████████████████████████████████████████████████| (done) 100%\n",
      "Took 205.38920283317566 s\n",
      "gbm Model Build progress: |██████████████████████████████████████████████████████| (done) 100%\n",
      "Took 202.96853971481323 s\n",
      "gbm Model Build progress: |██████████████████████████████████████████████████████| (done) 100%\n",
      "Took 206.36109709739685 s\n",
      "Mean training times:  204.57682394981384\n",
      "Mean model size in MegaBytes is 5.581142807006836\n",
      "Checkpoints path: checkpoints_gbm_1500_30_0\n",
      "gbm Model Build progress: |██████████████████████████████████████████████████████| (done) 100%\n",
      "Took 213.13341689109802 s\n",
      "Checkpoints path: checkpoints_gbm_1500_30_1\n",
      "gbm Model Build progress: |██████████████████████████████████████████████████████| (done) 100%\n",
      "Took 211.46776390075684 s\n",
      "Checkpoints path: checkpoints_gbm_1500_30_2\n",
      "gbm Model Build progress: |██████████████████████████████████████████████████████| (done) 100%\n",
      "Took 213.54406094551086 s\n",
      "Checkpoints path: checkpoints_gbm_1500_30_3\n",
      "gbm Model Build progress: |██████████████████████████████████████████████████████| (done) 100%\n",
      "Took 214.3740200996399 s\n",
      "Checkpoints path: checkpoints_gbm_1500_30_4\n",
      "gbm Model Build progress: |██████████████████████████████████████████████████████| (done) 100%\n",
      "Took 210.64056301116943 s\n",
      "Checkpoints path: checkpoints_gbm_1500_30_5\n",
      "gbm Model Build progress: |██████████████████████████████████████████████████████| (done) 100%\n",
      "Took 213.6485161781311 s\n",
      "Checkpoints path: checkpoints_gbm_1500_30_6\n",
      "gbm Model Build progress: |██████████████████████████████████████████████████████| (done) 100%\n",
      "Took 212.85376119613647 s\n",
      "Checkpoints path: checkpoints_gbm_1500_30_7\n",
      "gbm Model Build progress: |██████████████████████████████████████████████████████| (done) 100%\n",
      "Took 213.08496594429016 s\n",
      "Checkpoints path: checkpoints_gbm_1500_30_8\n",
      "gbm Model Build progress: |██████████████████████████████████████████████████████| (done) 100%\n",
      "Took 212.69236707687378 s\n",
      "Checkpoints path: checkpoints_gbm_1500_30_9\n",
      "gbm Model Build progress: |██████████████████████████████████████████████████████| (done) 100%\n",
      "Took 213.2327880859375 s\n",
      "Mean training times:  212.8672223329544\n",
      "Mean model size in MegaBytes is 5.5811912536621096\n",
      "Size of all checkpoints is:  6471.810522079468 MB\n",
      "Its  1159.5751207832157 times more that size of final model\n"
     ]
    },
    {
     "data": {
      "text/plain": [
       "'Without checkpoints times'"
      ]
     },
     "metadata": {},
     "output_type": "display_data"
    },
    {
     "data": {
      "text/plain": [
       "([205.30768418312073,\n",
       "  205.47759318351746,\n",
       "  203.3487730026245,\n",
       "  204.82065105438232,\n",
       "  204.58983516693115,\n",
       "  202.52561116218567,\n",
       "  204.97925209999084,\n",
       "  205.38920283317566,\n",
       "  202.96853971481323,\n",
       "  206.36109709739685],\n",
       " [5.581172943115234,\n",
       "  5.581241607666016,\n",
       "  5.5811052322387695,\n",
       "  5.5811004638671875,\n",
       "  5.5811309814453125,\n",
       "  5.581109046936035,\n",
       "  5.581120491027832,\n",
       "  5.581153869628906,\n",
       "  5.581157684326172,\n",
       "  5.5811357498168945])"
      ]
     },
     "metadata": {},
     "output_type": "display_data"
    },
    {
     "data": {
      "text/plain": [
       "'With checkpoints times'"
      ]
     },
     "metadata": {},
     "output_type": "display_data"
    },
    {
     "data": {
      "text/plain": [
       "([213.13341689109802,\n",
       "  211.46776390075684,\n",
       "  213.54406094551086,\n",
       "  214.3740200996399,\n",
       "  210.64056301116943,\n",
       "  213.6485161781311,\n",
       "  212.85376119613647,\n",
       "  213.08496594429016,\n",
       "  212.69236707687378,\n",
       "  213.2327880859375],\n",
       " [5.581132888793945,\n",
       "  5.581255912780762,\n",
       "  5.581235885620117,\n",
       "  5.581194877624512,\n",
       "  5.581178665161133,\n",
       "  5.581205368041992,\n",
       "  5.581183433532715,\n",
       "  5.58125114440918,\n",
       "  5.581118583679199,\n",
       "  5.581155776977539])"
      ]
     },
     "metadata": {},
     "output_type": "display_data"
    },
    {
     "name": "stdout",
     "output_type": "stream",
     "text": [
      "Training time is: 4.052462162172565 % different with checkpoints\n",
      "gbm Model Build progress: |██████████████████████████████████████████████████████| (done) 100%\n",
      "Took 264.62720680236816 s\n",
      "gbm Model Build progress: |██████████████████████████████████████████████████████| (done) 100%\n",
      "Took 265.13933968544006 s\n",
      "gbm Model Build progress: |██████████████████████████████████████████████████████| (done) 100%\n",
      "Took 262.63359093666077 s\n",
      "gbm Model Build progress: |██████████████████████████████████████████████████████| (done) 100%\n",
      "Took 261.78533720970154 s\n",
      "gbm Model Build progress: |██████████████████████████████████████████████████████| (done) 100%\n",
      "Took 260.9616448879242 s\n",
      "gbm Model Build progress: |██████████████████████████████████████████████████████| (done) 100%\n",
      "Took 261.19680190086365 s\n",
      "gbm Model Build progress: |██████████████████████████████████████████████████████| (done) 100%\n",
      "Took 262.99491786956787 s\n",
      "gbm Model Build progress: |██████████████████████████████████████████████████████| (done) 100%\n",
      "Took 264.33857774734497 s\n",
      "gbm Model Build progress: |██████████████████████████████████████████████████████| (done) 100%\n",
      "Took 260.40155386924744 s\n",
      "gbm Model Build progress: |██████████████████████████████████████████████████████| (done) 100%\n",
      "Took 262.5372657775879 s\n",
      "Mean training times:  262.66162366867064\n",
      "Mean model size in MegaBytes is 6.224074935913086\n",
      "Checkpoints path: checkpoints_gbm_2000_30_0\n",
      "gbm Model Build progress: |██████████████████████████████████████████████████████| (done) 100%\n",
      "Took 272.817174911499 s\n",
      "Checkpoints path: checkpoints_gbm_2000_30_1\n",
      "gbm Model Build progress: |██████████████████████████████████████████████████████| (done) 100%\n",
      "Took 271.63794898986816 s\n",
      "Checkpoints path: checkpoints_gbm_2000_30_2\n",
      "gbm Model Build progress: |██████████████████████████████████████████████████████| (done) 100%\n",
      "Took 274.88929200172424 s\n",
      "Checkpoints path: checkpoints_gbm_2000_30_3\n",
      "gbm Model Build progress: |██████████████████████████████████████████████████████| (done) 100%\n",
      "Took 277.2193431854248 s\n",
      "Checkpoints path: checkpoints_gbm_2000_30_4\n",
      "gbm Model Build progress: |██████████████████████████████████████████████████████| (done) 100%\n",
      "Took 277.44274616241455 s\n",
      "Checkpoints path: checkpoints_gbm_2000_30_5\n",
      "gbm Model Build progress: |██████████████████████████████████████████████████████| (done) 100%\n",
      "Took 280.67250895500183 s\n",
      "Checkpoints path: checkpoints_gbm_2000_30_6\n",
      "gbm Model Build progress: |██████████████████████████████████████████████████████| (done) 100%\n",
      "Took 281.95521306991577 s\n",
      "Checkpoints path: checkpoints_gbm_2000_30_7\n",
      "gbm Model Build progress: |██████████████████████████████████████████████████████| (done) 100%\n",
      "Took 281.5670781135559 s\n",
      "Checkpoints path: checkpoints_gbm_2000_30_8\n",
      "gbm Model Build progress: |██████████████████████████████████████████████████████| (done) 100%\n",
      "Took 281.25603103637695 s\n",
      "Checkpoints path: checkpoints_gbm_2000_30_9\n",
      "gbm Model Build progress: |██████████████████████████████████████████████████████| (done) 100%\n",
      "Took 282.94080686569214 s\n",
      "Mean training times:  278.23981432914735\n",
      "Mean model size in MegaBytes is 6.22414722442627\n",
      "Size of all checkpoints is:  9412.673508644104 MB\n",
      "Its  1512.2832364415588 times more that size of final model\n"
     ]
    },
    {
     "data": {
      "text/plain": [
       "'Without checkpoints times'"
      ]
     },
     "metadata": {},
     "output_type": "display_data"
    },
    {
     "data": {
      "text/plain": [
       "([264.62720680236816,\n",
       "  265.13933968544006,\n",
       "  262.63359093666077,\n",
       "  261.78533720970154,\n",
       "  260.9616448879242,\n",
       "  261.19680190086365,\n",
       "  262.99491786956787,\n",
       "  264.33857774734497,\n",
       "  260.40155386924744,\n",
       "  262.5372657775879],\n",
       " [6.2241668701171875,\n",
       "  6.224016189575195,\n",
       "  6.224138259887695,\n",
       "  6.224076271057129,\n",
       "  6.224038124084473,\n",
       "  6.224081039428711,\n",
       "  6.224004745483398,\n",
       "  6.224102973937988,\n",
       "  6.224065780639648,\n",
       "  6.224059104919434])"
      ]
     },
     "metadata": {},
     "output_type": "display_data"
    },
    {
     "data": {
      "text/plain": [
       "'With checkpoints times'"
      ]
     },
     "metadata": {},
     "output_type": "display_data"
    },
    {
     "data": {
      "text/plain": [
       "([272.817174911499,\n",
       "  271.63794898986816,\n",
       "  274.88929200172424,\n",
       "  277.2193431854248,\n",
       "  277.44274616241455,\n",
       "  280.67250895500183,\n",
       "  281.95521306991577,\n",
       "  281.5670781135559,\n",
       "  281.25603103637695,\n",
       "  282.94080686569214],\n",
       " [6.224216461181641,\n",
       "  6.22420597076416,\n",
       "  6.224215507507324,\n",
       "  6.224140167236328,\n",
       "  6.224234580993652,\n",
       "  6.224040985107422,\n",
       "  6.224025726318359,\n",
       "  6.224079132080078,\n",
       "  6.224143028259277,\n",
       "  6.224170684814453])"
      ]
     },
     "metadata": {},
     "output_type": "display_data"
    },
    {
     "name": "stdout",
     "output_type": "stream",
     "text": [
      "Training time is: 5.930897115037825 % different with checkpoints\n"
     ]
    },
    {
     "data": {
      "text/plain": [
       "'Slowdowns'"
      ]
     },
     "metadata": {},
     "output_type": "display_data"
    },
    {
     "data": {
      "text/plain": [
       "[0.0379840345822009,\n",
       " -0.00839777141368403,\n",
       " -0.008743217293592842,\n",
       " 0.017895697672067223,\n",
       " 0.040524621621725654,\n",
       " 0.059308971150378254]"
      ]
     },
     "metadata": {},
     "output_type": "display_data"
    },
    {
     "name": "stdout",
     "output_type": "stream",
     "text": [
      "Training time slowdown average is: 0.02309538938651586\n"
     ]
    }
   ],
   "source": [
    "slowdowns = []\n",
    "for ntrees in [100, 200, 500, 1000, 1500, 2000]:\n",
    "    model = measure_model(ntrees, 30)\n",
    "    model_checkpoints = measure_model(ntrees, 30, \"checkpoints_gbm\")\n",
    "    display(\"Without checkpoints times\", model)\n",
    "    display(\"With checkpoints times\", model_checkpoints)\n",
    "    slowdown = statistics.mean(model_checkpoints[0])/statistics.mean(model[0]) - 1\n",
    "    slowdowns.append(slowdown)\n",
    "    print(\"Training time is:\", slowdown*100, \"% different with checkpoints\")\n",
    "    \n",
    "display(\"Slowdowns\", slowdowns)\n",
    "print(\"Training time slowdown average is:\", statistics.mean(slowdowns))"
   ]
  },
  {
   "cell_type": "code",
   "execution_count": null,
   "metadata": {},
   "outputs": [],
   "source": []
  }
 ],
 "metadata": {
  "kernelspec": {
   "display_name": "Python 3 (ipykernel)",
   "language": "python",
   "name": "python3"
  },
  "language_info": {
   "codemirror_mode": {
    "name": "ipython",
    "version": 3
   },
   "file_extension": ".py",
   "mimetype": "text/x-python",
   "name": "python",
   "nbconvert_exporter": "python",
   "pygments_lexer": "ipython3",
   "version": "3.9.8"
  }
 },
 "nbformat": 4,
 "nbformat_minor": 2
}
