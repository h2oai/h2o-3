{
 "cells": [
  {
   "cell_type": "code",
   "execution_count": 1,
   "metadata": {
    "collapsed": false
   },
   "outputs": [],
   "source": [
    "import h2o\n",
    "import time\n",
    "from h2o.estimators.glm import H2OGeneralizedLinearEstimator\n",
    "from h2o.estimators.gbm import H2OGradientBoostingEstimator\n",
    "from h2o.estimators.random_forest import H2ORandomForestEstimator\n",
    "from h2o.estimators.deeplearning import H2ODeepLearningEstimator"
   ]
  },
  {
   "cell_type": "code",
   "execution_count": 2,
   "metadata": {
    "collapsed": false
   },
   "outputs": [
    {
     "name": "stdout",
     "output_type": "stream",
     "text": [
      "Checking whether there is an H2O instance running at http://localhost:54321. connected.\n"
     ]
    },
    {
     "data": {
      "text/html": [
       "<div style=\"overflow:auto\"><table style=\"width:50%\"><tr><td>H2O cluster uptime:</td>\n",
       "<td>2 mins 11 secs</td></tr>\n",
       "<tr><td>H2O cluster version:</td>\n",
       "<td>3.11.0.99999</td></tr>\n",
       "<tr><td>H2O cluster version age:</td>\n",
       "<td>3 minutes </td></tr>\n",
       "<tr><td>H2O cluster name:</td>\n",
       "<td>pasha</td></tr>\n",
       "<tr><td>H2O cluster total nodes:</td>\n",
       "<td>1</td></tr>\n",
       "<tr><td>H2O cluster free memory:</td>\n",
       "<td>3.399 Gb</td></tr>\n",
       "<tr><td>H2O cluster total cores:</td>\n",
       "<td>8</td></tr>\n",
       "<tr><td>H2O cluster allowed cores:</td>\n",
       "<td>8</td></tr>\n",
       "<tr><td>H2O cluster status:</td>\n",
       "<td>locked, healthy</td></tr>\n",
       "<tr><td>H2O connection url:</td>\n",
       "<td>http://localhost:54321</td></tr>\n",
       "<tr><td>H2O connection proxy:</td>\n",
       "<td>None</td></tr>\n",
       "<tr><td>Python version:</td>\n",
       "<td>3.5.2 final</td></tr></table></div>"
      ],
      "text/plain": [
       "--------------------------  ----------------------\n",
       "H2O cluster uptime:         2 mins 11 secs\n",
       "H2O cluster version:        3.11.0.99999\n",
       "H2O cluster version age:    3 minutes\n",
       "H2O cluster name:           pasha\n",
       "H2O cluster total nodes:    1\n",
       "H2O cluster free memory:    3.399 Gb\n",
       "H2O cluster total cores:    8\n",
       "H2O cluster allowed cores:  8\n",
       "H2O cluster status:         locked, healthy\n",
       "H2O connection url:         http://localhost:54321\n",
       "H2O connection proxy:\n",
       "Python version:             3.5.2 final\n",
       "--------------------------  ----------------------"
      ]
     },
     "metadata": {},
     "output_type": "display_data"
    }
   ],
   "source": [
    "# Explore a typical Data Science workflow with H2O and Python\n",
    "#\n",
    "# Goal: assist the manager of CitiBike of NYC to load-balance the bicycles\n",
    "# across the CitiBike network of stations, by predicting the number of bike\n",
    "# trips taken from the station every day.  Use 10 million rows of historical\n",
    "# data, and eventually add weather data.\n",
    "\n",
    "\n",
    "# Connect to a cluster\n",
    "h2o.init()"
   ]
  },
  {
   "cell_type": "code",
   "execution_count": 3,
   "metadata": {
    "collapsed": true
   },
   "outputs": [],
   "source": [
    "from h2o.utils.shared_utils import _locate # private function. used to find files within h2o git project directory.\n",
    "\n",
    "# Set this to True if you want to fetch the data directly from S3.\n",
    "# This is useful if your cluster is running in EC2.\n",
    "data_source_is_s3 = False\n",
    "\n",
    "def mylocate(s):\n",
    "    if data_source_is_s3:\n",
    "        return \"s3n://h2o-public-test-data/\" + s\n",
    "    else:\n",
    "        return _locate(s)"
   ]
  },
  {
   "cell_type": "code",
   "execution_count": 4,
   "metadata": {
    "collapsed": false
   },
   "outputs": [
    {
     "name": "stdout",
     "output_type": "stream",
     "text": [
      "Import and Parse bike data\n",
      "Parse progress: |█████████████████████████████████████████████████████████| 100%\n"
     ]
    }
   ],
   "source": [
    "# Pick either the big or the small demo.\n",
    "# Big data is 10M rows\n",
    "small_test = [mylocate(\"bigdata/laptop/citibike-nyc/2013-10.csv\")]\n",
    "big_test =   [mylocate(\"bigdata/laptop/citibike-nyc/2013-07.csv\"),\n",
    "              mylocate(\"bigdata/laptop/citibike-nyc/2013-08.csv\"),\n",
    "              mylocate(\"bigdata/laptop/citibike-nyc/2013-09.csv\"),\n",
    "              mylocate(\"bigdata/laptop/citibike-nyc/2013-10.csv\"),\n",
    "              mylocate(\"bigdata/laptop/citibike-nyc/2013-11.csv\"),\n",
    "              mylocate(\"bigdata/laptop/citibike-nyc/2013-12.csv\"),\n",
    "              mylocate(\"bigdata/laptop/citibike-nyc/2014-01.csv\"),\n",
    "              mylocate(\"bigdata/laptop/citibike-nyc/2014-02.csv\"),\n",
    "              mylocate(\"bigdata/laptop/citibike-nyc/2014-03.csv\"),\n",
    "              mylocate(\"bigdata/laptop/citibike-nyc/2014-04.csv\"),\n",
    "              mylocate(\"bigdata/laptop/citibike-nyc/2014-05.csv\"),\n",
    "              mylocate(\"bigdata/laptop/citibike-nyc/2014-06.csv\"),\n",
    "              mylocate(\"bigdata/laptop/citibike-nyc/2014-07.csv\"),\n",
    "              mylocate(\"bigdata/laptop/citibike-nyc/2014-08.csv\")]\n",
    "\n",
    "# ----------\n",
    "\n",
    "# 1- Load data - 1 row per bicycle trip.  Has columns showing the start and end\n",
    "# station, trip duration and trip start time and day.  The larger dataset\n",
    "# totals about 10 million rows\n",
    "print(\"Import and Parse bike data\")\n",
    "data = h2o.import_file(path=big_test)"
   ]
  },
  {
   "cell_type": "code",
   "execution_count": 5,
   "metadata": {
    "collapsed": false
   },
   "outputs": [
    {
     "name": "stdout",
     "output_type": "stream",
     "text": [
      "Rows:10407546\n",
      "Cols:16\n",
      "\n",
      "\n"
     ]
    },
    {
     "data": {
      "text/html": [
       "<table>\n",
       "<thead>\n",
       "<tr><th>       </th><th>tripduration     </th><th>starttime          </th><th>stoptime           </th><th>start station id  </th><th>start station name     </th><th>start station latitude  </th><th>start station longitude  </th><th>end station id   </th><th>end station name           </th><th>end station latitude  </th><th>end station longitude  </th><th>bikeid            </th><th>usertype  </th><th>birth year        </th><th>gender            </th><th>Days              </th></tr>\n",
       "</thead>\n",
       "<tbody>\n",
       "<tr><td>type   </td><td>int              </td><td>time               </td><td>time               </td><td>int               </td><td>enum                   </td><td>real                    </td><td>real                     </td><td>int              </td><td>enum                       </td><td>real                  </td><td>real                   </td><td>int               </td><td>enum      </td><td>int               </td><td>int               </td><td>int               </td></tr>\n",
       "<tr><td>mins   </td><td>60.0             </td><td>1372636800000.0    </td><td>1372637042000.0    </td><td>72.0              </td><td>                       </td><td>40.680342423            </td><td>-74.01713445             </td><td>72.0             </td><td>                           </td><td>40.680342423          </td><td>-74.01713445           </td><td>14529.0           </td><td>          </td><td>1899.0            </td><td>0.0               </td><td>15887.0           </td></tr>\n",
       "<tr><td>mean   </td><td>868.9687260570365</td><td>1390974078989.41   </td><td>1390974947925.281  </td><td>444.85883540654095</td><td>                       </td><td>40.734381982315185      </td><td>-73.99105701820217       </td><td>445.2597855440662</td><td>                           </td><td>40.73408688953741     </td><td>-73.99117077985979     </td><td>17895.66183584484 </td><td>          </td><td>1975.7989239404546</td><td>1.0841465413652758</td><td>16098.629260922817</td></tr>\n",
       "<tr><td>maxs   </td><td>6250750.0        </td><td>1409529587000.0    </td><td>1409538405000.0    </td><td>3002.0            </td><td>                       </td><td>40.771522000000004      </td><td>-73.9500479759           </td><td>3002.0           </td><td>                           </td><td>40.771522000000004    </td><td>-73.9500479759         </td><td>21689.0           </td><td>          </td><td>1998.0            </td><td>2.0               </td><td>16313.0           </td></tr>\n",
       "<tr><td>sigma  </td><td>2985.105405320145</td><td>11806736501.937712 </td><td>11806714056.539324 </td><td>355.7559897645294 </td><td>                       </td><td>0.01971005087361252     </td><td>0.012345332018503775     </td><td>360.0703808439832</td><td>                           </td><td>0.019730957863268683  </td><td>0.012431186159808448   </td><td>1938.8051788415307</td><td>          </td><td>11.132784904986751</td><td>0.5630197777940005</td><td>136.6534484381553 </td></tr>\n",
       "<tr><td>zeros  </td><td>0                </td><td>0                  </td><td>0                  </td><td>0                 </td><td>                       </td><td>0                       </td><td>0                        </td><td>0                </td><td>                           </td><td>0                     </td><td>0                      </td><td>0                 </td><td>          </td><td>0                 </td><td>1248517           </td><td>0                 </td></tr>\n",
       "<tr><td>missing</td><td>0                </td><td>0                  </td><td>0                  </td><td>0                 </td><td>0                      </td><td>0                       </td><td>0                        </td><td>0                </td><td>0                          </td><td>0                     </td><td>0                      </td><td>0                 </td><td>0         </td><td>1247644           </td><td>0                 </td><td>0                 </td></tr>\n",
       "<tr><td>0      </td><td>634.0            </td><td>2013-07-01 00:00:00</td><td>2013-07-01 00:10:34</td><td>164.0             </td><td>E 47 St & 2 Ave        </td><td>40.75323098             </td><td>-73.97032517             </td><td>504.0            </td><td>1 Ave & E 15 St            </td><td>40.732218530000004    </td><td>-73.98165557           </td><td>16950.0           </td><td>Customer  </td><td>nan               </td><td>0.0               </td><td>15887.0           </td></tr>\n",
       "<tr><td>1      </td><td>1547.0           </td><td>2013-07-01 00:00:02</td><td>2013-07-01 00:25:49</td><td>388.0             </td><td>W 26 St & 10 Ave       </td><td>40.749717753000006      </td><td>-74.002950346            </td><td>459.0            </td><td>W 20 St & 11 Ave           </td><td>40.746745             </td><td>-74.007756             </td><td>19816.0           </td><td>Customer  </td><td>nan               </td><td>0.0               </td><td>15887.0           </td></tr>\n",
       "<tr><td>2      </td><td>178.0            </td><td>2013-07-01 00:01:04</td><td>2013-07-01 00:04:02</td><td>293.0             </td><td>Lafayette St & E 8 St  </td><td>40.73028666             </td><td>-73.9907647              </td><td>237.0            </td><td>E 11 St & 2 Ave            </td><td>40.730473090000004    </td><td>-73.98672378           </td><td>14548.0           </td><td>Subscriber</td><td>1980.0            </td><td>2.0               </td><td>15887.0           </td></tr>\n",
       "<tr><td>3      </td><td>1580.0           </td><td>2013-07-01 00:01:06</td><td>2013-07-01 00:27:26</td><td>531.0             </td><td>Forsyth St & Broome St </td><td>40.71893904             </td><td>-73.99266288             </td><td>499.0            </td><td>Broadway & W 60 St         </td><td>40.76915505           </td><td>-73.98191841           </td><td>16063.0           </td><td>Customer  </td><td>nan               </td><td>0.0               </td><td>15887.0           </td></tr>\n",
       "<tr><td>4      </td><td>757.0            </td><td>2013-07-01 00:01:10</td><td>2013-07-01 00:13:47</td><td>382.0             </td><td>University Pl & E 14 St</td><td>40.73492695             </td><td>-73.99200509             </td><td>410.0            </td><td>Suffolk St & Stanton St    </td><td>40.72066442           </td><td>-73.98517977           </td><td>19213.0           </td><td>Subscriber</td><td>1986.0            </td><td>1.0               </td><td>15887.0           </td></tr>\n",
       "<tr><td>5      </td><td>861.0            </td><td>2013-07-01 00:01:23</td><td>2013-07-01 00:15:44</td><td>511.0             </td><td>E 14 St & Avenue B     </td><td>40.72938685             </td><td>-73.97772429             </td><td>454.0            </td><td>E 51 St & 1 Ave            </td><td>40.75455731           </td><td>-73.96592976000001     </td><td>16223.0           </td><td>Subscriber</td><td>1988.0            </td><td>1.0               </td><td>15887.0           </td></tr>\n",
       "<tr><td>6      </td><td>550.0            </td><td>2013-07-01 00:01:59</td><td>2013-07-01 00:11:09</td><td>293.0             </td><td>Lafayette St & E 8 St  </td><td>40.73028666             </td><td>-73.9907647              </td><td>394.0            </td><td>E 9 St & Avenue C          </td><td>40.72521311           </td><td>-73.97768752           </td><td>16746.0           </td><td>Customer  </td><td>nan               </td><td>0.0               </td><td>15887.0           </td></tr>\n",
       "<tr><td>7      </td><td>288.0            </td><td>2013-07-01 00:02:16</td><td>2013-07-01 00:07:04</td><td>224.0             </td><td>Spruce St & Nassau St  </td><td>40.71146364             </td><td>-74.00552427             </td><td>376.0            </td><td>John St & William St       </td><td>40.70862144           </td><td>-74.00722156           </td><td>16062.0           </td><td>Subscriber</td><td>1985.0            </td><td>2.0               </td><td>15887.0           </td></tr>\n",
       "<tr><td>8      </td><td>766.0            </td><td>2013-07-01 00:02:16</td><td>2013-07-01 00:15:02</td><td>432.0             </td><td>E 7 St & Avenue A      </td><td>40.72621788             </td><td>-73.98379855             </td><td>336.0            </td><td>Sullivan St & Washington Sq</td><td>40.730477470000004    </td><td>-73.99906065           </td><td>17963.0           </td><td>Subscriber</td><td>1980.0            </td><td>2.0               </td><td>15887.0           </td></tr>\n",
       "<tr><td>9      </td><td>773.0            </td><td>2013-07-01 00:02:23</td><td>2013-07-01 00:15:16</td><td>173.0             </td><td>Broadway & W 49 St     </td><td>40.76064679             </td><td>-73.98442659             </td><td>479.0            </td><td>9 Ave & W 45 St            </td><td>40.760192520000004    </td><td>-73.9912551            </td><td>19365.0           </td><td>Subscriber</td><td>1989.0            </td><td>1.0               </td><td>15887.0           </td></tr>\n",
       "</tbody>\n",
       "</table>"
      ]
     },
     "metadata": {},
     "output_type": "display_data"
    }
   ],
   "source": [
    "# ----------\n",
    "\n",
    "# 2- light data munging: group the bike starts per-day, converting the 10M rows\n",
    "# of trips to about 140,000 station&day combos - predicting the number of trip\n",
    "# starts per-station-per-day.\n",
    "\n",
    "# Convert start time to: Day since the Epoch\n",
    "startime = data[\"starttime\"]\n",
    "secsPerDay = 1000 * 3600 * 24\n",
    "data[\"Days\"] = (startime.asnumeric() / secsPerDay).floor()\n",
    "data.describe()"
   ]
  },
  {
   "cell_type": "code",
   "execution_count": 6,
   "metadata": {
    "collapsed": false
   },
   "outputs": [
    {
     "data": {
      "text/html": [
       "<table>\n",
       "<thead>\n",
       "<tr><th style=\"text-align: right;\">  Days</th><th>start station name  </th><th style=\"text-align: right;\">  bikes</th></tr>\n",
       "</thead>\n",
       "<tbody>\n",
       "<tr><td style=\"text-align: right;\"> 15887</td><td>1 Ave & E 15 St     </td><td style=\"text-align: right;\">     74</td></tr>\n",
       "<tr><td style=\"text-align: right;\"> 15887</td><td>1 Ave & E 18 St     </td><td style=\"text-align: right;\">     51</td></tr>\n",
       "<tr><td style=\"text-align: right;\"> 15887</td><td>1 Ave & E 30 St     </td><td style=\"text-align: right;\">     66</td></tr>\n",
       "<tr><td style=\"text-align: right;\"> 15887</td><td>1 Ave & E 44 St     </td><td style=\"text-align: right;\">     56</td></tr>\n",
       "<tr><td style=\"text-align: right;\"> 15887</td><td>10 Ave & W 28 St    </td><td style=\"text-align: right;\">     51</td></tr>\n",
       "<tr><td style=\"text-align: right;\"> 15887</td><td>11 Ave & W 27 St    </td><td style=\"text-align: right;\">     65</td></tr>\n",
       "<tr><td style=\"text-align: right;\"> 15887</td><td>11 Ave & W 41 St    </td><td style=\"text-align: right;\">     53</td></tr>\n",
       "<tr><td style=\"text-align: right;\"> 15887</td><td>12 Ave & W 40 St    </td><td style=\"text-align: right;\">     36</td></tr>\n",
       "<tr><td style=\"text-align: right;\"> 15887</td><td>2 Ave & E 31 St     </td><td style=\"text-align: right;\">     96</td></tr>\n",
       "<tr><td style=\"text-align: right;\"> 15887</td><td>2 Ave & E 58 St     </td><td style=\"text-align: right;\">    103</td></tr>\n",
       "</tbody>\n",
       "</table>"
      ]
     },
     "metadata": {},
     "output_type": "display_data"
    },
    {
     "name": "stdout",
     "output_type": "stream",
     "text": [
      "Rows:138795\n",
      "Cols:3\n",
      "\n",
      "\n"
     ]
    },
    {
     "data": {
      "text/html": [
       "<table>\n",
       "<thead>\n",
       "<tr><th>       </th><th>Days              </th><th>start station name  </th><th>bikes            </th></tr>\n",
       "</thead>\n",
       "<tbody>\n",
       "<tr><td>type   </td><td>int               </td><td>enum                </td><td>int              </td></tr>\n",
       "<tr><td>mins   </td><td>15887.0           </td><td>                    </td><td>1.0              </td></tr>\n",
       "<tr><td>mean   </td><td>16099.488166000216</td><td>                    </td><td>74.98502107424619</td></tr>\n",
       "<tr><td>maxs   </td><td>16313.0           </td><td>                    </td><td>668.0            </td></tr>\n",
       "<tr><td>sigma  </td><td>123.39632568805678</td><td>                    </td><td>64.73186265524505</td></tr>\n",
       "<tr><td>zeros  </td><td>0                 </td><td>                    </td><td>0                </td></tr>\n",
       "<tr><td>missing</td><td>0                 </td><td>0                   </td><td>0                </td></tr>\n",
       "<tr><td>0      </td><td>15887.0           </td><td>1 Ave & E 15 St     </td><td>74.0             </td></tr>\n",
       "<tr><td>1      </td><td>15887.0           </td><td>1 Ave & E 18 St     </td><td>51.0             </td></tr>\n",
       "<tr><td>2      </td><td>15887.0           </td><td>1 Ave & E 30 St     </td><td>66.0             </td></tr>\n",
       "<tr><td>3      </td><td>15887.0           </td><td>1 Ave & E 44 St     </td><td>56.0             </td></tr>\n",
       "<tr><td>4      </td><td>15887.0           </td><td>10 Ave & W 28 St    </td><td>51.0             </td></tr>\n",
       "<tr><td>5      </td><td>15887.0           </td><td>11 Ave & W 27 St    </td><td>65.0             </td></tr>\n",
       "<tr><td>6      </td><td>15887.0           </td><td>11 Ave & W 41 St    </td><td>53.0             </td></tr>\n",
       "<tr><td>7      </td><td>15887.0           </td><td>12 Ave & W 40 St    </td><td>36.0             </td></tr>\n",
       "<tr><td>8      </td><td>15887.0           </td><td>2 Ave & E 31 St     </td><td>96.0             </td></tr>\n",
       "<tr><td>9      </td><td>15887.0           </td><td>2 Ave & E 58 St     </td><td>103.0            </td></tr>\n",
       "</tbody>\n",
       "</table>"
      ]
     },
     "metadata": {},
     "output_type": "display_data"
    },
    {
     "data": {
      "text/plain": [
       "[138795, 3]"
      ]
     },
     "execution_count": 6,
     "metadata": {},
     "output_type": "execute_result"
    }
   ],
   "source": [
    "# Now do a monster Group-By.  Count bike starts per-station per-day.  Ends up\n",
    "# with about 340 stations times 400 days (140,000 rows).  This is what we want\n",
    "# to predict.\n",
    "grouped = data.group_by([\"Days\",\"start station name\"])\n",
    "bpd = grouped.count().get_frame() # Compute bikes-per-day\n",
    "bpd.set_name(2,\"bikes\")\n",
    "bpd.show()\n",
    "bpd.describe()\n",
    "bpd.dim"
   ]
  },
  {
   "cell_type": "code",
   "execution_count": 7,
   "metadata": {
    "collapsed": false,
    "scrolled": true
   },
   "outputs": [
    {
     "name": "stdout",
     "output_type": "stream",
     "text": [
      "Quantiles of bikes-per-day\n"
     ]
    },
    {
     "data": {
      "text/html": [
       "<table>\n",
       "<thead>\n",
       "<tr><th style=\"text-align: right;\">  Probs</th><th style=\"text-align: right;\">  bikesQuantiles</th></tr>\n",
       "</thead>\n",
       "<tbody>\n",
       "<tr><td style=\"text-align: right;\">  0.01 </td><td style=\"text-align: right;\">               2</td></tr>\n",
       "<tr><td style=\"text-align: right;\">  0.1  </td><td style=\"text-align: right;\">              11</td></tr>\n",
       "<tr><td style=\"text-align: right;\">  0.25 </td><td style=\"text-align: right;\">              26</td></tr>\n",
       "<tr><td style=\"text-align: right;\">  0.333</td><td style=\"text-align: right;\">              35</td></tr>\n",
       "<tr><td style=\"text-align: right;\">  0.5  </td><td style=\"text-align: right;\">              59</td></tr>\n",
       "<tr><td style=\"text-align: right;\">  0.667</td><td style=\"text-align: right;\">              89</td></tr>\n",
       "<tr><td style=\"text-align: right;\">  0.75 </td><td style=\"text-align: right;\">             107</td></tr>\n",
       "<tr><td style=\"text-align: right;\">  0.9  </td><td style=\"text-align: right;\">             158</td></tr>\n",
       "<tr><td style=\"text-align: right;\">  0.99 </td><td style=\"text-align: right;\">             293</td></tr>\n",
       "</tbody>\n",
       "</table>"
      ]
     },
     "metadata": {},
     "output_type": "display_data"
    }
   ],
   "source": [
    "# Quantiles: the data is fairly unbalanced; some station/day combos are wildly\n",
    "# more popular than others.\n",
    "print(\"Quantiles of bikes-per-day\")\n",
    "bpd[\"bikes\"].quantile().show()"
   ]
  },
  {
   "cell_type": "code",
   "execution_count": 8,
   "metadata": {
    "collapsed": false
   },
   "outputs": [
    {
     "name": "stdout",
     "output_type": "stream",
     "text": [
      "Bikes-Per-Day\n",
      "Rows:138795\n",
      "Cols:5\n",
      "\n",
      "\n"
     ]
    },
    {
     "data": {
      "text/html": [
       "<table>\n",
       "<thead>\n",
       "<tr><th>       </th><th>Days              </th><th>start station name  </th><th>bikes            </th><th>Month  </th><th>DayOfWeek  </th></tr>\n",
       "</thead>\n",
       "<tbody>\n",
       "<tr><td>type   </td><td>int               </td><td>enum                </td><td>int              </td><td>enum   </td><td>enum       </td></tr>\n",
       "<tr><td>mins   </td><td>15887.0           </td><td>                    </td><td>1.0              </td><td>       </td><td>           </td></tr>\n",
       "<tr><td>mean   </td><td>16099.488166000216</td><td>                    </td><td>74.98502107424619</td><td>       </td><td>           </td></tr>\n",
       "<tr><td>maxs   </td><td>16313.0           </td><td>                    </td><td>668.0            </td><td>       </td><td>           </td></tr>\n",
       "<tr><td>sigma  </td><td>123.39632568805678</td><td>                    </td><td>64.73186265524505</td><td>       </td><td>           </td></tr>\n",
       "<tr><td>zeros  </td><td>0                 </td><td>                    </td><td>0                </td><td>       </td><td>           </td></tr>\n",
       "<tr><td>missing</td><td>0                 </td><td>0                   </td><td>0                </td><td>0      </td><td>0          </td></tr>\n",
       "<tr><td>0      </td><td>15887.0           </td><td>1 Ave & E 15 St     </td><td>74.0             </td><td>7      </td><td>Mon        </td></tr>\n",
       "<tr><td>1      </td><td>15887.0           </td><td>1 Ave & E 18 St     </td><td>51.0             </td><td>7      </td><td>Mon        </td></tr>\n",
       "<tr><td>2      </td><td>15887.0           </td><td>1 Ave & E 30 St     </td><td>66.0             </td><td>7      </td><td>Mon        </td></tr>\n",
       "<tr><td>3      </td><td>15887.0           </td><td>1 Ave & E 44 St     </td><td>56.0             </td><td>7      </td><td>Mon        </td></tr>\n",
       "<tr><td>4      </td><td>15887.0           </td><td>10 Ave & W 28 St    </td><td>51.0             </td><td>7      </td><td>Mon        </td></tr>\n",
       "<tr><td>5      </td><td>15887.0           </td><td>11 Ave & W 27 St    </td><td>65.0             </td><td>7      </td><td>Mon        </td></tr>\n",
       "<tr><td>6      </td><td>15887.0           </td><td>11 Ave & W 41 St    </td><td>53.0             </td><td>7      </td><td>Mon        </td></tr>\n",
       "<tr><td>7      </td><td>15887.0           </td><td>12 Ave & W 40 St    </td><td>36.0             </td><td>7      </td><td>Mon        </td></tr>\n",
       "<tr><td>8      </td><td>15887.0           </td><td>2 Ave & E 31 St     </td><td>96.0             </td><td>7      </td><td>Mon        </td></tr>\n",
       "<tr><td>9      </td><td>15887.0           </td><td>2 Ave & E 58 St     </td><td>103.0            </td><td>7      </td><td>Mon        </td></tr>\n",
       "</tbody>\n",
       "</table>"
      ]
     },
     "metadata": {},
     "output_type": "display_data"
    }
   ],
   "source": [
    "# A little feature engineering\n",
    "# Add in month-of-year (seasonality; fewer bike rides in winter than summer)\n",
    "secs = bpd[\"Days\"]*secsPerDay\n",
    "bpd[\"Month\"]     = secs.month().asfactor()\n",
    "# Add in day-of-week (work-week; more bike rides on Sunday than Monday)\n",
    "bpd[\"DayOfWeek\"] = secs.dayOfWeek()\n",
    "print(\"Bikes-Per-Day\")\n",
    "bpd.describe()"
   ]
  },
  {
   "cell_type": "code",
   "execution_count": 9,
   "metadata": {
    "collapsed": false
   },
   "outputs": [],
   "source": [
    "# ----------\n",
    "# 3- Fit a model on train; using test as validation\n",
    "\n",
    "# Function for doing class test/train/holdout split\n",
    "def split_fit_predict(data):\n",
    "  global gbm0,drf0,glm0,dl0\n",
    "  # Classic Test/Train split\n",
    "  r = data['Days'].runif()   # Random UNIForm numbers, one per row\n",
    "  train = data[  r  < 0.6]\n",
    "  test  = data[(0.6 <= r) & (r < 0.9)]\n",
    "  hold  = data[ 0.9 <= r ]\n",
    "  print(\"Training data has\",train.ncol,\"columns and\",train.nrow,\"rows, test has\",test.nrow,\"rows, holdout has\",hold.nrow)\n",
    "  bike_names_x = data.names\n",
    "  bike_names_x.remove(\"bikes\")\n",
    "  \n",
    "  # Run GBM\n",
    "  s = time.time()\n",
    "  \n",
    "  gbm0 = H2OGradientBoostingEstimator(ntrees=500, # 500 works well\n",
    "                                      max_depth=6,\n",
    "                                      learn_rate=0.1)\n",
    "    \n",
    "\n",
    "  gbm0.train(x               =bike_names_x,\n",
    "             y               =\"bikes\",\n",
    "             training_frame  =train,\n",
    "             validation_frame=test)\n",
    "\n",
    "  gbm_elapsed = time.time() - s\n",
    "\n",
    "  # Run DRF\n",
    "  s = time.time()\n",
    "    \n",
    "  drf0 = H2ORandomForestEstimator(ntrees=250, max_depth=30)\n",
    "\n",
    "  drf0.train(x               =bike_names_x,\n",
    "             y               =\"bikes\",\n",
    "             training_frame  =train,\n",
    "             validation_frame=test)\n",
    "    \n",
    "  drf_elapsed = time.time() - s \n",
    "    \n",
    "    \n",
    "  # Run GLM\n",
    "  if \"WC1\" in bike_names_x: bike_names_x.remove(\"WC1\")\n",
    "  s = time.time()\n",
    "\n",
    "  glm0 = H2OGeneralizedLinearEstimator(Lambda=[1e-5], family=\"poisson\")\n",
    "    \n",
    "  glm0.train(x               =bike_names_x,\n",
    "             y               =\"bikes\",\n",
    "             training_frame  =train,\n",
    "             validation_frame=test)\n",
    "\n",
    "  glm_elapsed = time.time() - s\n",
    "  \n",
    "  # Run DL\n",
    "  s = time.time()\n",
    "\n",
    "  dl0 = H2ODeepLearningEstimator(hidden=[50,50,50,50], epochs=50)\n",
    "    \n",
    "  dl0.train(x               =bike_names_x,\n",
    "            y               =\"bikes\",\n",
    "            training_frame  =train,\n",
    "            validation_frame=test)\n",
    "    \n",
    "  dl_elapsed = time.time() - s\n",
    "  \n",
    "  # ----------\n",
    "  # 4- Score on holdout set & report\n",
    "  train_mse_gbm = gbm0.model_performance(train).mse()\n",
    "  test_mse_gbm  = gbm0.model_performance(test ).mse()\n",
    "  hold_mse_gbm  = gbm0.model_performance(hold ).mse()\n",
    "#   print \"GBM mse TRAIN=\",train_mse_gbm,\", mse TEST=\",test_mse_gbm,\", mse HOLDOUT=\",hold_mse_gbm\n",
    "  \n",
    "  train_mse_drf = drf0.model_performance(train).mse()\n",
    "  test_mse_drf  = drf0.model_performance(test ).mse()\n",
    "  hold_mse_drf  = drf0.model_performance(hold ).mse()\n",
    "#   print \"DRF mse TRAIN=\",train_mse_drf,\", mse TEST=\",test_mse_drf,\", mse HOLDOUT=\",hold_mse_drf\n",
    "  \n",
    "  train_mse_glm = glm0.model_performance(train).mse()\n",
    "  test_mse_glm  = glm0.model_performance(test ).mse()\n",
    "  hold_mse_glm  = glm0.model_performance(hold ).mse()\n",
    "#   print \"GLM mse TRAIN=\",train_mse_glm,\", mse TEST=\",test_mse_glm,\", mse HOLDOUT=\",hold_mse_glm\n",
    "    \n",
    "  train_mse_dl = dl0.model_performance(train).mse()\n",
    "  test_mse_dl  = dl0.model_performance(test ).mse()\n",
    "  hold_mse_dl  = dl0.model_performance(hold ).mse()\n",
    "#   print \" DL mse TRAIN=\",train_mse_dl,\", mse TEST=\",test_mse_dl,\", mse HOLDOUT=\",hold_mse_dl\n",
    "    \n",
    "  # make a pretty HTML table printout of the results\n",
    "\n",
    "  header = [\"Model\", \"mse TRAIN\", \"mse TEST\", \"mse HOLDOUT\", \"Model Training Time (s)\"]\n",
    "  table  = [\n",
    "            [\"GBM\", train_mse_gbm, test_mse_gbm, hold_mse_gbm, round(gbm_elapsed,3)],\n",
    "            [\"DRF\", train_mse_drf, test_mse_drf, hold_mse_drf, round(drf_elapsed,3)],\n",
    "            [\"GLM\", train_mse_glm, test_mse_glm, hold_mse_glm, round(glm_elapsed,3)],\n",
    "            [\"DL \", train_mse_dl,  test_mse_dl,  hold_mse_dl , round(dl_elapsed,3) ],\n",
    "           ]\n",
    "  return h2o.display.H2OTableDisplay(table, columns_labels=header)\n",
    "  # --------------"
   ]
  },
  {
   "cell_type": "code",
   "execution_count": 10,
   "metadata": {
    "collapsed": false
   },
   "outputs": [
    {
     "name": "stdout",
     "output_type": "stream",
     "text": [
      "Training data has 5 columns and 83197 rows, test has 41792 rows, holdout has 13806\n",
      "gbm Model Build progress: |███████████████████████████████████████████████| 100%\n",
      "drf Model Build progress: |███████████████████████████████████████████████| 100%\n",
      "glm Model Build progress: |███████████████████████████████████████████████| 100%\n",
      "deeplearning Model Build progress: |██████████████████████████████████████| 100%\n"
     ]
    },
    {
     "data": {
      "text/html": [
       "<div style=\"overflow:auto\"><table style=\"width:50%\"><tr><td><b>Model</b></td>\n",
       "<td><b>mse TRAIN</b></td>\n",
       "<td><b>mse TEST</b></td>\n",
       "<td><b>mse HOLDOUT</b></td>\n",
       "<td><b>Model Training Time (s)</b></td></tr>\n",
       "<tr><td>GBM</td>\n",
       "<td>144.1978206</td>\n",
       "<td>337.7233790</td>\n",
       "<td>324.8676731</td>\n",
       "<td>12.454</td></tr>\n",
       "<tr><td>DRF</td>\n",
       "<td>599.8996508</td>\n",
       "<td>723.9889710</td>\n",
       "<td>685.0177303</td>\n",
       "<td>19.764</td></tr>\n",
       "<tr><td>GLM</td>\n",
       "<td>967.1714929</td>\n",
       "<td>957.3634230</td>\n",
       "<td>938.1439730</td>\n",
       "<td>0.454</td></tr>\n",
       "<tr><td>DL </td>\n",
       "<td>529.4687702</td>\n",
       "<td>622.4935714</td>\n",
       "<td>607.3274025</td>\n",
       "<td>59.935</td></tr></table></div>"
      ],
      "text/plain": [
       "Model      mse TRAIN    mse TEST    mse HOLDOUT    Model Training Time (s)\n",
       "-------  -----------  ----------  -------------  -------------------------\n",
       "GBM          144.198     337.723        324.868                     12.454\n",
       "DRF          599.9       723.989        685.018                     19.764\n",
       "GLM          967.171     957.363        938.144                      0.454\n",
       "DL           529.469     622.494        607.327                     59.935"
      ]
     },
     "metadata": {},
     "output_type": "display_data"
    }
   ],
   "source": [
    "# Split the data (into test & train), fit some models and predict on the holdout data\n",
    "split_fit_predict(bpd)\n",
    "# Here we see an r^2 of 0.91 for GBM, and 0.71 for GLM.  This means given just\n",
    "# the station, the month, and the day-of-week we can predict 90% of the\n",
    "# variance of the bike-trip-starts."
   ]
  },
  {
   "cell_type": "code",
   "execution_count": 11,
   "metadata": {
    "collapsed": false
   },
   "outputs": [
    {
     "name": "stdout",
     "output_type": "stream",
     "text": [
      "Parse progress: |█████████████████████████████████████████████████████████| 100%\n",
      "Rows:17520\n",
      "Cols:50\n",
      "\n",
      "\n"
     ]
    },
    {
     "data": {
      "text/html": [
       "<table>\n",
       "<thead>\n",
       "<tr><th>       </th><th>Year Local       </th><th>Month Local       </th><th>Day Local        </th><th>Hour Local        </th><th>Year UTC          </th><th>Month UTC        </th><th>Day UTC          </th><th>Hour UTC          </th><th>Cavok Reported  </th><th>Cloud Ceiling (m)  </th><th>Cloud Cover Fraction  </th><th>Cloud Cover Fraction 1  </th><th>Cloud Cover Fraction 2  </th><th>Cloud Cover Fraction 3  </th><th>Cloud Cover Fraction 4  </th><th>Cloud Cover Fraction 5  </th><th>Cloud Cover Fraction 6  </th><th>Cloud Height (m) 1  </th><th>Cloud Height (m) 2  </th><th>Cloud Height (m) 3  </th><th>Cloud Height (m) 4  </th><th>Cloud Height (m) 5  </th><th>Cloud Height (m) 6  </th><th>Dew Point (C)      </th><th>Humidity Fraction  </th><th>Precipitation One Hour (mm)  </th><th>Pressure Altimeter (mbar)  </th><th>Pressure Sea Level (mbar)  </th><th>Pressure Station (mbar)  </th><th>Snow Depth (cm)  </th><th>Temperature (C)    </th><th>Visibility (km)   </th><th>Weather Code 1   </th><th>Weather Code 1/ Description  </th><th>Weather Code 2    </th><th>Weather Code 2/ Description  </th><th>Weather Code 3    </th><th>Weather Code 3/ Description  </th><th>Weather Code 4    </th><th>Weather Code 4/ Description  </th><th>Weather Code 5  </th><th>Weather Code 5/ Description  </th><th>Weather Code 6  </th><th>Weather Code 6/ Description  </th><th>Weather Code Most Severe / Icon Code  </th><th>Weather Code Most Severe  </th><th>Weather Code Most Severe / Description  </th><th>Wind Direction (degrees)  </th><th>Wind Gust (m/s)   </th><th>Wind Speed (m/s)  </th></tr>\n",
       "</thead>\n",
       "<tbody>\n",
       "<tr><td>type   </td><td>int              </td><td>int               </td><td>int              </td><td>int               </td><td>int               </td><td>int              </td><td>int              </td><td>int               </td><td>int             </td><td>real               </td><td>real                  </td><td>real                    </td><td>real                    </td><td>real                    </td><td>int                     </td><td>int                     </td><td>int                     </td><td>real                </td><td>real                </td><td>real                </td><td>int                 </td><td>int                 </td><td>int                 </td><td>real               </td><td>real               </td><td>real                         </td><td>real                       </td><td>int                        </td><td>int                      </td><td>int              </td><td>real               </td><td>real              </td><td>int              </td><td>enum                         </td><td>int               </td><td>enum                         </td><td>int               </td><td>enum                         </td><td>int               </td><td>enum                         </td><td>int             </td><td>enum                         </td><td>int             </td><td>enum                         </td><td>int                                   </td><td>int                       </td><td>enum                                    </td><td>int                       </td><td>real              </td><td>real              </td></tr>\n",
       "<tr><td>mins   </td><td>2013.0           </td><td>1.0               </td><td>1.0              </td><td>0.0               </td><td>2013.0            </td><td>1.0              </td><td>1.0              </td><td>0.0               </td><td>0.0             </td><td>61.0               </td><td>0.0                   </td><td>0.0                     </td><td>0.25                    </td><td>0.5                     </td><td>NaN                     </td><td>NaN                     </td><td>NaN                     </td><td>60.96               </td><td>213.36              </td><td>365.76              </td><td>NaN                 </td><td>NaN                 </td><td>NaN                 </td><td>-26.700000000000003</td><td>0.12510000000000002</td><td>0.0                          </td><td>983.2949000000001          </td><td>NaN                        </td><td>NaN                      </td><td>NaN              </td><td>-15.600000000000001</td><td>0.001             </td><td>1.0              </td><td>                             </td><td>1.0               </td><td>                             </td><td>1.0               </td><td>                             </td><td>1.0               </td><td>                             </td><td>1.0             </td><td>                             </td><td>3.0             </td><td>                             </td><td>0.0                                   </td><td>1.0                       </td><td>                                        </td><td>10.0                      </td><td>7.2               </td><td>0.0               </td></tr>\n",
       "<tr><td>mean   </td><td>2013.5           </td><td>6.5260273972602745</td><td>15.72054794520548</td><td>11.500000000000004</td><td>2013.5005707762557</td><td>6.525114155251141</td><td>15.72134703196347</td><td>11.500114155251142</td><td>0.0             </td><td>1306.3119584569736 </td><td>0.4167424905220181    </td><td>0.3612073490813649      </td><td>0.8724453840732911      </td><td>0.9630456852791879      </td><td>0.0                     </td><td>0.0                     </td><td>0.0                     </td><td>1293.9822681953192  </td><td>1643.7390016566796  </td><td>2084.8938637563456  </td><td>0.0                 </td><td>0.0                 </td><td>0.0                 </td><td>4.313046467655992  </td><td>0.5967363891594567 </td><td>1.3799301075268817           </td><td>1017.8258144055944         </td><td>0.0                        </td><td>0.0                      </td><td>0.0              </td><td>12.578909070073914 </td><td>14.391442968202009</td><td>4.84251968503937 </td><td>                             </td><td>3.6586768935762226</td><td>                             </td><td>2.8466076696165192</td><td>                             </td><td>2.0114942528735633</td><td>                             </td><td>4.125           </td><td>                             </td><td>3.0             </td><td>                             </td><td>1.3784817351598173                    </td><td>4.84251968503937          </td><td>                                        </td><td>194.69525681985743        </td><td>9.422169480726348 </td><td>2.4103288784874057</td></tr>\n",
       "<tr><td>maxs   </td><td>2014.0           </td><td>12.0              </td><td>31.0             </td><td>23.0              </td><td>2015.0            </td><td>12.0             </td><td>31.0             </td><td>23.0              </td><td>0.0             </td><td>3657.6000000000004 </td><td>1.0                   </td><td>1.0                     </td><td>1.0                     </td><td>1.0                     </td><td>NaN                     </td><td>NaN                     </td><td>NaN                     </td><td>3657.5999           </td><td>3657.5999           </td><td>3657.5999           </td><td>NaN                 </td><td>NaN                 </td><td>NaN                 </td><td>24.400000000000002 </td><td>1.0                </td><td>26.924                       </td><td>1042.2113                  </td><td>NaN                        </td><td>NaN                      </td><td>NaN              </td><td>36.1               </td><td>16.0934           </td><td>60.0             </td><td>                             </td><td>60.0              </td><td>                             </td><td>36.0              </td><td>                             </td><td>27.0              </td><td>                             </td><td>27.0            </td><td>                             </td><td>3.0             </td><td>                             </td><td>16.0                                  </td><td>60.0                      </td><td>                                        </td><td>360.0                     </td><td>20.580000000000002</td><td>10.8              </td></tr>\n",
       "<tr><td>sigma  </td><td>0.500014270017262</td><td>3.447949723847773 </td><td>8.796498048523272</td><td>6.922384111875021 </td><td>0.50058441171579  </td><td>3.447824054577647</td><td>8.795614888684717</td><td>6.922301652025526 </td><td>0.0             </td><td>995.3398569657211  </td><td>0.4627208309925301    </td><td>0.42770569708047684     </td><td>0.19715569036704708     </td><td>0.08610155981044185     </td><td>-0.0                    </td><td>-0.0                    </td><td>-0.0                    </td><td>962.7430958537232   </td><td>916.7386134899587   </td><td>887.2158475113932   </td><td>-0.0                </td><td>-0.0                </td><td>-0.0                </td><td>10.973128209713666 </td><td>0.18579201186573496</td><td>2.5621512917896463           </td><td>7.464516971789659          </td><td>-0.0                       </td><td>-0.0                     </td><td>-0.0             </td><td>10.039673953091574 </td><td>3.6989362303340494</td><td>5.704865769828319</td><td>                             </td><td>6.133862539123368 </td><td>                             </td><td>5.805532863642112 </td><td>                             </td><td>3.1234084426128437</td><td>                             </td><td>6.15223536610881</td><td>                             </td><td>0.0             </td><td>                             </td><td>4.073860627017756                     </td><td>5.704865769828319         </td><td>                                        </td><td>106.3500000314393         </td><td>1.8151187111524154</td><td>1.614697905241178 </td></tr>\n",
       "<tr><td>zeros  </td><td>0                </td><td>0                 </td><td>0                </td><td>730               </td><td>0                 </td><td>0                </td><td>0                </td><td>730               </td><td>17455           </td><td>0                  </td><td>8758                  </td><td>8758                    </td><td>0                       </td><td>0                       </td><td>0                       </td><td>0                       </td><td>0                       </td><td>0                   </td><td>0                   </td><td>0                   </td><td>0                   </td><td>0                   </td><td>0                   </td><td>268                </td><td>0                  </td><td>501                          </td><td>0                          </td><td>0                          </td><td>0                        </td><td>0                </td><td>269                </td><td>0                 </td><td>0                </td><td>                             </td><td>0                 </td><td>                             </td><td>0                 </td><td>                             </td><td>0                 </td><td>                             </td><td>0               </td><td>                             </td><td>0               </td><td>                             </td><td>14980                                 </td><td>0                         </td><td>                                        </td><td>0                         </td><td>0                 </td><td>2768              </td></tr>\n",
       "<tr><td>missing</td><td>0                </td><td>0                 </td><td>0                </td><td>0                 </td><td>0                 </td><td>0                </td><td>0                </td><td>0                 </td><td>65              </td><td>10780              </td><td>375                   </td><td>375                     </td><td>14682                   </td><td>16535                   </td><td>17520                   </td><td>17520                   </td><td>17520                   </td><td>9103                </td><td>14683               </td><td>16535               </td><td>17520               </td><td>17520               </td><td>17520               </td><td>67                 </td><td>67                 </td><td>15660                        </td><td>360                        </td><td>17520                      </td><td>17520                    </td><td>17520            </td><td>67                 </td><td>412               </td><td>14980            </td><td>14980                        </td><td>16477             </td><td>16477                        </td><td>17181             </td><td>17181                        </td><td>17433             </td><td>17433                        </td><td>17504           </td><td>17504                        </td><td>17518           </td><td>17518                        </td><td>0                                     </td><td>14980                     </td><td>14980                                   </td><td>9382                      </td><td>14381             </td><td>1283              </td></tr>\n",
       "<tr><td>0      </td><td>2013.0           </td><td>1.0               </td><td>1.0              </td><td>0.0               </td><td>2013.0            </td><td>1.0              </td><td>1.0              </td><td>5.0               </td><td>0.0             </td><td>2895.6000000000004 </td><td>1.0                   </td><td>0.9                     </td><td>1.0                     </td><td>nan                     </td><td>nan                     </td><td>nan                     </td><td>nan                     </td><td>2895.5999           </td><td>3352.8              </td><td>nan                 </td><td>nan                 </td><td>nan                 </td><td>nan                 </td><td>-5.0               </td><td>0.5447000000000001 </td><td>nan                          </td><td>1013.0917000000001         </td><td>nan                        </td><td>nan                      </td><td>nan              </td><td>3.3000000000000003 </td><td>16.0934           </td><td>nan              </td><td>                             </td><td>nan               </td><td>                             </td><td>nan               </td><td>                             </td><td>nan               </td><td>                             </td><td>nan             </td><td>                             </td><td>nan             </td><td>                             </td><td>0.0                                   </td><td>nan                       </td><td>                                        </td><td>nan                       </td><td>nan               </td><td>2.57              </td></tr>\n",
       "<tr><td>1      </td><td>2013.0           </td><td>1.0               </td><td>1.0              </td><td>1.0               </td><td>2013.0            </td><td>1.0              </td><td>1.0              </td><td>6.0               </td><td>0.0             </td><td>3048.0             </td><td>1.0                   </td><td>1.0                     </td><td>nan                     </td><td>nan                     </td><td>nan                     </td><td>nan                     </td><td>nan                     </td><td>3048.0              </td><td>nan                 </td><td>nan                 </td><td>nan                 </td><td>nan                 </td><td>nan                 </td><td>-4.4               </td><td>0.5463             </td><td>nan                          </td><td>1012.0759                  </td><td>nan                        </td><td>nan                      </td><td>nan              </td><td>3.9000000000000004 </td><td>16.0934           </td><td>nan              </td><td>                             </td><td>nan               </td><td>                             </td><td>nan               </td><td>                             </td><td>nan               </td><td>                             </td><td>nan             </td><td>                             </td><td>nan             </td><td>                             </td><td>0.0                                   </td><td>nan                       </td><td>                                        </td><td>260.0                     </td><td>9.77              </td><td>4.63              </td></tr>\n",
       "<tr><td>2      </td><td>2013.0           </td><td>1.0               </td><td>1.0              </td><td>2.0               </td><td>2013.0            </td><td>1.0              </td><td>1.0              </td><td>7.0               </td><td>0.0             </td><td>1828.8000000000002 </td><td>1.0                   </td><td>1.0                     </td><td>nan                     </td><td>nan                     </td><td>nan                     </td><td>nan                     </td><td>nan                     </td><td>1828.7999           </td><td>nan                 </td><td>nan                 </td><td>nan                 </td><td>nan                 </td><td>nan                 </td><td>-3.3000000000000003</td><td>0.619              </td><td>nan                          </td><td>1012.4145000000001         </td><td>nan                        </td><td>nan                      </td><td>nan              </td><td>3.3000000000000003 </td><td>16.0934           </td><td>nan              </td><td>                             </td><td>nan               </td><td>                             </td><td>nan               </td><td>                             </td><td>nan               </td><td>                             </td><td>nan             </td><td>                             </td><td>nan             </td><td>                             </td><td>0.0                                   </td><td>nan                       </td><td>                                        </td><td>nan                       </td><td>7.72              </td><td>1.54              </td></tr>\n",
       "<tr><td>3      </td><td>2013.0           </td><td>1.0               </td><td>1.0              </td><td>3.0               </td><td>2013.0            </td><td>1.0              </td><td>1.0              </td><td>8.0               </td><td>0.0             </td><td>1463.0             </td><td>1.0                   </td><td>1.0                     </td><td>nan                     </td><td>nan                     </td><td>nan                     </td><td>nan                     </td><td>nan                     </td><td>1463.04             </td><td>nan                 </td><td>nan                 </td><td>nan                 </td><td>nan                 </td><td>nan                 </td><td>-2.8000000000000003</td><td>0.6159             </td><td>nan                          </td><td>1012.4145000000001         </td><td>nan                        </td><td>nan                      </td><td>nan              </td><td>3.9000000000000004 </td><td>16.0934           </td><td>nan              </td><td>                             </td><td>nan               </td><td>                             </td><td>nan               </td><td>                             </td><td>nan               </td><td>                             </td><td>nan             </td><td>                             </td><td>nan             </td><td>                             </td><td>0.0                                   </td><td>nan                       </td><td>                                        </td><td>nan                       </td><td>nan               </td><td>3.09              </td></tr>\n",
       "<tr><td>4      </td><td>2013.0           </td><td>1.0               </td><td>1.0              </td><td>4.0               </td><td>2013.0            </td><td>1.0              </td><td>1.0              </td><td>9.0               </td><td>0.0             </td><td>1402.1000000000001 </td><td>1.0                   </td><td>1.0                     </td><td>nan                     </td><td>nan                     </td><td>nan                     </td><td>nan                     </td><td>nan                     </td><td>1402.0800000000002  </td><td>nan                 </td><td>nan                 </td><td>nan                 </td><td>nan                 </td><td>nan                 </td><td>-2.8000000000000003</td><td>0.6159             </td><td>nan                          </td><td>1012.7531                  </td><td>nan                        </td><td>nan                      </td><td>nan              </td><td>3.9000000000000004 </td><td>16.0934           </td><td>nan              </td><td>                             </td><td>nan               </td><td>                             </td><td>nan               </td><td>                             </td><td>nan               </td><td>                             </td><td>nan             </td><td>                             </td><td>nan             </td><td>                             </td><td>0.0                                   </td><td>nan                       </td><td>                                        </td><td>260.0                     </td><td>nan               </td><td>4.12              </td></tr>\n",
       "<tr><td>5      </td><td>2013.0           </td><td>1.0               </td><td>1.0              </td><td>5.0               </td><td>2013.0            </td><td>1.0              </td><td>1.0              </td><td>10.0              </td><td>0.0             </td><td>1524.0             </td><td>1.0                   </td><td>1.0                     </td><td>nan                     </td><td>nan                     </td><td>nan                     </td><td>nan                     </td><td>nan                     </td><td>1524.0              </td><td>nan                 </td><td>nan                 </td><td>nan                 </td><td>nan                 </td><td>nan                 </td><td>-2.8000000000000003</td><td>0.6159             </td><td>nan                          </td><td>1012.4145000000001         </td><td>nan                        </td><td>nan                      </td><td>nan              </td><td>3.9000000000000004 </td><td>16.0934           </td><td>nan              </td><td>                             </td><td>nan               </td><td>                             </td><td>nan               </td><td>                             </td><td>nan               </td><td>                             </td><td>nan             </td><td>                             </td><td>nan             </td><td>                             </td><td>0.0                                   </td><td>nan                       </td><td>                                        </td><td>nan                       </td><td>nan               </td><td>3.09              </td></tr>\n",
       "<tr><td>6      </td><td>2013.0           </td><td>1.0               </td><td>1.0              </td><td>6.0               </td><td>2013.0            </td><td>1.0              </td><td>1.0              </td><td>11.0              </td><td>0.0             </td><td>1524.0             </td><td>1.0                   </td><td>1.0                     </td><td>nan                     </td><td>nan                     </td><td>nan                     </td><td>nan                     </td><td>nan                     </td><td>1524.0              </td><td>nan                 </td><td>nan                 </td><td>nan                 </td><td>nan                 </td><td>nan                 </td><td>-3.3000000000000003</td><td>0.5934             </td><td>nan                          </td><td>1012.0759                  </td><td>nan                        </td><td>nan                      </td><td>nan              </td><td>3.9000000000000004 </td><td>16.0934           </td><td>nan              </td><td>                             </td><td>nan               </td><td>                             </td><td>nan               </td><td>                             </td><td>nan               </td><td>                             </td><td>nan             </td><td>                             </td><td>nan             </td><td>                             </td><td>0.0                                   </td><td>nan                       </td><td>                                        </td><td>nan                       </td><td>9.26              </td><td>3.09              </td></tr>\n",
       "<tr><td>7      </td><td>2013.0           </td><td>1.0               </td><td>1.0              </td><td>7.0               </td><td>2013.0            </td><td>1.0              </td><td>1.0              </td><td>12.0              </td><td>0.0             </td><td>1524.0             </td><td>1.0                   </td><td>1.0                     </td><td>nan                     </td><td>nan                     </td><td>nan                     </td><td>nan                     </td><td>nan                     </td><td>1524.0              </td><td>nan                 </td><td>nan                 </td><td>nan                 </td><td>nan                 </td><td>nan                 </td><td>-3.3000000000000003</td><td>0.5934             </td><td>nan                          </td><td>1012.4145000000001         </td><td>nan                        </td><td>nan                      </td><td>nan              </td><td>3.9000000000000004 </td><td>16.0934           </td><td>nan              </td><td>                             </td><td>nan               </td><td>                             </td><td>nan               </td><td>                             </td><td>nan               </td><td>                             </td><td>nan             </td><td>                             </td><td>nan             </td><td>                             </td><td>0.0                                   </td><td>nan                       </td><td>                                        </td><td>260.0                     </td><td>9.26              </td><td>4.63              </td></tr>\n",
       "<tr><td>8      </td><td>2013.0           </td><td>1.0               </td><td>1.0              </td><td>8.0               </td><td>2013.0            </td><td>1.0              </td><td>1.0              </td><td>13.0              </td><td>0.0             </td><td>1524.0             </td><td>1.0                   </td><td>1.0                     </td><td>nan                     </td><td>nan                     </td><td>nan                     </td><td>nan                     </td><td>nan                     </td><td>1524.0              </td><td>nan                 </td><td>nan                 </td><td>nan                 </td><td>nan                 </td><td>nan                 </td><td>-2.8000000000000003</td><td>0.6425000000000001 </td><td>nan                          </td><td>1012.4145000000001         </td><td>nan                        </td><td>nan                      </td><td>nan              </td><td>3.3000000000000003 </td><td>16.0934           </td><td>nan              </td><td>                             </td><td>nan               </td><td>                             </td><td>nan               </td><td>                             </td><td>nan               </td><td>                             </td><td>nan             </td><td>                             </td><td>nan             </td><td>                             </td><td>0.0                                   </td><td>nan                       </td><td>                                        </td><td>260.0                     </td><td>nan               </td><td>3.09              </td></tr>\n",
       "<tr><td>9      </td><td>2013.0           </td><td>1.0               </td><td>1.0              </td><td>9.0               </td><td>2013.0            </td><td>1.0              </td><td>1.0              </td><td>14.0              </td><td>0.0             </td><td>1524.0             </td><td>1.0                   </td><td>0.9                     </td><td>1.0                     </td><td>nan                     </td><td>nan                     </td><td>nan                     </td><td>nan                     </td><td>1524.0              </td><td>3657.5999           </td><td>nan                 </td><td>nan                 </td><td>nan                 </td><td>nan                 </td><td>-2.8000000000000003</td><td>0.6159             </td><td>nan                          </td><td>1012.4145000000001         </td><td>nan                        </td><td>nan                      </td><td>nan              </td><td>3.9000000000000004 </td><td>16.0934           </td><td>nan              </td><td>                             </td><td>nan               </td><td>                             </td><td>nan               </td><td>                             </td><td>nan               </td><td>                             </td><td>nan             </td><td>                             </td><td>nan             </td><td>                             </td><td>0.0                                   </td><td>nan                       </td><td>                                        </td><td>nan                       </td><td>9.26              </td><td>3.09              </td></tr>\n",
       "</tbody>\n",
       "</table>"
      ]
     },
     "metadata": {},
     "output_type": "display_data"
    }
   ],
   "source": [
    "# ----------\n",
    "# 5- Now lets add some weather\n",
    "# Load weather data\n",
    "wthr1 = h2o.import_file(path=[mylocate(\"bigdata/laptop/citibike-nyc/31081_New_York_City__Hourly_2013.csv\"),\n",
    "                               mylocate(\"bigdata/laptop/citibike-nyc/31081_New_York_City__Hourly_2014.csv\")])\n",
    "# Peek at the data\n",
    "wthr1.describe()"
   ]
  },
  {
   "cell_type": "code",
   "execution_count": 12,
   "metadata": {
    "collapsed": false
   },
   "outputs": [
    {
     "name": "stdout",
     "output_type": "stream",
     "text": [
      "Rows:17520\n",
      "Cols:9\n",
      "\n",
      "\n"
     ]
    },
    {
     "data": {
      "text/html": [
       "<table>\n",
       "<thead>\n",
       "<tr><th>       </th><th>Year Local       </th><th>Month Local       </th><th>Day Local        </th><th>Hour Local        </th><th>Dew Point (C)      </th><th>Humidity Fraction  </th><th>Rain (mm)         </th><th>Temperature (C)    </th><th>WC1  </th></tr>\n",
       "</thead>\n",
       "<tbody>\n",
       "<tr><td>type   </td><td>int              </td><td>int               </td><td>int              </td><td>int               </td><td>real               </td><td>real               </td><td>real              </td><td>real               </td><td>enum </td></tr>\n",
       "<tr><td>mins   </td><td>2013.0           </td><td>1.0               </td><td>1.0              </td><td>0.0               </td><td>-26.700000000000003</td><td>0.12510000000000002</td><td>0.0               </td><td>-15.600000000000001</td><td>     </td></tr>\n",
       "<tr><td>mean   </td><td>2013.5           </td><td>6.5260273972602745</td><td>15.72054794520548</td><td>11.500000000000004</td><td>4.313046467655992  </td><td>0.5967363891594567 </td><td>1.3799301075268817</td><td>12.578909070073914 </td><td>     </td></tr>\n",
       "<tr><td>maxs   </td><td>2014.0           </td><td>12.0              </td><td>31.0             </td><td>23.0              </td><td>24.400000000000002 </td><td>1.0                </td><td>26.924            </td><td>36.1               </td><td>     </td></tr>\n",
       "<tr><td>sigma  </td><td>0.500014270017262</td><td>3.447949723847773 </td><td>8.796498048523272</td><td>6.922384111875021 </td><td>10.973128209713666 </td><td>0.18579201186573496</td><td>2.5621512917896463</td><td>10.039673953091574 </td><td>     </td></tr>\n",
       "<tr><td>zeros  </td><td>0                </td><td>0                 </td><td>0                </td><td>730               </td><td>268                </td><td>0                  </td><td>501               </td><td>269                </td><td>     </td></tr>\n",
       "<tr><td>missing</td><td>0                </td><td>0                 </td><td>0                </td><td>0                 </td><td>67                 </td><td>67                 </td><td>15660             </td><td>67                 </td><td>14980</td></tr>\n",
       "<tr><td>0      </td><td>2013.0           </td><td>1.0               </td><td>1.0              </td><td>0.0               </td><td>-5.0               </td><td>0.5447000000000001 </td><td>nan               </td><td>3.3000000000000003 </td><td>     </td></tr>\n",
       "<tr><td>1      </td><td>2013.0           </td><td>1.0               </td><td>1.0              </td><td>1.0               </td><td>-4.4               </td><td>0.5463             </td><td>nan               </td><td>3.9000000000000004 </td><td>     </td></tr>\n",
       "<tr><td>2      </td><td>2013.0           </td><td>1.0               </td><td>1.0              </td><td>2.0               </td><td>-3.3000000000000003</td><td>0.619              </td><td>nan               </td><td>3.3000000000000003 </td><td>     </td></tr>\n",
       "<tr><td>3      </td><td>2013.0           </td><td>1.0               </td><td>1.0              </td><td>3.0               </td><td>-2.8000000000000003</td><td>0.6159             </td><td>nan               </td><td>3.9000000000000004 </td><td>     </td></tr>\n",
       "<tr><td>4      </td><td>2013.0           </td><td>1.0               </td><td>1.0              </td><td>4.0               </td><td>-2.8000000000000003</td><td>0.6159             </td><td>nan               </td><td>3.9000000000000004 </td><td>     </td></tr>\n",
       "<tr><td>5      </td><td>2013.0           </td><td>1.0               </td><td>1.0              </td><td>5.0               </td><td>-2.8000000000000003</td><td>0.6159             </td><td>nan               </td><td>3.9000000000000004 </td><td>     </td></tr>\n",
       "<tr><td>6      </td><td>2013.0           </td><td>1.0               </td><td>1.0              </td><td>6.0               </td><td>-3.3000000000000003</td><td>0.5934             </td><td>nan               </td><td>3.9000000000000004 </td><td>     </td></tr>\n",
       "<tr><td>7      </td><td>2013.0           </td><td>1.0               </td><td>1.0              </td><td>7.0               </td><td>-3.3000000000000003</td><td>0.5934             </td><td>nan               </td><td>3.9000000000000004 </td><td>     </td></tr>\n",
       "<tr><td>8      </td><td>2013.0           </td><td>1.0               </td><td>1.0              </td><td>8.0               </td><td>-2.8000000000000003</td><td>0.6425000000000001 </td><td>nan               </td><td>3.3000000000000003 </td><td>     </td></tr>\n",
       "<tr><td>9      </td><td>2013.0           </td><td>1.0               </td><td>1.0              </td><td>9.0               </td><td>-2.8000000000000003</td><td>0.6159             </td><td>nan               </td><td>3.9000000000000004 </td><td>     </td></tr>\n",
       "</tbody>\n",
       "</table>"
      ]
     },
     "metadata": {},
     "output_type": "display_data"
    }
   ],
   "source": [
    "# Lots of columns in there!  Lets plan on converting to time-since-epoch to do\n",
    "# a 'join' with the bike data, plus gather weather info that might affect\n",
    "# cyclists - rain, snow, temperature.  Alas, drop the \"snow\" column since it's\n",
    "# all NA's.  Also add in dew point and humidity just in case.  Slice out just\n",
    "# the columns of interest and drop the rest.\n",
    "wthr2 = wthr1[[\"Year Local\",\"Month Local\",\"Day Local\",\"Hour Local\",\"Dew Point (C)\",\"Humidity Fraction\",\"Precipitation One Hour (mm)\",\"Temperature (C)\",\"Weather Code 1/ Description\"]]\n",
    "\n",
    "wthr2.set_name(wthr2.names.index(\"Precipitation One Hour (mm)\"), \"Rain (mm)\")\n",
    "wthr2.set_name(wthr2.names.index(\"Weather Code 1/ Description\"), \"WC1\")\n",
    "wthr2.describe()\n",
    "# Much better!  "
   ]
  },
  {
   "cell_type": "code",
   "execution_count": 13,
   "metadata": {
    "collapsed": false
   },
   "outputs": [],
   "source": [
    "# Filter down to the weather at Noon\n",
    "wthr3 = wthr2[ wthr2[\"Hour Local\"]==12 ]"
   ]
  },
  {
   "cell_type": "code",
   "execution_count": 14,
   "metadata": {
    "collapsed": false
   },
   "outputs": [
    {
     "name": "stdout",
     "output_type": "stream",
     "text": [
      "Rows:730\n",
      "Cols:11\n",
      "\n",
      "\n"
     ]
    },
    {
     "data": {
      "text/html": [
       "<table>\n",
       "<thead>\n",
       "<tr><th>       </th><th>Year Local        </th><th>Month Local      </th><th>Day Local        </th><th>Hour Local  </th><th>Dew Point (C)      </th><th>Humidity Fraction  </th><th>Rain (mm)         </th><th>Temperature (C)   </th><th>WC1  </th><th>msec              </th><th>Days              </th></tr>\n",
       "</thead>\n",
       "<tbody>\n",
       "<tr><td>type   </td><td>int               </td><td>int              </td><td>int              </td><td>int         </td><td>real               </td><td>real               </td><td>real              </td><td>real              </td><td>enum </td><td>int               </td><td>int               </td></tr>\n",
       "<tr><td>mins   </td><td>2013.0            </td><td>1.0              </td><td>1.0              </td><td>12.0        </td><td>-26.700000000000003</td><td>0.1723             </td><td>0.0               </td><td>-13.9             </td><td>     </td><td>1357070400000.0   </td><td>15706.0           </td></tr>\n",
       "<tr><td>mean   </td><td>2013.5            </td><td>6.526027397260274</td><td>15.72054794520548</td><td>12.0        </td><td>4.230123796423659  </td><td>0.539728198074278  </td><td>1.5312571428571429</td><td>14.068775790921595</td><td>     </td><td>1388560852602.7397</td><td>16070.5           </td></tr>\n",
       "<tr><td>maxs   </td><td>2014.0            </td><td>12.0             </td><td>31.0             </td><td>12.0        </td><td>23.3               </td><td>1.0                </td><td>12.446            </td><td>34.4              </td><td>     </td><td>1420056000000.0   </td><td>16435.0           </td></tr>\n",
       "<tr><td>sigma  </td><td>0.5003428180039172</td><td>3.450215293068149</td><td>8.802278027009615</td><td>0.0         </td><td>11.106296472475226 </td><td>0.17994502792324327</td><td>2.3606424861490587</td><td>10.398985514891212</td><td>     </td><td>18219740080.410755</td><td>210.87713642466474</td></tr>\n",
       "<tr><td>zeros  </td><td>0                 </td><td>0                </td><td>0                </td><td>0           </td><td>14                 </td><td>0                  </td><td>15                </td><td>7                 </td><td>     </td><td>0                 </td><td>0                 </td></tr>\n",
       "<tr><td>missing</td><td>0                 </td><td>0                </td><td>0                </td><td>0           </td><td>3                  </td><td>3                  </td><td>660               </td><td>3                 </td><td>620  </td><td>0                 </td><td>0                 </td></tr>\n",
       "<tr><td>0      </td><td>2013.0            </td><td>1.0              </td><td>1.0              </td><td>12.0        </td><td>-3.3000000000000003</td><td>0.5934             </td><td>nan               </td><td>3.9000000000000004</td><td>     </td><td>1357070400000.0   </td><td>15706.0           </td></tr>\n",
       "<tr><td>1      </td><td>2013.0            </td><td>1.0              </td><td>2.0              </td><td>12.0        </td><td>-11.700000000000001</td><td>0.4806             </td><td>nan               </td><td>-2.2              </td><td>     </td><td>1357156800000.0   </td><td>15707.0           </td></tr>\n",
       "<tr><td>2      </td><td>2013.0            </td><td>1.0              </td><td>3.0              </td><td>12.0        </td><td>-10.600000000000001</td><td>0.5248             </td><td>nan               </td><td>-2.2              </td><td>     </td><td>1357243200000.0   </td><td>15708.0           </td></tr>\n",
       "<tr><td>3      </td><td>2013.0            </td><td>1.0              </td><td>4.0              </td><td>12.0        </td><td>-7.2               </td><td>0.49760000000000004</td><td>nan               </td><td>2.2               </td><td>     </td><td>1357329600000.0   </td><td>15709.0           </td></tr>\n",
       "<tr><td>4      </td><td>2013.0            </td><td>1.0              </td><td>5.0              </td><td>12.0        </td><td>-7.2               </td><td>0.42600000000000005</td><td>nan               </td><td>4.4               </td><td>     </td><td>1357416000000.0   </td><td>15710.0           </td></tr>\n",
       "<tr><td>5      </td><td>2013.0            </td><td>1.0              </td><td>6.0              </td><td>12.0        </td><td>-1.7000000000000002</td><td>0.6451             </td><td>nan               </td><td>4.4               </td><td>haze </td><td>1357502400000.0   </td><td>15711.0           </td></tr>\n",
       "<tr><td>6      </td><td>2013.0            </td><td>1.0              </td><td>7.0              </td><td>12.0        </td><td>-6.1000000000000005</td><td>0.41190000000000004</td><td>nan               </td><td>6.1000000000000005</td><td>     </td><td>1357588800000.0   </td><td>15712.0           </td></tr>\n",
       "<tr><td>7      </td><td>2013.0            </td><td>1.0              </td><td>8.0              </td><td>12.0        </td><td>-1.7000000000000002</td><td>0.5314             </td><td>nan               </td><td>7.2               </td><td>     </td><td>1357675200000.0   </td><td>15713.0           </td></tr>\n",
       "<tr><td>8      </td><td>2013.0            </td><td>1.0              </td><td>9.0              </td><td>12.0        </td><td>0.6000000000000001 </td><td>0.56               </td><td>nan               </td><td>8.9               </td><td>haze </td><td>1357761600000.0   </td><td>15714.0           </td></tr>\n",
       "<tr><td>9      </td><td>2013.0            </td><td>1.0              </td><td>10.0             </td><td>12.0        </td><td>-6.1000000000000005</td><td>0.3952             </td><td>nan               </td><td>6.7               </td><td>     </td><td>1357848000000.0   </td><td>15715.0           </td></tr>\n",
       "</tbody>\n",
       "</table>"
      ]
     },
     "metadata": {},
     "output_type": "display_data"
    }
   ],
   "source": [
    "# Lets now get Days since the epoch... we'll convert year/month/day into Epoch\n",
    "# time, and then back to Epoch days.  Need zero-based month and days, but have\n",
    "# 1-based.\n",
    "wthr3[\"msec\"] = h2o.H2OFrame.mktime(year=wthr3[\"Year Local\"], month=wthr3[\"Month Local\"]-1, day=wthr3[\"Day Local\"]-1, hour=wthr3[\"Hour Local\"])\n",
    "secsPerDay=1000*60*60*24\n",
    "wthr3[\"Days\"] = (wthr3[\"msec\"]/secsPerDay).floor()\n",
    "wthr3.describe()\n",
    "# msec looks sane (numbers like 1.3e12 are in the correct range for msec since\n",
    "# 1970).  Epoch Days matches closely with the epoch day numbers from the\n",
    "# CitiBike dataset.  "
   ]
  },
  {
   "cell_type": "code",
   "execution_count": 15,
   "metadata": {
    "collapsed": false
   },
   "outputs": [],
   "source": [
    "# Lets drop off the extra time columns to make a easy-to-handle dataset.\n",
    "wthr4 = wthr3.drop(\"Year Local\").drop(\"Month Local\").drop(\"Day Local\").drop(\"Hour Local\").drop(\"msec\")"
   ]
  },
  {
   "cell_type": "code",
   "execution_count": 16,
   "metadata": {
    "collapsed": false
   },
   "outputs": [],
   "source": [
    "# Also, most rain numbers are missing - lets assume those are zero rain days\n",
    "rain = wthr4[\"Rain (mm)\"]\n",
    "rain[ rain.isna() ] = 0\n",
    "wthr4[\"Rain (mm)\"] = rain"
   ]
  },
  {
   "cell_type": "code",
   "execution_count": 17,
   "metadata": {
    "collapsed": false
   },
   "outputs": [
    {
     "name": "stdout",
     "output_type": "stream",
     "text": [
      "Merge Daily Weather with Bikes-Per-Day\n",
      "Rows:138795\n",
      "Cols:10\n",
      "\n",
      "\n"
     ]
    },
    {
     "data": {
      "text/html": [
       "<table>\n",
       "<thead>\n",
       "<tr><th>       </th><th>Days              </th><th>start station name  </th><th>bikes            </th><th>Month  </th><th>DayOfWeek  </th><th>Dew Point (C)      </th><th>Humidity Fraction  </th><th>Rain (mm)          </th><th>Temperature (C)   </th><th>WC1   </th></tr>\n",
       "</thead>\n",
       "<tbody>\n",
       "<tr><td>type   </td><td>int               </td><td>enum                </td><td>int              </td><td>enum   </td><td>enum       </td><td>real               </td><td>real               </td><td>real               </td><td>real              </td><td>enum  </td></tr>\n",
       "<tr><td>mins   </td><td>15887.0           </td><td>                    </td><td>1.0              </td><td>       </td><td>           </td><td>-26.700000000000003</td><td>0.1723             </td><td>0.0                </td><td>-13.9             </td><td>      </td></tr>\n",
       "<tr><td>mean   </td><td>16099.488166000216</td><td>                    </td><td>74.98502107424619</td><td>       </td><td>           </td><td>5.451762870514826  </td><td>0.5321604665675    </td><td>0.08503267408768331</td><td>15.614519464499507</td><td>      </td></tr>\n",
       "<tr><td>maxs   </td><td>16313.0           </td><td>                    </td><td>668.0            </td><td>       </td><td>           </td><td>23.3               </td><td>1.0                </td><td>8.382              </td><td>34.4              </td><td>      </td></tr>\n",
       "<tr><td>sigma  </td><td>123.39632568805678</td><td>                    </td><td>64.73186265524505</td><td>       </td><td>           </td><td>11.723905010415397 </td><td>0.1784104767702021 </td><td>0.5764961942157182 </td><td>10.928653577314824</td><td>      </td></tr>\n",
       "<tr><td>zeros  </td><td>0                 </td><td>                    </td><td>0                </td><td>       </td><td>           </td><td>1956               </td><td>0                  </td><td>130793             </td><td>1567              </td><td>      </td></tr>\n",
       "<tr><td>missing</td><td>0                 </td><td>0                   </td><td>0                </td><td>0      </td><td>0          </td><td>980                </td><td>980                </td><td>0                  </td><td>980               </td><td>118772</td></tr>\n",
       "<tr><td>0      </td><td>15887.0           </td><td>1 Ave & E 15 St     </td><td>74.0             </td><td>7      </td><td>Mon        </td><td>21.700000000000003 </td><td>0.9354             </td><td>4.572              </td><td>22.8              </td><td>rain  </td></tr>\n",
       "<tr><td>1      </td><td>15887.0           </td><td>1 Ave & E 18 St     </td><td>51.0             </td><td>7      </td><td>Mon        </td><td>21.700000000000003 </td><td>0.9354             </td><td>4.572              </td><td>22.8              </td><td>rain  </td></tr>\n",
       "<tr><td>2      </td><td>15887.0           </td><td>1 Ave & E 30 St     </td><td>66.0             </td><td>7      </td><td>Mon        </td><td>21.700000000000003 </td><td>0.9354             </td><td>4.572              </td><td>22.8              </td><td>rain  </td></tr>\n",
       "<tr><td>3      </td><td>15887.0           </td><td>1 Ave & E 44 St     </td><td>56.0             </td><td>7      </td><td>Mon        </td><td>21.700000000000003 </td><td>0.9354             </td><td>4.572              </td><td>22.8              </td><td>rain  </td></tr>\n",
       "<tr><td>4      </td><td>15887.0           </td><td>10 Ave & W 28 St    </td><td>51.0             </td><td>7      </td><td>Mon        </td><td>21.700000000000003 </td><td>0.9354             </td><td>4.572              </td><td>22.8              </td><td>rain  </td></tr>\n",
       "<tr><td>5      </td><td>15887.0           </td><td>11 Ave & W 27 St    </td><td>65.0             </td><td>7      </td><td>Mon        </td><td>21.700000000000003 </td><td>0.9354             </td><td>4.572              </td><td>22.8              </td><td>rain  </td></tr>\n",
       "<tr><td>6      </td><td>15887.0           </td><td>11 Ave & W 41 St    </td><td>53.0             </td><td>7      </td><td>Mon        </td><td>21.700000000000003 </td><td>0.9354             </td><td>4.572              </td><td>22.8              </td><td>rain  </td></tr>\n",
       "<tr><td>7      </td><td>15887.0           </td><td>12 Ave & W 40 St    </td><td>36.0             </td><td>7      </td><td>Mon        </td><td>21.700000000000003 </td><td>0.9354             </td><td>4.572              </td><td>22.8              </td><td>rain  </td></tr>\n",
       "<tr><td>8      </td><td>15887.0           </td><td>2 Ave & E 31 St     </td><td>96.0             </td><td>7      </td><td>Mon        </td><td>21.700000000000003 </td><td>0.9354             </td><td>4.572              </td><td>22.8              </td><td>rain  </td></tr>\n",
       "<tr><td>9      </td><td>15887.0           </td><td>2 Ave & E 58 St     </td><td>103.0            </td><td>7      </td><td>Mon        </td><td>21.700000000000003 </td><td>0.9354             </td><td>4.572              </td><td>22.8              </td><td>rain  </td></tr>\n",
       "</tbody>\n",
       "</table>"
      ]
     },
     "metadata": {},
     "output_type": "display_data"
    },
    {
     "data": {
      "text/html": [
       "<table>\n",
       "<thead>\n",
       "<tr><th style=\"text-align: right;\">  Days</th><th>start station name  </th><th style=\"text-align: right;\">  bikes</th><th style=\"text-align: right;\">  Month</th><th>DayOfWeek  </th><th style=\"text-align: right;\">  Dew Point (C)</th><th style=\"text-align: right;\">  Humidity Fraction</th><th style=\"text-align: right;\">  Rain (mm)</th><th style=\"text-align: right;\">  Temperature (C)</th><th>WC1  </th></tr>\n",
       "</thead>\n",
       "<tbody>\n",
       "<tr><td style=\"text-align: right;\"> 15887</td><td>1 Ave & E 15 St     </td><td style=\"text-align: right;\">     74</td><td style=\"text-align: right;\">      7</td><td>Mon        </td><td style=\"text-align: right;\">           21.7</td><td style=\"text-align: right;\">             0.9354</td><td style=\"text-align: right;\">      4.572</td><td style=\"text-align: right;\">             22.8</td><td>rain </td></tr>\n",
       "<tr><td style=\"text-align: right;\"> 15887</td><td>1 Ave & E 18 St     </td><td style=\"text-align: right;\">     51</td><td style=\"text-align: right;\">      7</td><td>Mon        </td><td style=\"text-align: right;\">           21.7</td><td style=\"text-align: right;\">             0.9354</td><td style=\"text-align: right;\">      4.572</td><td style=\"text-align: right;\">             22.8</td><td>rain </td></tr>\n",
       "<tr><td style=\"text-align: right;\"> 15887</td><td>1 Ave & E 30 St     </td><td style=\"text-align: right;\">     66</td><td style=\"text-align: right;\">      7</td><td>Mon        </td><td style=\"text-align: right;\">           21.7</td><td style=\"text-align: right;\">             0.9354</td><td style=\"text-align: right;\">      4.572</td><td style=\"text-align: right;\">             22.8</td><td>rain </td></tr>\n",
       "<tr><td style=\"text-align: right;\"> 15887</td><td>1 Ave & E 44 St     </td><td style=\"text-align: right;\">     56</td><td style=\"text-align: right;\">      7</td><td>Mon        </td><td style=\"text-align: right;\">           21.7</td><td style=\"text-align: right;\">             0.9354</td><td style=\"text-align: right;\">      4.572</td><td style=\"text-align: right;\">             22.8</td><td>rain </td></tr>\n",
       "<tr><td style=\"text-align: right;\"> 15887</td><td>10 Ave & W 28 St    </td><td style=\"text-align: right;\">     51</td><td style=\"text-align: right;\">      7</td><td>Mon        </td><td style=\"text-align: right;\">           21.7</td><td style=\"text-align: right;\">             0.9354</td><td style=\"text-align: right;\">      4.572</td><td style=\"text-align: right;\">             22.8</td><td>rain </td></tr>\n",
       "<tr><td style=\"text-align: right;\"> 15887</td><td>11 Ave & W 27 St    </td><td style=\"text-align: right;\">     65</td><td style=\"text-align: right;\">      7</td><td>Mon        </td><td style=\"text-align: right;\">           21.7</td><td style=\"text-align: right;\">             0.9354</td><td style=\"text-align: right;\">      4.572</td><td style=\"text-align: right;\">             22.8</td><td>rain </td></tr>\n",
       "<tr><td style=\"text-align: right;\"> 15887</td><td>11 Ave & W 41 St    </td><td style=\"text-align: right;\">     53</td><td style=\"text-align: right;\">      7</td><td>Mon        </td><td style=\"text-align: right;\">           21.7</td><td style=\"text-align: right;\">             0.9354</td><td style=\"text-align: right;\">      4.572</td><td style=\"text-align: right;\">             22.8</td><td>rain </td></tr>\n",
       "<tr><td style=\"text-align: right;\"> 15887</td><td>12 Ave & W 40 St    </td><td style=\"text-align: right;\">     36</td><td style=\"text-align: right;\">      7</td><td>Mon        </td><td style=\"text-align: right;\">           21.7</td><td style=\"text-align: right;\">             0.9354</td><td style=\"text-align: right;\">      4.572</td><td style=\"text-align: right;\">             22.8</td><td>rain </td></tr>\n",
       "<tr><td style=\"text-align: right;\"> 15887</td><td>2 Ave & E 31 St     </td><td style=\"text-align: right;\">     96</td><td style=\"text-align: right;\">      7</td><td>Mon        </td><td style=\"text-align: right;\">           21.7</td><td style=\"text-align: right;\">             0.9354</td><td style=\"text-align: right;\">      4.572</td><td style=\"text-align: right;\">             22.8</td><td>rain </td></tr>\n",
       "<tr><td style=\"text-align: right;\"> 15887</td><td>2 Ave & E 58 St     </td><td style=\"text-align: right;\">    103</td><td style=\"text-align: right;\">      7</td><td>Mon        </td><td style=\"text-align: right;\">           21.7</td><td style=\"text-align: right;\">             0.9354</td><td style=\"text-align: right;\">      4.572</td><td style=\"text-align: right;\">             22.8</td><td>rain </td></tr>\n",
       "</tbody>\n",
       "</table>"
      ]
     },
     "metadata": {},
     "output_type": "display_data"
    }
   ],
   "source": [
    "# ----------\n",
    "# 6 - Join the weather data-per-day to the bike-starts-per-day\n",
    "print(\"Merge Daily Weather with Bikes-Per-Day\")\n",
    "bpd_with_weather = bpd.merge(wthr4,all_x=True,all_y=False)\n",
    "bpd_with_weather.describe()\n",
    "bpd_with_weather.show()"
   ]
  },
  {
   "cell_type": "code",
   "execution_count": 18,
   "metadata": {
    "collapsed": false,
    "scrolled": true
   },
   "outputs": [
    {
     "name": "stdout",
     "output_type": "stream",
     "text": [
      "Training data has 10 columns and 83276 rows, test has 41631 rows, holdout has 13888\n",
      "gbm Model Build progress: |███████████████████████████████████████████████| 100%\n",
      "drf Model Build progress: |███████████████████████████████████████████████| 100%\n",
      "glm Model Build progress: |███████████████████████████████████████████████| 100%\n",
      "deeplearning Model Build progress: |██████████████████████████████████████| 100%\n"
     ]
    },
    {
     "data": {
      "text/html": [
       "<div style=\"overflow:auto\"><table style=\"width:50%\"><tr><td><b>Model</b></td>\n",
       "<td><b>mse TRAIN</b></td>\n",
       "<td><b>mse TEST</b></td>\n",
       "<td><b>mse HOLDOUT</b></td>\n",
       "<td><b>Model Training Time (s)</b></td></tr>\n",
       "<tr><td>GBM</td>\n",
       "<td>120.3078530</td>\n",
       "<td>291.8993667</td>\n",
       "<td>285.0585033</td>\n",
       "<td>19.141</td></tr>\n",
       "<tr><td>DRF</td>\n",
       "<td>117.6329195</td>\n",
       "<td>388.7562018</td>\n",
       "<td>385.6955657</td>\n",
       "<td>88.24</td></tr>\n",
       "<tr><td>GLM</td>\n",
       "<td>862.8161359</td>\n",
       "<td>879.2555091</td>\n",
       "<td>875.8816961</td>\n",
       "<td>0.449</td></tr>\n",
       "<tr><td>DL </td>\n",
       "<td>238.1676790</td>\n",
       "<td>340.7971229</td>\n",
       "<td>351.0403636</td>\n",
       "<td>63.611</td></tr></table></div>"
      ],
      "text/plain": [
       "Model      mse TRAIN    mse TEST    mse HOLDOUT    Model Training Time (s)\n",
       "-------  -----------  ----------  -------------  -------------------------\n",
       "GBM          120.308     291.899        285.059                     19.141\n",
       "DRF          117.633     388.756        385.696                     88.24\n",
       "GLM          862.816     879.256        875.882                      0.449\n",
       "DL           238.168     340.797        351.04                      63.611"
      ]
     },
     "metadata": {},
     "output_type": "display_data"
    }
   ],
   "source": [
    "# 7 - Test/Train split again, model build again, this time with weather\n",
    "split_fit_predict(bpd_with_weather)"
   ]
  }
 ],
 "metadata": {
  "anaconda-cloud": {},
  "kernelspec": {
   "display_name": "Python [default]",
   "language": "python",
   "name": "python3"
  },
  "language_info": {
   "codemirror_mode": {
    "name": "ipython",
    "version": 3
   },
   "file_extension": ".py",
   "mimetype": "text/x-python",
   "name": "python",
   "nbconvert_exporter": "python",
   "pygments_lexer": "ipython3",
   "version": "3.5.2"
  }
 },
 "nbformat": 4,
 "nbformat_minor": 0
}
