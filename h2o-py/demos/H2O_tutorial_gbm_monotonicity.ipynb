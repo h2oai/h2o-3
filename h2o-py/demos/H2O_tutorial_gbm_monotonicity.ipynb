{
 "cells": [
  {
   "cell_type": "code",
   "execution_count": 69,
   "metadata": {},
   "outputs": [],
   "source": [
    "# This tutorial is losely based on https://xiaoxiaowang87.github.io/monotonicity_constraint/\n",
    "\n",
    "import h2o\n",
    "from h2o.estimators import H2OXGBoostEstimator\n",
    "from h2o.estimators import H2OGradientBoostingEstimator\n",
    "\n",
    "import numpy as np\n",
    "import pandas as pd\n",
    "\n",
    "import matplotlib\n",
    "import matplotlib as mpl\n",
    "import matplotlib.pyplot as plt\n",
    "\n",
    "%matplotlib inline\n",
    "\n",
    "from sklearn.datasets import fetch_california_housing"
   ]
  },
  {
   "cell_type": "code",
   "execution_count": 48,
   "metadata": {
    "collapsed": true
   },
   "outputs": [],
   "source": [
    "cal_housing = fetch_california_housing()"
   ]
  },
  {
   "cell_type": "code",
   "execution_count": 49,
   "metadata": {},
   "outputs": [
    {
     "name": "stdout",
     "output_type": "stream",
     "text": [
      "Checking whether there is an H2O instance running at http://localhost:54321. connected.\n"
     ]
    },
    {
     "data": {
      "text/html": [
       "<div style=\"overflow:auto\"><table style=\"width:50%\"><tr><td>H2O cluster uptime:</td>\n",
       "<td>45 mins 51 secs</td></tr>\n",
       "<tr><td>H2O cluster timezone:</td>\n",
       "<td>America/Los_Angeles</td></tr>\n",
       "<tr><td>H2O data parsing timezone:</td>\n",
       "<td>UTC</td></tr>\n",
       "<tr><td>H2O cluster version:</td>\n",
       "<td>3.22.0.99999</td></tr>\n",
       "<tr><td>H2O cluster version age:</td>\n",
       "<td>1 hour and 57 minutes </td></tr>\n",
       "<tr><td>H2O cluster name:</td>\n",
       "<td>mkurka</td></tr>\n",
       "<tr><td>H2O cluster total nodes:</td>\n",
       "<td>1</td></tr>\n",
       "<tr><td>H2O cluster free memory:</td>\n",
       "<td>11.25 Gb</td></tr>\n",
       "<tr><td>H2O cluster total cores:</td>\n",
       "<td>8</td></tr>\n",
       "<tr><td>H2O cluster allowed cores:</td>\n",
       "<td>8</td></tr>\n",
       "<tr><td>H2O cluster status:</td>\n",
       "<td>locked, healthy</td></tr>\n",
       "<tr><td>H2O connection url:</td>\n",
       "<td>http://localhost:54321</td></tr>\n",
       "<tr><td>H2O connection proxy:</td>\n",
       "<td>None</td></tr>\n",
       "<tr><td>H2O internal security:</td>\n",
       "<td>False</td></tr>\n",
       "<tr><td>H2O API Extensions:</td>\n",
       "<td>XGBoost, Algos, AutoML, Core V3, Core V4</td></tr>\n",
       "<tr><td>Python version:</td>\n",
       "<td>2.7.14 final</td></tr></table></div>"
      ],
      "text/plain": [
       "--------------------------  ----------------------------------------\n",
       "H2O cluster uptime:         45 mins 51 secs\n",
       "H2O cluster timezone:       America/Los_Angeles\n",
       "H2O data parsing timezone:  UTC\n",
       "H2O cluster version:        3.22.0.99999\n",
       "H2O cluster version age:    1 hour and 57 minutes\n",
       "H2O cluster name:           mkurka\n",
       "H2O cluster total nodes:    1\n",
       "H2O cluster free memory:    11.25 Gb\n",
       "H2O cluster total cores:    8\n",
       "H2O cluster allowed cores:  8\n",
       "H2O cluster status:         locked, healthy\n",
       "H2O connection url:         http://localhost:54321\n",
       "H2O connection proxy:\n",
       "H2O internal security:      False\n",
       "H2O API Extensions:         XGBoost, Algos, AutoML, Core V3, Core V4\n",
       "Python version:             2.7.14 final\n",
       "--------------------------  ----------------------------------------"
      ]
     },
     "metadata": {},
     "output_type": "display_data"
    }
   ],
   "source": [
    "h2o.init()"
   ]
  },
  {
   "cell_type": "code",
   "execution_count": 50,
   "metadata": {},
   "outputs": [
    {
     "name": "stdout",
     "output_type": "stream",
     "text": [
      "Parse progress: |█████████████████████████████████████████████████████████| 100%\n",
      "Parse progress: |█████████████████████████████████████████████████████████| 100%\n"
     ]
    }
   ],
   "source": [
    "data = h2o.H2OFrame(cal_housing.data, column_names=cal_housing.feature_names)\n",
    "data[\"target\"] = h2o.H2OFrame(cal_housing.target)"
   ]
  },
  {
   "cell_type": "code",
   "execution_count": 51,
   "metadata": {
    "collapsed": true
   },
   "outputs": [],
   "source": [
    "train, test = data.split_frame([0.6], seed=123)"
   ]
  },
  {
   "cell_type": "code",
   "execution_count": 52,
   "metadata": {},
   "outputs": [
    {
     "data": {
      "text/html": [
       "<table>\n",
       "<thead>\n",
       "<tr><th>       </th><th>MedInc       </th><th>HouseAge     </th><th>AveRooms      </th><th>AveBedrms     </th><th>Population   </th><th>AveOccup      </th><th>Latitude     </th><th>Longitude     </th><th>target       </th></tr>\n",
       "</thead>\n",
       "<tbody>\n",
       "<tr><td>type   </td><td>real         </td><td>int          </td><td>real          </td><td>real          </td><td>int          </td><td>real          </td><td>real         </td><td>real          </td><td>real         </td></tr>\n",
       "<tr><td>mins   </td><td>0.4999       </td><td>1.0          </td><td>0.846153846154</td><td>0.375         </td><td>3.0          </td><td>0.692307692308</td><td>32.54        </td><td>-124.35       </td><td>0.14999      </td></tr>\n",
       "<tr><td>mean   </td><td>3.88080577434</td><td>28.592896835 </td><td>5.45159062686 </td><td>1.09888842652 </td><td>1426.40412338</td><td>3.1598055712  </td><td>35.6381468954</td><td>-119.572060079</td><td>2.06838035113</td></tr>\n",
       "<tr><td>maxs   </td><td>15.0001      </td><td>52.0         </td><td>132.533333333 </td><td>34.0666666667 </td><td>35682.0      </td><td>1243.33333333 </td><td>41.95        </td><td>-114.31       </td><td>5.00001      </td></tr>\n",
       "<tr><td>sigma  </td><td>1.90138273147</td><td>12.5943702314</td><td>2.51012114666 </td><td>0.503062422674</td><td>1160.40981696</td><td>13.3502637259 </td><td>2.14149825875</td><td>2.00443036004 </td><td>1.15487252367</td></tr>\n",
       "<tr><td>zeros  </td><td>0            </td><td>0            </td><td>0             </td><td>0             </td><td>0            </td><td>0             </td><td>0            </td><td>0             </td><td>0            </td></tr>\n",
       "<tr><td>missing</td><td>0            </td><td>0            </td><td>0             </td><td>0             </td><td>0            </td><td>0             </td><td>0            </td><td>0             </td><td>0            </td></tr>\n",
       "<tr><td>0      </td><td>8.3252       </td><td>41.0         </td><td>6.98412698413 </td><td>1.02380952381 </td><td>322.0        </td><td>2.55555555556 </td><td>37.88        </td><td>-122.23       </td><td>4.526        </td></tr>\n",
       "<tr><td>1      </td><td>8.3014       </td><td>21.0         </td><td>6.2381370826  </td><td>0.971880492091</td><td>2401.0       </td><td>2.10984182777 </td><td>37.86        </td><td>-122.22       </td><td>3.585        </td></tr>\n",
       "<tr><td>2      </td><td>7.2574       </td><td>52.0         </td><td>8.28813559322 </td><td>1.07344632768 </td><td>496.0        </td><td>2.80225988701 </td><td>37.85        </td><td>-122.24       </td><td>3.521        </td></tr>\n",
       "<tr><td>3      </td><td>3.8462       </td><td>52.0         </td><td>6.28185328185 </td><td>1.08108108108 </td><td>565.0        </td><td>2.18146718147 </td><td>37.85        </td><td>-122.25       </td><td>3.422        </td></tr>\n",
       "<tr><td>4      </td><td>4.0368       </td><td>52.0         </td><td>4.76165803109 </td><td>1.10362694301 </td><td>413.0        </td><td>2.13989637306 </td><td>37.85        </td><td>-122.25       </td><td>2.697        </td></tr>\n",
       "<tr><td>5      </td><td>3.12         </td><td>52.0         </td><td>4.79752704791 </td><td>1.06182380216 </td><td>1157.0       </td><td>1.78825347759 </td><td>37.84        </td><td>-122.25       </td><td>2.414        </td></tr>\n",
       "<tr><td>6      </td><td>3.2705       </td><td>52.0         </td><td>4.77247956403 </td><td>1.02452316076 </td><td>1504.0       </td><td>2.04904632153 </td><td>37.85        </td><td>-122.26       </td><td>2.418        </td></tr>\n",
       "<tr><td>7      </td><td>3.075        </td><td>52.0         </td><td>5.32264957265 </td><td>1.01282051282 </td><td>1098.0       </td><td>2.34615384615 </td><td>37.85        </td><td>-122.26       </td><td>2.135        </td></tr>\n",
       "<tr><td>8      </td><td>2.1202       </td><td>52.0         </td><td>4.05280528053 </td><td>0.96699669967 </td><td>648.0        </td><td>2.13861386139 </td><td>37.85        </td><td>-122.27       </td><td>1.555        </td></tr>\n",
       "<tr><td>9      </td><td>1.9911       </td><td>50.0         </td><td>5.34367541766 </td><td>1.08591885442 </td><td>990.0        </td><td>2.36276849642 </td><td>37.84        </td><td>-122.26       </td><td>1.587        </td></tr>\n",
       "</tbody>\n",
       "</table>"
      ]
     },
     "metadata": {},
     "output_type": "display_data"
    }
   ],
   "source": [
    "train.summary()"
   ]
  },
  {
   "cell_type": "code",
   "execution_count": 53,
   "metadata": {},
   "outputs": [
    {
     "data": {
      "text/html": [
       "<table>\n",
       "<thead>\n",
       "<tr><th>       </th><th>MedInc       </th><th>HouseAge     </th><th>AveRooms     </th><th>AveBedrms     </th><th>Population   </th><th>AveOccup     </th><th>Latitude     </th><th>Longitude     </th><th>target       </th></tr>\n",
       "</thead>\n",
       "<tbody>\n",
       "<tr><td>type   </td><td>real         </td><td>int          </td><td>real         </td><td>real          </td><td>int          </td><td>real         </td><td>real         </td><td>real          </td><td>real         </td></tr>\n",
       "<tr><td>mins   </td><td>0.4999       </td><td>1.0          </td><td>1.0          </td><td>0.333333333333</td><td>6.0          </td><td>1.16932907348</td><td>32.56        </td><td>-124.3        </td><td>0.14999      </td></tr>\n",
       "<tr><td>mean   </td><td>3.85536716527</td><td>28.7098382585</td><td>5.39488676457</td><td>1.09333302879 </td><td>1424.07637115</td><td>2.93603511044</td><td>35.6223701812</td><td>-119.566147391</td><td>2.06882668004</td></tr>\n",
       "<tr><td>maxs   </td><td>15.0001      </td><td>52.0         </td><td>141.909090909</td><td>25.6363636364 </td><td>15507.0      </td><td>83.1714285714</td><td>41.95        </td><td>-114.56       </td><td>5.00001      </td></tr>\n",
       "<tr><td>sigma  </td><td>1.8974750829 </td><td>12.5726769447</td><td>2.41862993425</td><td>0.426136469691</td><td>1088.96995567</td><td>1.26628333493</td><td>2.12764543091</td><td>2.00229059869 </td><td>1.15264118508</td></tr>\n",
       "<tr><td>zeros  </td><td>0            </td><td>0            </td><td>0            </td><td>0             </td><td>0            </td><td>0            </td><td>0            </td><td>0             </td><td>0            </td></tr>\n",
       "<tr><td>missing</td><td>0            </td><td>0            </td><td>0            </td><td>0             </td><td>0            </td><td>0            </td><td>0            </td><td>0             </td><td>0            </td></tr>\n",
       "<tr><td>0      </td><td>5.6431       </td><td>52.0         </td><td>5.81735159817</td><td>1.07305936073 </td><td>558.0        </td><td>2.54794520548</td><td>37.85        </td><td>-122.25       </td><td>3.413        </td></tr>\n",
       "<tr><td>1      </td><td>3.6591       </td><td>52.0         </td><td>4.93190661479</td><td>0.951361867704</td><td>1094.0       </td><td>2.12840466926</td><td>37.84        </td><td>-122.25       </td><td>2.992        </td></tr>\n",
       "<tr><td>2      </td><td>2.0804       </td><td>42.0         </td><td>4.29411764706</td><td>1.11764705882 </td><td>1206.0       </td><td>2.0268907563 </td><td>37.84        </td><td>-122.26       </td><td>2.267        </td></tr>\n",
       "<tr><td>3      </td><td>3.6912       </td><td>52.0         </td><td>4.97058823529</td><td>0.990196078431</td><td>1551.0       </td><td>2.17226890756</td><td>37.84        </td><td>-122.25       </td><td>2.611        </td></tr>\n",
       "<tr><td>4      </td><td>3.2031       </td><td>52.0         </td><td>5.4776119403 </td><td>1.07960199005 </td><td>910.0        </td><td>2.26368159204</td><td>37.85        </td><td>-122.26       </td><td>2.815        </td></tr>\n",
       "<tr><td>5      </td><td>2.6736       </td><td>52.0         </td><td>4.0          </td><td>1.09770114943 </td><td>345.0        </td><td>1.98275862069</td><td>37.84        </td><td>-122.26       </td><td>1.913        </td></tr>\n",
       "<tr><td>6      </td><td>1.9167       </td><td>52.0         </td><td>4.26290322581</td><td>1.00967741935 </td><td>1212.0       </td><td>1.95483870968</td><td>37.85        </td><td>-122.26       </td><td>1.592        </td></tr>\n",
       "<tr><td>7      </td><td>2.125        </td><td>50.0         </td><td>4.24242424242</td><td>1.07196969697 </td><td>697.0        </td><td>2.64015151515</td><td>37.85        </td><td>-122.26       </td><td>1.4          </td></tr>\n",
       "<tr><td>8      </td><td>2.775        </td><td>52.0         </td><td>5.93957703927</td><td>1.04833836858 </td><td>793.0        </td><td>2.39577039275</td><td>37.85        </td><td>-122.27       </td><td>1.525        </td></tr>\n",
       "<tr><td>9      </td><td>1.808        </td><td>52.0         </td><td>4.78085642317</td><td>1.0604534005  </td><td>1102.0       </td><td>2.7758186398 </td><td>37.85        </td><td>-122.28       </td><td>1.055        </td></tr>\n",
       "</tbody>\n",
       "</table>"
      ]
     },
     "metadata": {},
     "output_type": "display_data"
    }
   ],
   "source": [
    "test.summary()"
   ]
  },
  {
   "cell_type": "code",
   "execution_count": 54,
   "metadata": {
    "collapsed": true
   },
   "outputs": [],
   "source": [
    "feature_names = ['MedInc', 'AveOccup', 'HouseAge']\n",
    "monotone_constraints = {\"MedInc\": 1, \"AveOccup\": -1, \"HouseAge\": 1}"
   ]
  },
  {
   "cell_type": "code",
   "execution_count": 55,
   "metadata": {},
   "outputs": [
    {
     "name": "stdout",
     "output_type": "stream",
     "text": [
      "xgboost Model Build progress: |███████████████████████████████████████████| 100%\n"
     ]
    }
   ],
   "source": [
    "xgb_mono = H2OXGBoostEstimator(monotone_constraints=monotone_constraints)\n",
    "xgb_mono.train(x=feature_names, y=\"target\", training_frame=train, validation_frame=test)"
   ]
  },
  {
   "cell_type": "code",
   "execution_count": 56,
   "metadata": {},
   "outputs": [
    {
     "name": "stdout",
     "output_type": "stream",
     "text": [
      "\n",
      "ModelMetricsRegression: xgboost\n",
      "** Reported on train data. **\n",
      "\n",
      "MSE: 0.450582394315\n",
      "RMSE: 0.671254343983\n",
      "MAE: 0.493647644764\n",
      "RMSLE: 0.217638157557\n",
      "Mean Residual Deviance: 0.450582394315\n"
     ]
    },
    {
     "data": {
      "text/plain": []
     },
     "execution_count": 56,
     "metadata": {},
     "output_type": "execute_result"
    }
   ],
   "source": [
    "xgb_mono.model_performance()"
   ]
  },
  {
   "cell_type": "code",
   "execution_count": 57,
   "metadata": {},
   "outputs": [
    {
     "name": "stdout",
     "output_type": "stream",
     "text": [
      "\n",
      "ModelMetricsRegression: xgboost\n",
      "** Reported on validation data. **\n",
      "\n",
      "MSE: 0.491813275045\n",
      "RMSE: 0.701294000434\n",
      "MAE: 0.518155694956\n",
      "RMSLE: 0.22897543713\n",
      "Mean Residual Deviance: 0.491813275045\n"
     ]
    },
    {
     "data": {
      "text/plain": []
     },
     "execution_count": 57,
     "metadata": {},
     "output_type": "execute_result"
    }
   ],
   "source": [
    "xgb_mono.model_performance(valid=True)"
   ]
  },
  {
   "cell_type": "code",
   "execution_count": 58,
   "metadata": {},
   "outputs": [
    {
     "name": "stdout",
     "output_type": "stream",
     "text": [
      "gbm Model Build progress: |███████████████████████████████████████████████| 100%\n"
     ]
    }
   ],
   "source": [
    "gbm_mono = H2OGradientBoostingEstimator(monotone_constraints=monotone_constraints)\n",
    "gbm_mono.train(x=feature_names, y=\"target\", training_frame=train, validation_frame=test)"
   ]
  },
  {
   "cell_type": "code",
   "execution_count": 59,
   "metadata": {},
   "outputs": [
    {
     "name": "stdout",
     "output_type": "stream",
     "text": [
      "\n",
      "ModelMetricsRegression: gbm\n",
      "** Reported on train data. **\n",
      "\n",
      "MSE: 0.449986623705\n",
      "RMSE: 0.670810423074\n",
      "MAE: 0.494184218288\n",
      "RMSLE: 0.21741684144\n",
      "Mean Residual Deviance: 0.449986623705\n"
     ]
    },
    {
     "data": {
      "text/plain": []
     },
     "execution_count": 59,
     "metadata": {},
     "output_type": "execute_result"
    }
   ],
   "source": [
    "gbm_mono.model_performance()"
   ]
  },
  {
   "cell_type": "code",
   "execution_count": 60,
   "metadata": {},
   "outputs": [
    {
     "name": "stdout",
     "output_type": "stream",
     "text": [
      "\n",
      "ModelMetricsRegression: gbm\n",
      "** Reported on validation data. **\n",
      "\n",
      "MSE: 0.481829630737\n",
      "RMSE: 0.694139489395\n",
      "MAE: 0.515524158621\n",
      "RMSLE: 0.226177098203\n",
      "Mean Residual Deviance: 0.481829630737\n"
     ]
    },
    {
     "data": {
      "text/plain": []
     },
     "execution_count": 60,
     "metadata": {},
     "output_type": "execute_result"
    }
   ],
   "source": [
    "gbm_mono.model_performance(valid=True)"
   ]
  },
  {
   "cell_type": "code",
   "execution_count": 61,
   "metadata": {},
   "outputs": [
    {
     "data": {
      "image/png": "[encoded data removed]",
      "text/plain": [
       "<matplotlib.figure.Figure at 0x1a1f753190>"
      ]
     },
     "metadata": {},
     "output_type": "display_data"
    }
   ],
   "source": [
    "xgb_mono.varimp_plot()"
   ]
  },
  {
   "cell_type": "code",
   "execution_count": 62,
   "metadata": {},
   "outputs": [
    {
     "data": {
      "image/png": "[encoded data removed]",
      "text/plain": [
       "<matplotlib.figure.Figure at 0x1a16b39890>"
      ]
     },
     "metadata": {},
     "output_type": "display_data"
    }
   ],
   "source": [
    "gbm_mono.varimp_plot()"
   ]
  },
  {
   "cell_type": "code",
   "execution_count": 63,
   "metadata": {},
   "outputs": [
    {
     "data": {
      "text/html": [
       "<div>\n",
       "<style>\n",
       "    .dataframe thead tr:only-child th {\n",
       "        text-align: right;\n",
       "    }\n",
       "\n",
       "    .dataframe thead th {\n",
       "        text-align: left;\n",
       "    }\n",
       "\n",
       "    .dataframe tbody tr th {\n",
       "        vertical-align: top;\n",
       "    }\n",
       "</style>\n",
       "<table border=\"1\" class=\"dataframe\">\n",
       "  <thead>\n",
       "    <tr style=\"text-align: right;\">\n",
       "      <th></th>\n",
       "      <th>Train RMSE</th>\n",
       "      <th>Test RMSE</th>\n",
       "    </tr>\n",
       "  </thead>\n",
       "  <tbody>\n",
       "    <tr>\n",
       "      <th>H2O XGBoost</th>\n",
       "      <td>0.671254</td>\n",
       "      <td>0.701294</td>\n",
       "    </tr>\n",
       "    <tr>\n",
       "      <th>H2O GBM</th>\n",
       "      <td>0.670810</td>\n",
       "      <td>0.694139</td>\n",
       "    </tr>\n",
       "  </tbody>\n",
       "</table>\n",
       "</div>"
      ],
      "text/plain": [
       "             Train RMSE  Test RMSE\n",
       "H2O XGBoost    0.671254   0.701294\n",
       "H2O GBM        0.670810   0.694139"
      ]
     },
     "execution_count": 63,
     "metadata": {},
     "output_type": "execute_result"
    }
   ],
   "source": [
    "data={'H2O XGBoost': [xgb_mono.rmse(), xgb_mono.rmse(valid=True)],\n",
    "      'H2O GBM': [gbm_mono.rmse(), gbm_mono.rmse(valid=True)]}\n",
    "pd.DataFrame.from_dict(data, columns=['Train RMSE', 'Test RMSE'], orient=\"index\")"
   ]
  },
  {
   "cell_type": "code",
   "execution_count": 64,
   "metadata": {},
   "outputs": [
    {
     "name": "stdout",
     "output_type": "stream",
     "text": [
      "PartialDependencePlot progress: |█████████████████████████████████████████| 100%\n",
      "PartialDependence: Partial Dependence Plot of model XGBoost_model_python_1543517619333_7 on column 'MedInc'\n",
      "\n"
     ]
    },
    {
     "data": {
      "text/html": [
       "<div style=\"overflow:auto\"><table style=\"width:50%\"><tr><td><b>medinc</b></td>\n",
       "<td><b>mean_response</b></td>\n",
       "<td><b>stddev_response</b></td>\n",
       "<td><b>std_error_mean_response</b></td></tr>\n",
       "<tr><td>0.4999</td>\n",
       "<td>0.9042832</td>\n",
       "<td>0.4050025</td>\n",
       "<td>0.0036345</td></tr>\n",
       "<tr><td>0.6463667</td>\n",
       "<td>1.0116680</td>\n",
       "<td>0.3172816</td>\n",
       "<td>0.0028473</td></tr>\n",
       "<tr><td>0.7928333</td>\n",
       "<td>1.0117064</td>\n",
       "<td>0.3174680</td>\n",
       "<td>0.0028490</td></tr>\n",
       "<tr><td>0.9393</td>\n",
       "<td>1.0137833</td>\n",
       "<td>0.3192623</td>\n",
       "<td>0.0028651</td></tr>\n",
       "<tr><td>1.0857667</td>\n",
       "<td>1.0144802</td>\n",
       "<td>0.3185222</td>\n",
       "<td>0.0028585</td></tr>\n",
       "<tr><td>---</td>\n",
       "<td>---</td>\n",
       "<td>---</td>\n",
       "<td>---</td></tr>\n",
       "<tr><td>14.4142333</td>\n",
       "<td>4.8378433</td>\n",
       "<td>0.4268355</td>\n",
       "<td>0.0038305</td></tr>\n",
       "<tr><td>14.5607</td>\n",
       "<td>4.8378433</td>\n",
       "<td>0.4268355</td>\n",
       "<td>0.0038305</td></tr>\n",
       "<tr><td>14.7071667</td>\n",
       "<td>4.8378433</td>\n",
       "<td>0.4268355</td>\n",
       "<td>0.0038305</td></tr>\n",
       "<tr><td>14.8536333</td>\n",
       "<td>4.8379129</td>\n",
       "<td>0.4268688</td>\n",
       "<td>0.0038308</td></tr>\n",
       "<tr><td>15.0001</td>\n",
       "<td>4.8379129</td>\n",
       "<td>0.4268688</td>\n",
       "<td>0.0038308</td></tr></table></div>"
      ],
      "text/plain": [
       "medinc          mean_response    stddev_response    std_error_mean_response\n",
       "--------------  ---------------  -----------------  -------------------------\n",
       "0.4999          0.904283157418   0.405002543263     0.00363453964024\n",
       "0.646366666667  1.01166800888    0.31728160376      0.00284732178889\n",
       "0.792833333333  1.01170635115    0.317468030436     0.00284899480343\n",
       "0.9393          1.01378326514    0.319262286792     0.00286509666738\n",
       "1.08576666667   1.01448024791    0.318522217655     0.00285845520139\n",
       "---             ---              ---                ---\n",
       "14.4142333333   4.83784330237    0.426835520607     0.00383047130275\n",
       "14.5607         4.83784330237    0.426835520607     0.00383047130275\n",
       "14.7071666667   4.83784330237    0.426835520607     0.00383047130275\n",
       "14.8536333333   4.83791292194    0.426868837521     0.00383077029259\n",
       "15.0001         4.83791292194    0.426868837521     0.00383077029259"
      ]
     },
     "metadata": {},
     "output_type": "display_data"
    },
    {
     "name": "stdout",
     "output_type": "stream",
     "text": [
      "\n",
      "See the whole table with table.as_data_frame()\n",
      "PartialDependence: Partial Dependence Plot of model XGBoost_model_python_1543517619333_7 on column 'AveOccup'\n",
      "\n"
     ]
    },
    {
     "data": {
      "text/html": [
       "<div style=\"overflow:auto\"><table style=\"width:50%\"><tr><td><b>aveoccup</b></td>\n",
       "<td><b>mean_response</b></td>\n",
       "<td><b>stddev_response</b></td>\n",
       "<td><b>std_error_mean_response</b></td></tr>\n",
       "<tr><td>0.6923077</td>\n",
       "<td>4.7145734</td>\n",
       "<td>1.6517448</td>\n",
       "<td>0.0148229</td></tr>\n",
       "<tr><td>13.2442372</td>\n",
       "<td>1.5843531</td>\n",
       "<td>0.8072629</td>\n",
       "<td>0.0072445</td></tr>\n",
       "<tr><td>25.7961668</td>\n",
       "<td>1.5843531</td>\n",
       "<td>0.8072629</td>\n",
       "<td>0.0072445</td></tr>\n",
       "<tr><td>38.3480963</td>\n",
       "<td>1.5843531</td>\n",
       "<td>0.8072629</td>\n",
       "<td>0.0072445</td></tr>\n",
       "<tr><td>50.9000259</td>\n",
       "<td>1.5843531</td>\n",
       "<td>0.8072629</td>\n",
       "<td>0.0072445</td></tr>\n",
       "<tr><td>---</td>\n",
       "<td>---</td>\n",
       "<td>---</td>\n",
       "<td>---</td></tr>\n",
       "<tr><td>1193.1256151</td>\n",
       "<td>-1.1011310</td>\n",
       "<td>0.7744430</td>\n",
       "<td>0.0069499</td></tr>\n",
       "<tr><td>1205.6775447</td>\n",
       "<td>-1.1011310</td>\n",
       "<td>0.7744430</td>\n",
       "<td>0.0069499</td></tr>\n",
       "<tr><td>1218.2294742</td>\n",
       "<td>-1.1011310</td>\n",
       "<td>0.7744430</td>\n",
       "<td>0.0069499</td></tr>\n",
       "<tr><td>1230.7814038</td>\n",
       "<td>-1.1011310</td>\n",
       "<td>0.7744430</td>\n",
       "<td>0.0069499</td></tr>\n",
       "<tr><td>1243.3333333</td>\n",
       "<td>-1.1011310</td>\n",
       "<td>0.7744430</td>\n",
       "<td>0.0069499</td></tr></table></div>"
      ],
      "text/plain": [
       "aveoccup        mean_response    stddev_response    std_error_mean_response\n",
       "--------------  ---------------  -----------------  -------------------------\n",
       "0.692307692308  4.71457340546    1.65174484764      0.0148229491991\n",
       "13.2442372442   1.58435312864    0.807262935789     0.0072444709028\n",
       "25.7961667962   1.58435312864    0.807262935789     0.0072444709028\n",
       "38.3480963481   1.58435312864    0.807262935789     0.0072444709028\n",
       "50.9000259      1.58435312864    0.807262935789     0.0072444709028\n",
       "---             ---              ---                ---\n",
       "1193.12561513   -1.10113102543   0.774442978037     0.00694994080804\n",
       "1205.67754468   -1.10113102543   0.774442978037     0.00694994080804\n",
       "1218.22947423   -1.10113102543   0.774442978037     0.00694994080804\n",
       "1230.78140378   -1.10113102543   0.774442978037     0.00694994080804\n",
       "1243.33333333   -1.10113102543   0.774442978037     0.00694994080804"
      ]
     },
     "metadata": {},
     "output_type": "display_data"
    },
    {
     "name": "stdout",
     "output_type": "stream",
     "text": [
      "\n",
      "See the whole table with table.as_data_frame()\n",
      "PartialDependence: Partial Dependence Plot of model XGBoost_model_python_1543517619333_7 on column 'HouseAge'\n",
      "\n"
     ]
    },
    {
     "data": {
      "text/html": [
       "<div style=\"overflow:auto\"><table style=\"width:50%\"><tr><td><b>houseage</b></td>\n",
       "<td><b>mean_response</b></td>\n",
       "<td><b>stddev_response</b></td>\n",
       "<td><b>std_error_mean_response</b></td></tr>\n",
       "<tr><td>1.0</td>\n",
       "<td>1.4583174</td>\n",
       "<td>0.8679680</td>\n",
       "<td>0.0077892</td></tr>\n",
       "<tr><td>2.0</td>\n",
       "<td>1.4583174</td>\n",
       "<td>0.8679680</td>\n",
       "<td>0.0077892</td></tr>\n",
       "<tr><td>3.0</td>\n",
       "<td>1.6582169</td>\n",
       "<td>0.8473530</td>\n",
       "<td>0.0076042</td></tr>\n",
       "<tr><td>4.0</td>\n",
       "<td>1.7134339</td>\n",
       "<td>0.8369214</td>\n",
       "<td>0.0075106</td></tr>\n",
       "<tr><td>5.0</td>\n",
       "<td>1.7160654</td>\n",
       "<td>0.8339999</td>\n",
       "<td>0.0074844</td></tr>\n",
       "<tr><td>---</td>\n",
       "<td>---</td>\n",
       "<td>---</td>\n",
       "<td>---</td></tr>\n",
       "<tr><td>48.0</td>\n",
       "<td>2.3312915</td>\n",
       "<td>0.9915394</td>\n",
       "<td>0.0088982</td></tr>\n",
       "<tr><td>49.0</td>\n",
       "<td>2.3327401</td>\n",
       "<td>0.9897468</td>\n",
       "<td>0.0088821</td></tr>\n",
       "<tr><td>50.0</td>\n",
       "<td>2.3413390</td>\n",
       "<td>0.9806541</td>\n",
       "<td>0.0088005</td></tr>\n",
       "<tr><td>51.0</td>\n",
       "<td>2.4553383</td>\n",
       "<td>0.9887533</td>\n",
       "<td>0.0088732</td></tr>\n",
       "<tr><td>52.0</td>\n",
       "<td>2.5113788</td>\n",
       "<td>0.9656211</td>\n",
       "<td>0.0086656</td></tr></table></div>"
      ],
      "text/plain": [
       "houseage    mean_response    stddev_response    std_error_mean_response\n",
       "----------  ---------------  -----------------  -------------------------\n",
       "1.0         1.45831738348    0.867967966492     0.00778924486563\n",
       "2.0         1.45831738348    0.867967966492     0.00778924486563\n",
       "3.0         1.65821687972    0.84735304869      0.00760424421025\n",
       "4.0         1.71343394366    0.836921379682     0.00751062920671\n",
       "5.0         1.71606544807    0.833999901828     0.00748441152674\n",
       "---         ---              ---                ---\n",
       "48.0        2.331291457      0.991539423426     0.00889818940463\n",
       "49.0        2.33274008164    0.989746819547     0.00888210237019\n",
       "50.0        2.34133903773    0.980654079907     0.00880050307357\n",
       "51.0        2.45533834221    0.988753310879     0.00887318650856\n",
       "52.0        2.51137877797    0.965621058778     0.00866559500419"
      ]
     },
     "metadata": {},
     "output_type": "display_data"
    },
    {
     "name": "stdout",
     "output_type": "stream",
     "text": [
      "\n",
      "See the whole table with table.as_data_frame()\n"
     ]
    },
    {
     "data": {
      "text/plain": [
       "[, , ]"
      ]
     },
     "execution_count": 64,
     "metadata": {},
     "output_type": "execute_result"
    },
    {
     "data": {
      "image/png": "[encoded data removed]",
      "text/plain": [
       "<matplotlib.figure.Figure at 0x1a169d1d90>"
      ]
     },
     "metadata": {},
     "output_type": "display_data"
    }
   ],
   "source": [
    "xgb_mono.partial_plot(data=train, cols=feature_names, nbins=100)"
   ]
  },
  {
   "cell_type": "code",
   "execution_count": 65,
   "metadata": {},
   "outputs": [
    {
     "name": "stdout",
     "output_type": "stream",
     "text": [
      "PartialDependencePlot progress: |█████████████████████████████████████████| 100%\n",
      "PartialDependence: Partial Dependence Plot of model GBM_model_python_1543517619333_8 on column 'MedInc'\n",
      "\n"
     ]
    },
    {
     "data": {
      "text/html": [
       "<div style=\"overflow:auto\"><table style=\"width:50%\"><tr><td><b>medinc</b></td>\n",
       "<td><b>mean_response</b></td>\n",
       "<td><b>stddev_response</b></td>\n",
       "<td><b>std_error_mean_response</b></td></tr>\n",
       "<tr><td>0.4999</td>\n",
       "<td>1.0842446</td>\n",
       "<td>0.2019811</td>\n",
       "<td>0.0018126</td></tr>\n",
       "<tr><td>0.6463667</td>\n",
       "<td>1.0842446</td>\n",
       "<td>0.2019811</td>\n",
       "<td>0.0018126</td></tr>\n",
       "<tr><td>0.7928333</td>\n",
       "<td>1.0842446</td>\n",
       "<td>0.2019811</td>\n",
       "<td>0.0018126</td></tr>\n",
       "<tr><td>0.9393</td>\n",
       "<td>1.0842446</td>\n",
       "<td>0.2019811</td>\n",
       "<td>0.0018126</td></tr>\n",
       "<tr><td>1.0857667</td>\n",
       "<td>1.0842446</td>\n",
       "<td>0.2019811</td>\n",
       "<td>0.0018126</td></tr>\n",
       "<tr><td>---</td>\n",
       "<td>---</td>\n",
       "<td>---</td>\n",
       "<td>---</td></tr>\n",
       "<tr><td>14.4142333</td>\n",
       "<td>4.7717826</td>\n",
       "<td>0.2258950</td>\n",
       "<td>0.0020272</td></tr>\n",
       "<tr><td>14.5607</td>\n",
       "<td>4.7717826</td>\n",
       "<td>0.2258950</td>\n",
       "<td>0.0020272</td></tr>\n",
       "<tr><td>14.7071667</td>\n",
       "<td>4.7717826</td>\n",
       "<td>0.2258950</td>\n",
       "<td>0.0020272</td></tr>\n",
       "<tr><td>14.8536333</td>\n",
       "<td>4.7717826</td>\n",
       "<td>0.2258950</td>\n",
       "<td>0.0020272</td></tr>\n",
       "<tr><td>15.0001</td>\n",
       "<td>4.7717826</td>\n",
       "<td>0.2258950</td>\n",
       "<td>0.0020272</td></tr></table></div>"
      ],
      "text/plain": [
       "medinc          mean_response    stddev_response    std_error_mean_response\n",
       "--------------  ---------------  -----------------  -------------------------\n",
       "0.4999          1.08424463923    0.201981054756     0.00181260133375\n",
       "0.646366666667  1.08424463923    0.201981054756     0.00181260133375\n",
       "0.792833333333  1.08424463923    0.201981054756     0.00181260133375\n",
       "0.9393          1.08424463923    0.201981054756     0.00181260133375\n",
       "1.08576666667   1.08424463923    0.201981054756     0.00181260133375\n",
       "---             ---              ---                ---\n",
       "14.4142333333   4.77178258484    0.225894985984     0.00202720771696\n",
       "14.5607         4.77178258484    0.225894985984     0.00202720771696\n",
       "14.7071666667   4.77178258484    0.225894985984     0.00202720771696\n",
       "14.8536333333   4.77178258484    0.225894985984     0.00202720771696\n",
       "15.0001         4.77178258484    0.225894985984     0.00202720771696"
      ]
     },
     "metadata": {},
     "output_type": "display_data"
    },
    {
     "name": "stdout",
     "output_type": "stream",
     "text": [
      "\n",
      "See the whole table with table.as_data_frame()\n",
      "PartialDependence: Partial Dependence Plot of model GBM_model_python_1543517619333_8 on column 'AveOccup'\n",
      "\n"
     ]
    },
    {
     "data": {
      "text/html": [
       "<div style=\"overflow:auto\"><table style=\"width:50%\"><tr><td><b>aveoccup</b></td>\n",
       "<td><b>mean_response</b></td>\n",
       "<td><b>stddev_response</b></td>\n",
       "<td><b>std_error_mean_response</b></td></tr>\n",
       "<tr><td>0.6923077</td>\n",
       "<td>3.1477957</td>\n",
       "<td>0.9659091</td>\n",
       "<td>0.0086682</td></tr>\n",
       "<tr><td>13.2442372</td>\n",
       "<td>1.6114909</td>\n",
       "<td>0.7182429</td>\n",
       "<td>0.0064456</td></tr>\n",
       "<tr><td>25.7961668</td>\n",
       "<td>1.6114909</td>\n",
       "<td>0.7182429</td>\n",
       "<td>0.0064456</td></tr>\n",
       "<tr><td>38.3480963</td>\n",
       "<td>1.6114909</td>\n",
       "<td>0.7182429</td>\n",
       "<td>0.0064456</td></tr>\n",
       "<tr><td>50.9000259</td>\n",
       "<td>1.6114909</td>\n",
       "<td>0.7182429</td>\n",
       "<td>0.0064456</td></tr>\n",
       "<tr><td>---</td>\n",
       "<td>---</td>\n",
       "<td>---</td>\n",
       "<td>---</td></tr>\n",
       "<tr><td>1193.1256151</td>\n",
       "<td>1.6114909</td>\n",
       "<td>0.7182429</td>\n",
       "<td>0.0064456</td></tr>\n",
       "<tr><td>1205.6775447</td>\n",
       "<td>1.6114909</td>\n",
       "<td>0.7182429</td>\n",
       "<td>0.0064456</td></tr>\n",
       "<tr><td>1218.2294742</td>\n",
       "<td>1.6114909</td>\n",
       "<td>0.7182429</td>\n",
       "<td>0.0064456</td></tr>\n",
       "<tr><td>1230.7814038</td>\n",
       "<td>1.6114909</td>\n",
       "<td>0.7182429</td>\n",
       "<td>0.0064456</td></tr>\n",
       "<tr><td>1243.3333333</td>\n",
       "<td>1.6114909</td>\n",
       "<td>0.7182429</td>\n",
       "<td>0.0064456</td></tr></table></div>"
      ],
      "text/plain": [
       "aveoccup        mean_response    stddev_response    std_error_mean_response\n",
       "--------------  ---------------  -----------------  -------------------------\n",
       "0.692307692308  3.14779573025    0.965909120689     0.00866818010507\n",
       "13.2442372442   1.61149093453    0.718242942928     0.00644559519643\n",
       "25.7961667962   1.61149093453    0.718242942928     0.00644559519643\n",
       "38.3480963481   1.61149093453    0.718242942928     0.00644559519643\n",
       "50.9000259      1.61149093453    0.718242942928     0.00644559519643\n",
       "---             ---              ---                ---\n",
       "1193.12561513   1.61149093453    0.718242942928     0.00644559519643\n",
       "1205.67754468   1.61149093453    0.718242942928     0.00644559519643\n",
       "1218.22947423   1.61149093453    0.718242942928     0.00644559519643\n",
       "1230.78140378   1.61149093453    0.718242942928     0.00644559519643\n",
       "1243.33333333   1.61149093453    0.718242942928     0.00644559519643"
      ]
     },
     "metadata": {},
     "output_type": "display_data"
    },
    {
     "name": "stdout",
     "output_type": "stream",
     "text": [
      "\n",
      "See the whole table with table.as_data_frame()\n",
      "PartialDependence: Partial Dependence Plot of model GBM_model_python_1543517619333_8 on column 'HouseAge'\n",
      "\n"
     ]
    },
    {
     "data": {
      "text/html": [
       "<div style=\"overflow:auto\"><table style=\"width:50%\"><tr><td><b>houseage</b></td>\n",
       "<td><b>mean_response</b></td>\n",
       "<td><b>stddev_response</b></td>\n",
       "<td><b>std_error_mean_response</b></td></tr>\n",
       "<tr><td>1.0</td>\n",
       "<td>1.7299145</td>\n",
       "<td>0.7237023</td>\n",
       "<td>0.0064946</td></tr>\n",
       "<tr><td>2.0</td>\n",
       "<td>1.7299145</td>\n",
       "<td>0.7237023</td>\n",
       "<td>0.0064946</td></tr>\n",
       "<tr><td>3.0</td>\n",
       "<td>1.7659286</td>\n",
       "<td>0.7296043</td>\n",
       "<td>0.0065476</td></tr>\n",
       "<tr><td>4.0</td>\n",
       "<td>1.7807129</td>\n",
       "<td>0.7446737</td>\n",
       "<td>0.0066828</td></tr>\n",
       "<tr><td>5.0</td>\n",
       "<td>1.7826570</td>\n",
       "<td>0.7470610</td>\n",
       "<td>0.0067042</td></tr>\n",
       "<tr><td>---</td>\n",
       "<td>---</td>\n",
       "<td>---</td>\n",
       "<td>---</td></tr>\n",
       "<tr><td>48.0</td>\n",
       "<td>2.3636941</td>\n",
       "<td>0.9871769</td>\n",
       "<td>0.0088590</td></tr>\n",
       "<tr><td>49.0</td>\n",
       "<td>2.3636941</td>\n",
       "<td>0.9871769</td>\n",
       "<td>0.0088590</td></tr>\n",
       "<tr><td>50.0</td>\n",
       "<td>2.3636941</td>\n",
       "<td>0.9871769</td>\n",
       "<td>0.0088590</td></tr>\n",
       "<tr><td>51.0</td>\n",
       "<td>2.4644215</td>\n",
       "<td>0.9782047</td>\n",
       "<td>0.0087785</td></tr>\n",
       "<tr><td>52.0</td>\n",
       "<td>2.5585947</td>\n",
       "<td>0.9338781</td>\n",
       "<td>0.0083807</td></tr></table></div>"
      ],
      "text/plain": [
       "houseage    mean_response    stddev_response    std_error_mean_response\n",
       "----------  ---------------  -----------------  -------------------------\n",
       "1.0         1.72991453816    0.723702251019     0.00649458765832\n",
       "2.0         1.72991453816    0.723702251019     0.00649458765832\n",
       "3.0         1.76592856006    0.729604250096     0.00654755288029\n",
       "4.0         1.7807129499     0.744673745195     0.00668278827129\n",
       "5.0         1.78265695856    0.74706097738      0.00670421156887\n",
       "---         ---              ---                ---\n",
       "48.0        2.36369414221    0.987176942411     0.0088590399957\n",
       "49.0        2.36369414221    0.987176942411     0.0088590399957\n",
       "50.0        2.36369414221    0.987176942411     0.0088590399957\n",
       "51.0        2.46442145681    0.978204724748     0.00877852227723\n",
       "52.0        2.558594724      0.933878147945     0.00838073045299"
      ]
     },
     "metadata": {},
     "output_type": "display_data"
    },
    {
     "name": "stdout",
     "output_type": "stream",
     "text": [
      "\n",
      "See the whole table with table.as_data_frame()\n"
     ]
    },
    {
     "data": {
      "text/plain": [
       "[, , ]"
      ]
     },
     "execution_count": 65,
     "metadata": {},
     "output_type": "execute_result"
    },
    {
     "data": {
      "image/png": "[encoded data removed]",
      "text/plain": [
       "<matplotlib.figure.Figure at 0x1a1fa91550>"
      ]
     },
     "metadata": {},
     "output_type": "display_data"
    }
   ],
   "source": [
    "gbm_mono.partial_plot(data=train, cols=feature_names, nbins=100)"
   ]
  },
  {
   "cell_type": "code",
   "execution_count": null,
   "metadata": {
    "collapsed": true
   },
   "outputs": [],
   "source": []
  }
 ],
 "metadata": {
  "kernelspec": {
   "display_name": "Python 2",
   "language": "python",
   "name": "python2"
  },
  "language_info": {
   "codemirror_mode": {
    "name": "ipython",
    "version": 2
   },
   "file_extension": ".py",
   "mimetype": "text/x-python",
   "name": "python",
   "nbconvert_exporter": "python",
   "pygments_lexer": "ipython2",
   "version": "2.7.14"
  }
 },
 "nbformat": 4,
 "nbformat_minor": 2
}
