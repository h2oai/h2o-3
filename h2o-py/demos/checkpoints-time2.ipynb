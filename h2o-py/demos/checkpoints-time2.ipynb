{
 "cells": [
  {
   "cell_type": "code",
   "execution_count": 5,
   "metadata": {},
   "outputs": [],
   "source": [
    "import sys\n",
    "sys.path.append(\"../h2o-py/build/main\")\n",
    "import h2o\n",
    "import time\n",
    "import os\n",
    "import statistics\n",
    "import random"
   ]
  },
  {
   "cell_type": "code",
   "execution_count": 6,
   "metadata": {},
   "outputs": [],
   "source": [
    "def get_folder_size(start_path = '.'):\n",
    "    total_size = 0\n",
    "    for dirpath, dirnames, filenames in os.walk(start_path):\n",
    "        for f in filenames:\n",
    "            fp = os.path.join(dirpath, f)\n",
    "            if not os.path.islink(fp):\n",
    "                total_size += os.path.getsize(fp)\n",
    "\n",
    "    return total_size\n",
    "\n",
    "\n",
    "def to_MB(size_in_bytes):\n",
    "    return size_in_bytes / 1024**2\n",
    "\n",
    "\n",
    "\n",
    "def measure_model(ntrees, max_depth, checkpoints_path=None):\n",
    "    times = []\n",
    "    file_sizes = []\n",
    "    \n",
    "    for seed in range(0,10):\n",
    "        if checkpoints_path!=None: \n",
    "            checkpoints_path_unique = checkpoints_path + \"_\" + str(ntrees) + \"_\" + str(max_depth) + \"_\" + str(seed)\n",
    "            print(\"Checkpoints path:\", checkpoints_path_unique)\n",
    "        else:\n",
    "            checkpoints_path_unique=None\n",
    "            \n",
    "        creditcards_gbm = H2OGradientBoostingEstimator(ntrees=ntrees,\n",
    "                                            max_depth=max_depth,\n",
    "                                            min_rows=1,\n",
    "                                            score_tree_interval=ntrees+1,\n",
    "                                            in_training_checkpoints_dir=checkpoints_path_unique,\n",
    "                                            in_training_checkpoints_tree_interval=5,           \n",
    "                                            seed = seed)\n",
    "        start = time.time()\n",
    "        creditcards_gbm.train(x=predictors,\n",
    "                       y=response,\n",
    "                       training_frame=train)\n",
    "        end = time.time()\n",
    "        training_time = end - start\n",
    "        print(\"Took\", training_time, \"s\")\n",
    "        times.append(training_time)\n",
    "        model_path = h2o.save_model(creditcards_gbm, \"models/\")\n",
    "        file_stats = os.stat(model_path)\n",
    "        model_size = to_MB(file_stats.st_size)\n",
    "        file_sizes.append(model_size)\n",
    "        \n",
    "    print(\"Mean training times: \", statistics.mean(times))\n",
    "    print(\"Mean model size in MegaBytes is\", statistics.mean(file_sizes))\n",
    "\n",
    "    if checkpoints_path != None:\n",
    "        checkpoints_folder_size = to_MB(get_folder_size(f\"{checkpoints_path_unique}\"))\n",
    "        print(\"Size of all checkpoints is: \", checkpoints_folder_size, 'MB')\n",
    "        print(\"Its \", checkpoints_folder_size / statistics.mean(file_sizes), \"times more that size of final model\")\n",
    "        \n",
    "    return times, file_sizes"
   ]
  },
  {
   "cell_type": "code",
   "execution_count": 7,
   "metadata": {},
   "outputs": [
    {
     "name": "stdout",
     "output_type": "stream",
     "text": [
      "Checking whether there is an H2O instance running at http://localhost:54321 . connected.\n"
     ]
    },
    {
     "data": {
      "text/html": [
       "<div style=\"overflow:auto\"><table style=\"width:50%\"><tr><td>H2O_cluster_uptime:</td>\n",
       "<td>1 min 37 secs</td></tr>\n",
       "<tr><td>H2O_cluster_timezone:</td>\n",
       "<td>Europe/Prague</td></tr>\n",
       "<tr><td>H2O_data_parsing_timezone:</td>\n",
       "<td>UTC</td></tr>\n",
       "<tr><td>H2O_cluster_version:</td>\n",
       "<td>3.37.0.99999</td></tr>\n",
       "<tr><td>H2O_cluster_version_age:</td>\n",
       "<td>15 minutes </td></tr>\n",
       "<tr><td>H2O_cluster_name:</td>\n",
       "<td>H2O_from_python_adam_farajn</td></tr>\n",
       "<tr><td>H2O_cluster_total_nodes:</td>\n",
       "<td>1</td></tr>\n",
       "<tr><td>H2O_cluster_free_memory:</td>\n",
       "<td>3.419 Gb</td></tr>\n",
       "<tr><td>H2O_cluster_total_cores:</td>\n",
       "<td>12</td></tr>\n",
       "<tr><td>H2O_cluster_allowed_cores:</td>\n",
       "<td>12</td></tr>\n",
       "<tr><td>H2O_cluster_status:</td>\n",
       "<td>locked, healthy</td></tr>\n",
       "<tr><td>H2O_connection_url:</td>\n",
       "<td>http://localhost:54321</td></tr>\n",
       "<tr><td>H2O_connection_proxy:</td>\n",
       "<td>{\"http\": null, \"https\": null}</td></tr>\n",
       "<tr><td>H2O_internal_security:</td>\n",
       "<td>False</td></tr>\n",
       "<tr><td>Python_version:</td>\n",
       "<td>3.9.8 final</td></tr></table></div>"
      ],
      "text/plain": [
       "--------------------------  -----------------------------\n",
       "H2O_cluster_uptime:         1 min 37 secs\n",
       "H2O_cluster_timezone:       Europe/Prague\n",
       "H2O_data_parsing_timezone:  UTC\n",
       "H2O_cluster_version:        3.37.0.99999\n",
       "H2O_cluster_version_age:    15 minutes\n",
       "H2O_cluster_name:           H2O_from_python_adam_farajn\n",
       "H2O_cluster_total_nodes:    1\n",
       "H2O_cluster_free_memory:    3.419 Gb\n",
       "H2O_cluster_total_cores:    12\n",
       "H2O_cluster_allowed_cores:  12\n",
       "H2O_cluster_status:         locked, healthy\n",
       "H2O_connection_url:         http://localhost:54321\n",
       "H2O_connection_proxy:       {\"http\": null, \"https\": null}\n",
       "H2O_internal_security:      False\n",
       "Python_version:             3.9.8 final\n",
       "--------------------------  -----------------------------"
      ]
     },
     "metadata": {},
     "output_type": "display_data"
    },
    {
     "name": "stdout",
     "output_type": "stream",
     "text": [
      "Parse progress: |████████████████████████████████████████████████████████████████| (done) 100%\n"
     ]
    }
   ],
   "source": [
    "from h2o.estimators import H2OGradientBoostingEstimator\n",
    "h2o.init()\n",
    "\n",
    "creditcards = h2o.import_file(\"../bigdata/laptop/creditcardfraud/creditcardfraud.csv\")\n",
    "\n",
    "columns = creditcards.columns\n",
    "predictors = columns[:len(columns)-1]\n",
    "response = \"Class\"\n",
    "\n",
    "creditcards[response] = creditcards[response].asfactor()\n",
    "\n",
    "train = creditcards"
   ]
  },
  {
   "cell_type": "code",
   "execution_count": 8,
   "metadata": {},
   "outputs": [
    {
     "name": "stdout",
     "output_type": "stream",
     "text": [
      "gbm Model Build progress: |██████████████████████████████████████████████████████| (done) 100%\n",
      "Took 29.94912886619568 s\n",
      "gbm Model Build progress: |██████████████████████████████████████████████████████| (done) 100%\n",
      "Took 31.235809087753296 s\n",
      "gbm Model Build progress: |██████████████████████████████████████████████████████| (done) 100%\n",
      "Took 45.05717706680298 s\n",
      "gbm Model Build progress: |██████████████████████████████████████████████████████| (done) 100%\n",
      "Took 43.106624126434326 s\n",
      "gbm Model Build progress: |██████████████████████████████████████████████████████| (done) 100%\n",
      "Took 42.68444895744324 s\n",
      "gbm Model Build progress: |██████████████████████████████████████████████████████| (done) 100%\n",
      "Took 42.672333002090454 s\n",
      "gbm Model Build progress: |██████████████████████████████████████████████████████| (done) 100%\n",
      "Took 43.299466133117676 s\n",
      "gbm Model Build progress: |██████████████████████████████████████████████████████| (done) 100%\n",
      "Took 42.150651931762695 s\n",
      "gbm Model Build progress: |██████████████████████████████████████████████████████| (done) 100%\n",
      "Took 42.472980260849 s\n",
      "gbm Model Build progress: |██████████████████████████████████████████████████████| (done) 100%\n",
      "Took 43.61157774925232 s\n",
      "Mean training times:  40.62401971817017\n",
      "Mean model size in MegaBytes is 1.4884765625\n",
      "Checkpoints path: checkpoints_gbm_100_30_0\n",
      "gbm Model Build progress: |██████████████████████████████████████████████████████| (done) 100%\n",
      "Took 42.49516415596008 s\n",
      "Checkpoints path: checkpoints_gbm_100_30_1\n",
      "gbm Model Build progress: |██████████████████████████████████████████████████████| (done) 100%\n",
      "Took 45.32595109939575 s\n",
      "Checkpoints path: checkpoints_gbm_100_30_2\n",
      "gbm Model Build progress: |██████████████████████████████████████████████████████| (done) 100%\n",
      "Took 41.53921413421631 s\n",
      "Checkpoints path: checkpoints_gbm_100_30_3\n",
      "gbm Model Build progress: |██████████████████████████████████████████████████████| (done) 100%\n",
      "Took 44.399133920669556 s\n",
      "Checkpoints path: checkpoints_gbm_100_30_4\n",
      "gbm Model Build progress: |██████████████████████████████████████████████████████| (done) 100%\n",
      "Took 41.70758414268494 s\n",
      "Checkpoints path: checkpoints_gbm_100_30_5\n",
      "gbm Model Build progress: |██████████████████████████████████████████████████████| (done) 100%\n",
      "Took 42.87638330459595 s\n",
      "Checkpoints path: checkpoints_gbm_100_30_6\n",
      "gbm Model Build progress: |██████████████████████████████████████████████████████| (done) 100%\n",
      "Took 39.652929067611694 s\n",
      "Checkpoints path: checkpoints_gbm_100_30_7\n",
      "gbm Model Build progress: |██████████████████████████████████████████████████████| (done) 100%\n",
      "Took 40.71227812767029 s\n",
      "Checkpoints path: checkpoints_gbm_100_30_8\n",
      "gbm Model Build progress: |██████████████████████████████████████████████████████| (done) 100%\n",
      "Took 41.3424129486084 s\n",
      "Checkpoints path: checkpoints_gbm_100_30_9\n",
      "gbm Model Build progress: |██████████████████████████████████████████████████████| (done) 100%\n",
      "Took 39.98939394950867 s\n",
      "Mean training times:  42.004044485092166\n",
      "Mean model size in MegaBytes is 1.4885257720947265\n",
      "Size of all checkpoints is:  14.497695922851562 MB\n",
      "Its  9.739633800528487 times more that size of final model\n"
     ]
    },
    {
     "data": {
      "text/plain": [
       "'Without checkpoints times'"
      ]
     },
     "metadata": {},
     "output_type": "display_data"
    },
    {
     "data": {
      "text/plain": [
       "([29.94912886619568,\n",
       "  31.235809087753296,\n",
       "  45.05717706680298,\n",
       "  43.106624126434326,\n",
       "  42.68444895744324,\n",
       "  42.672333002090454,\n",
       "  43.299466133117676,\n",
       "  42.150651931762695,\n",
       "  42.472980260849,\n",
       "  43.61157774925232],\n",
       " [1.4884777069091797,\n",
       "  1.4884719848632812,\n",
       "  1.4884872436523438,\n",
       "  1.4884729385375977,\n",
       "  1.4884843826293945,\n",
       "  1.488480567932129,\n",
       "  1.4884605407714844,\n",
       "  1.488480567932129,\n",
       "  1.4884653091430664,\n",
       "  1.4884843826293945])"
      ]
     },
     "metadata": {},
     "output_type": "display_data"
    },
    {
     "data": {
      "text/plain": [
       "'With checkpoints times'"
      ]
     },
     "metadata": {},
     "output_type": "display_data"
    },
    {
     "data": {
      "text/plain": [
       "([42.49516415596008,\n",
       "  45.32595109939575,\n",
       "  41.53921413421631,\n",
       "  44.399133920669556,\n",
       "  41.70758414268494,\n",
       "  42.87638330459595,\n",
       "  39.652929067611694,\n",
       "  40.71227812767029,\n",
       "  41.3424129486084,\n",
       "  39.98939394950867],\n",
       " [1.4885263442993164,\n",
       "  1.488530158996582,\n",
       "  1.488530158996582,\n",
       "  1.488525390625,\n",
       "  1.4885225296020508,\n",
       "  1.4885120391845703,\n",
       "  1.4885358810424805,\n",
       "  1.4885292053222656,\n",
       "  1.488515853881836,\n",
       "  1.488530158996582])"
      ]
     },
     "metadata": {},
     "output_type": "display_data"
    },
    {
     "name": "stdout",
     "output_type": "stream",
     "text": [
      "Training time is: 3.3970660129055252 % different with checkpoints\n",
      "gbm Model Build progress: |██████████████████████████████████████████████████████| (done) 100%\n",
      "Took 80.36083793640137 s\n",
      "gbm Model Build progress: |██████████████████████████████████████████████████████| (done) 100%\n",
      "Took 81.96022820472717 s\n",
      "gbm Model Build progress: |██████████████████████████████████████████████████████| (done) 100%\n",
      "Took 80.57204604148865 s\n",
      "gbm Model Build progress: |██████████████████████████████████████████████████████| (done) 100%\n",
      "Took 82.37816619873047 s\n",
      "gbm Model Build progress: |██████████████████████████████████████████████████████| (done) 100%\n",
      "Took 80.52059435844421 s\n",
      "gbm Model Build progress: |██████████████████████████████████████████████████████| (done) 100%\n",
      "Took 79.6254448890686 s\n",
      "gbm Model Build progress: |██████████████████████████████████████████████████████| (done) 100%\n",
      "Took 81.45097184181213 s\n",
      "gbm Model Build progress: |██████████████████████████████████████████████████████| (done) 100%\n",
      "Took 75.79058194160461 s\n",
      "gbm Model Build progress: |██████████████████████████████████████████████████████| (done) 100%\n",
      "Took 78.39370083808899 s\n",
      "gbm Model Build progress: |██████████████████████████████████████████████████████| (done) 100%\n",
      "Took 78.68324685096741 s\n",
      "Mean training times:  79.97358191013336\n",
      "Mean model size in MegaBytes is 2.956640529632568\n",
      "Checkpoints path: checkpoints_gbm_200_30_0\n",
      "gbm Model Build progress: |██████████████████████████████████████████████████████| (done) 100%\n",
      "Took 80.99201488494873 s\n",
      "Checkpoints path: checkpoints_gbm_200_30_1\n",
      "gbm Model Build progress: |██████████████████████████████████████████████████████| (done) 100%\n",
      "Took 80.79945588111877 s\n",
      "Checkpoints path: checkpoints_gbm_200_30_2\n",
      "gbm Model Build progress: |██████████████████████████████████████████████████████| (done) 100%\n",
      "Took 79.01427507400513 s\n",
      "Checkpoints path: checkpoints_gbm_200_30_3\n",
      "gbm Model Build progress: |██████████████████████████████████████████████████████| (done) 100%\n",
      "Took 79.53488874435425 s\n",
      "Checkpoints path: checkpoints_gbm_200_30_4\n",
      "gbm Model Build progress: |██████████████████████████████████████████████████████| (done) 100%\n",
      "Took 82.07001686096191 s\n",
      "Checkpoints path: checkpoints_gbm_200_30_5\n",
      "gbm Model Build progress: |██████████████████████████████████████████████████████| (done) 100%\n",
      "Took 79.21781182289124 s\n",
      "Checkpoints path: checkpoints_gbm_200_30_6\n",
      "gbm Model Build progress: |██████████████████████████████████████████████████████| (done) 100%\n",
      "Took 79.82983207702637 s\n",
      "Checkpoints path: checkpoints_gbm_200_30_7\n",
      "gbm Model Build progress: |██████████████████████████████████████████████████████| (done) 100%\n",
      "Took 81.4770302772522 s\n",
      "Checkpoints path: checkpoints_gbm_200_30_8\n",
      "gbm Model Build progress: |██████████████████████████████████████████████████████| (done) 100%\n",
      "Took 81.69400382041931 s\n",
      "Checkpoints path: checkpoints_gbm_200_30_9\n",
      "gbm Model Build progress: |██████████████████████████████████████████████████████| (done) 100%\n",
      "Took 78.21595191955566 s\n",
      "Mean training times:  80.28452813625336\n",
      "Mean model size in MegaBytes is 2.956695079803467\n",
      "Size of all checkpoints is:  58.41922187805176 MB\n",
      "Its  19.758284267153755 times more that size of final model\n"
     ]
    },
    {
     "data": {
      "text/plain": [
       "'Without checkpoints times'"
      ]
     },
     "metadata": {},
     "output_type": "display_data"
    },
    {
     "data": {
      "text/plain": [
       "([80.36083793640137,\n",
       "  81.96022820472717,\n",
       "  80.57204604148865,\n",
       "  82.37816619873047,\n",
       "  80.52059435844421,\n",
       "  79.6254448890686,\n",
       "  81.45097184181213,\n",
       "  75.79058194160461,\n",
       "  78.39370083808899,\n",
       "  78.68324685096741],\n",
       " [2.9566116333007812,\n",
       "  2.9566211700439453,\n",
       "  2.9566574096679688,\n",
       "  2.956645965576172,\n",
       "  2.9566497802734375,\n",
       "  2.9566526412963867,\n",
       "  2.9566335678100586,\n",
       "  2.9566383361816406,\n",
       "  2.956648826599121,\n",
       "  2.956645965576172])"
      ]
     },
     "metadata": {},
     "output_type": "display_data"
    },
    {
     "data": {
      "text/plain": [
       "'With checkpoints times'"
      ]
     },
     "metadata": {},
     "output_type": "display_data"
    },
    {
     "data": {
      "text/plain": [
       "([80.99201488494873,\n",
       "  80.79945588111877,\n",
       "  79.01427507400513,\n",
       "  79.53488874435425,\n",
       "  82.07001686096191,\n",
       "  79.21781182289124,\n",
       "  79.82983207702637,\n",
       "  81.4770302772522,\n",
       "  81.69400382041931,\n",
       "  78.21595191955566],\n",
       " [2.956695556640625,\n",
       "  2.956667900085449,\n",
       "  2.9567136764526367,\n",
       "  2.9566822052001953,\n",
       "  2.9566898345947266,\n",
       "  2.9567060470581055,\n",
       "  2.9566822052001953,\n",
       "  2.956709861755371,\n",
       "  2.95670223236084,\n",
       "  2.9567012786865234])"
      ]
     },
     "metadata": {},
     "output_type": "display_data"
    },
    {
     "name": "stdout",
     "output_type": "stream",
     "text": [
      "Training time is: 0.3888111782581083 % different with checkpoints\n",
      "gbm Model Build progress: |██████████████████████████████████████████████████████| (done) 100%\n",
      "Took 128.03584694862366 s\n",
      "gbm Model Build progress: |██████████████████████████████████████████████████████| (done) 100%\n",
      "Took 128.71920800209045 s\n",
      "gbm Model Build progress: |██████████████████████████████████████████████████████| (done) 100%\n",
      "Took 126.50181007385254 s\n",
      "gbm Model Build progress: |██████████████████████████████████████████████████████| (done) 100%\n",
      "Took 128.65914011001587 s\n",
      "gbm Model Build progress: |██████████████████████████████████████████████████████| (done) 100%\n",
      "Took 126.61634492874146 s\n",
      "gbm Model Build progress: |███████████████████████████████████████████████████████| (done) 100%\n",
      "Took 126.3617582321167 s\n",
      "gbm Model Build progress: |██████████████████████████████████████████████████████| (done) 100%\n",
      "Took 128.49332118034363 s\n",
      "gbm Model Build progress: |██████████████████████████████████████████████████████| (done) 100%\n",
      "Took 126.62582516670227 s\n",
      "gbm Model Build progress: |██████████████████████████████████████████████████████| (done) 100%\n",
      "Took 130.27614402770996 s\n",
      "gbm Model Build progress: |██████████████████████████████████████████████████████| (done) 100%\n",
      "Took 127.6639449596405 s\n",
      "Mean training times:  127.79533436298371\n",
      "Mean model size in MegaBytes is 4.37022294998169\n",
      "Checkpoints path: checkpoints_gbm_500_30_0\n",
      "gbm Model Build progress: |██████████████████████████████████████████████████████| (done) 100%\n",
      "Took 128.61857509613037 s\n",
      "Checkpoints path: checkpoints_gbm_500_30_1\n",
      "gbm Model Build progress: |██████████████████████████████████████████████████████| (done) 100%\n",
      "Took 129.08029222488403 s\n",
      "Checkpoints path: checkpoints_gbm_500_30_2\n",
      "gbm Model Build progress: |██████████████████████████████████████████████████████| (done) 100%\n",
      "Took 126.31079506874084 s\n",
      "Checkpoints path: checkpoints_gbm_500_30_3\n",
      "gbm Model Build progress: |██████████████████████████████████████████████████████| (done) 100%\n",
      "Took 128.34042716026306 s\n",
      "Checkpoints path: checkpoints_gbm_500_30_4\n",
      "gbm Model Build progress: |██████████████████████████████████████████████████████| (done) 100%\n",
      "Took 116.24774384498596 s\n",
      "Checkpoints path: checkpoints_gbm_500_30_5\n",
      "gbm Model Build progress: |██████████████████████████████████████████████████████| (done) 100%\n",
      "Took 118.47236275672913 s\n",
      "Checkpoints path: checkpoints_gbm_500_30_6\n",
      "gbm Model Build progress: |██████████████████████████████████████████████████████| (done) 100%\n",
      "Took 116.32559323310852 s\n",
      "Checkpoints path: checkpoints_gbm_500_30_7\n",
      "gbm Model Build progress: |██████████████████████████████████████████████████████| (done) 100%\n",
      "Took 116.72993278503418 s\n",
      "Checkpoints path: checkpoints_gbm_500_30_8\n",
      "gbm Model Build progress: |██████████████████████████████████████████████████████| (done) 100%\n",
      "Took 121.48194003105164 s\n",
      "Checkpoints path: checkpoints_gbm_500_30_9\n",
      "gbm Model Build progress: |██████████████████████████████████████████████████████| (done) 100%\n",
      "Took 113.70288276672363 s\n",
      "Mean training times:  121.53105449676514\n",
      "Mean model size in MegaBytes is 4.370290279388428\n",
      "Size of all checkpoints is:  302.80746364593506 MB\n",
      "Its  69.28772330617579 times more that size of final model\n"
     ]
    },
    {
     "data": {
      "text/plain": [
       "'Without checkpoints times'"
      ]
     },
     "metadata": {},
     "output_type": "display_data"
    },
    {
     "data": {
      "text/plain": [
       "([128.03584694862366,\n",
       "  128.71920800209045,\n",
       "  126.50181007385254,\n",
       "  128.65914011001587,\n",
       "  126.61634492874146,\n",
       "  126.3617582321167,\n",
       "  128.49332118034363,\n",
       "  126.62582516670227,\n",
       "  130.27614402770996,\n",
       "  127.6639449596405],\n",
       " [4.370238304138184,\n",
       "  4.370208740234375,\n",
       "  4.370165824890137,\n",
       "  4.370206832885742,\n",
       "  4.370247840881348,\n",
       "  4.3702497482299805,\n",
       "  4.370260238647461,\n",
       "  4.370234489440918,\n",
       "  4.370229721069336,\n",
       "  4.370187759399414])"
      ]
     },
     "metadata": {},
     "output_type": "display_data"
    },
    {
     "data": {
      "text/plain": [
       "'With checkpoints times'"
      ]
     },
     "metadata": {},
     "output_type": "display_data"
    },
    {
     "data": {
      "text/plain": [
       "([128.61857509613037,\n",
       "  129.08029222488403,\n",
       "  126.31079506874084,\n",
       "  128.34042716026306,\n",
       "  116.24774384498596,\n",
       "  118.47236275672913,\n",
       "  116.32559323310852,\n",
       "  116.72993278503418,\n",
       "  121.48194003105164,\n",
       "  113.70288276672363],\n",
       " [4.370279312133789,\n",
       "  4.370303153991699,\n",
       "  4.370309829711914,\n",
       "  4.37028694152832,\n",
       "  4.370267868041992,\n",
       "  4.370284080505371,\n",
       "  4.370283126831055,\n",
       "  4.370256423950195,\n",
       "  4.370306968688965,\n",
       "  4.370325088500977])"
      ]
     },
     "metadata": {},
     "output_type": "display_data"
    },
    {
     "name": "stdout",
     "output_type": "stream",
     "text": [
      "Training time is: -4.901806390228469 % different with checkpoints\n",
      "gbm Model Build progress: |██████████████████████████████████████████████████████| (done) 100%\n",
      "Took 173.48718929290771 s\n",
      "gbm Model Build progress: |██████████████████████████████████████████████████████| (done) 100%\n",
      "Took 170.90046000480652 s\n",
      "gbm Model Build progress: |██████████████████████████████████████████████████████| (done) 100%\n",
      "Took 172.96007108688354 s\n",
      "gbm Model Build progress: |██████████████████████████████████████████████████████| (done) 100%\n",
      "Took 170.59906387329102 s\n",
      "gbm Model Build progress: |██████████████████████████████████████████████████████| (done) 100%\n",
      "Took 174.1388418674469 s\n",
      "gbm Model Build progress: |██████████████████████████████████████████████████████| (done) 100%\n",
      "Took 172.69986701011658 s\n",
      "gbm Model Build progress: |██████████████████████████████████████████████████████| (done) 100%\n",
      "Took 170.23749494552612 s\n",
      "gbm Model Build progress: |██████████████████████████████████████████████████████| (done) 100%\n",
      "Took 172.9674949645996 s\n",
      "gbm Model Build progress: |██████████████████████████████████████████████████████| (done) 100%\n",
      "Took 170.78777408599854 s\n",
      "gbm Model Build progress: |██████████████████████████████████████████████████████| (done) 100%\n",
      "Took 172.3440809249878 s\n",
      "Mean training times:  172.11223380565644\n",
      "Mean model size in MegaBytes is 4.96442289352417\n",
      "Checkpoints path: checkpoints_gbm_1000_30_0\n",
      "gbm Model Build progress: |██████████████████████████████████████████████████████| (done) 100%\n",
      "Took 170.62456583976746 s\n",
      "Checkpoints path: checkpoints_gbm_1000_30_1\n",
      "gbm Model Build progress: |██████████████████████████████████████████████████████| (done) 100%\n",
      "Took 170.95595502853394 s\n",
      "Checkpoints path: checkpoints_gbm_1000_30_2\n",
      "gbm Model Build progress: |██████████████████████████████████████████████████████| (done) 100%\n",
      "Took 173.52973580360413 s\n",
      "Checkpoints path: checkpoints_gbm_1000_30_3\n",
      "gbm Model Build progress: |██████████████████████████████████████████████████████| (done) 100%\n",
      "Took 172.5381200313568 s\n",
      "Checkpoints path: checkpoints_gbm_1000_30_4\n",
      "gbm Model Build progress: |██████████████████████████████████████████████████████| (done) 100%\n",
      "Took 166.8584201335907 s\n",
      "Checkpoints path: checkpoints_gbm_1000_30_5\n",
      "gbm Model Build progress: |██████████████████████████████████████████████████████| (done) 100%\n",
      "Took 164.57248210906982 s\n",
      "Checkpoints path: checkpoints_gbm_1000_30_6\n",
      "gbm Model Build progress: |██████████████████████████████████████████████████████| (done) 100%\n",
      "Took 165.59918117523193 s\n",
      "Checkpoints path: checkpoints_gbm_1000_30_7\n",
      "gbm Model Build progress: |██████████████████████████████████████████████████████| (done) 100%\n",
      "Took 163.13172721862793 s\n",
      "Checkpoints path: checkpoints_gbm_1000_30_8\n",
      "gbm Model Build progress: |██████████████████████████████████████████████████████| (done) 100%\n",
      "Took 166.09227180480957 s\n",
      "Checkpoints path: checkpoints_gbm_1000_30_9\n",
      "gbm Model Build progress: |██████████████████████████████████████████████████████| (done) 100%\n",
      "Took 165.13860416412354 s\n",
      "Mean training times:  167.90410633087157\n",
      "Mean model size in MegaBytes is 4.964476585388184\n",
      "Size of all checkpoints is:  767.3765268325806 MB\n",
      "Its  154.5735010798883 times more that size of final model\n"
     ]
    },
    {
     "data": {
      "text/plain": [
       "'Without checkpoints times'"
      ]
     },
     "metadata": {},
     "output_type": "display_data"
    },
    {
     "data": {
      "text/plain": [
       "([173.48718929290771,\n",
       "  170.90046000480652,\n",
       "  172.96007108688354,\n",
       "  170.59906387329102,\n",
       "  174.1388418674469,\n",
       "  172.69986701011658,\n",
       "  170.23749494552612,\n",
       "  172.9674949645996,\n",
       "  170.78777408599854,\n",
       "  172.3440809249878],\n",
       " [4.964353561401367,\n",
       "  4.964465141296387,\n",
       "  4.964434623718262,\n",
       "  4.964419364929199,\n",
       "  4.964415550231934,\n",
       "  4.964411735534668,\n",
       "  4.964411735534668,\n",
       "  4.964438438415527,\n",
       "  4.964425086975098,\n",
       "  4.96445369720459])"
      ]
     },
     "metadata": {},
     "output_type": "display_data"
    },
    {
     "data": {
      "text/plain": [
       "'With checkpoints times'"
      ]
     },
     "metadata": {},
     "output_type": "display_data"
    },
    {
     "data": {
      "text/plain": [
       "([170.62456583976746,\n",
       "  170.95595502853394,\n",
       "  173.52973580360413,\n",
       "  172.5381200313568,\n",
       "  166.8584201335907,\n",
       "  164.57248210906982,\n",
       "  165.59918117523193,\n",
       "  163.13172721862793,\n",
       "  166.09227180480957,\n",
       "  165.13860416412354],\n",
       " [4.964509010314941,\n",
       "  4.9644927978515625,\n",
       "  4.964468002319336,\n",
       "  4.964487075805664,\n",
       "  4.964494705200195,\n",
       "  4.964470863342285,\n",
       "  4.964428901672363,\n",
       "  4.964487075805664,\n",
       "  4.964428901672363,\n",
       "  4.964498519897461])"
      ]
     },
     "metadata": {},
     "output_type": "display_data"
    },
    {
     "name": "stdout",
     "output_type": "stream",
     "text": [
      "Training time is: -2.444990330865471 % different with checkpoints\n",
      "gbm Model Build progress: |██████████████████████████████████████████████████████| (done) 100%\n",
      "Took 226.88086080551147 s\n",
      "gbm Model Build progress: |██████████████████████████████████████████████████████| (done) 100%\n",
      "Took 226.79192781448364 s\n",
      "gbm Model Build progress: |██████████████████████████████████████████████████████| (done) 100%\n",
      "Took 227.5347399711609 s\n",
      "gbm Model Build progress: |██████████████████████████████████████████████████████| (done) 100%\n",
      "Took 226.76876997947693 s\n",
      "gbm Model Build progress: |██████████████████████████████████████████████████████| (done) 100%\n",
      "Took 227.68660616874695 s\n",
      "gbm Model Build progress: |██████████████████████████████████████████████████████| (done) 100%\n",
      "Took 229.8453278541565 s\n",
      "gbm Model Build progress: |██████████████████████████████████████████████████████| (done) 100%\n",
      "Took 229.91983008384705 s\n",
      "gbm Model Build progress: |██████████████████████████████████████████████████████| (done) 100%\n",
      "Took 228.21733808517456 s\n",
      "gbm Model Build progress: |██████████████████████████████████████████████████████| (done) 100%\n",
      "Took 229.154865026474 s\n",
      "gbm Model Build progress: |██████████████████████████████████████████████████████| (done) 100%\n",
      "Took 228.87089371681213 s\n",
      "Mean training times:  228.16711595058442\n",
      "Mean model size in MegaBytes is 5.581189441680908\n",
      "Checkpoints path: checkpoints_gbm_1500_30_0\n",
      "gbm Model Build progress: |██████████████████████████████████████████████████████| (done) 100%\n",
      "Took 230.32618403434753 s\n",
      "Checkpoints path: checkpoints_gbm_1500_30_1\n",
      "gbm Model Build progress: |██████████████████████████████████████████████████████| (done) 100%\n",
      "Took 228.45178818702698 s\n",
      "Checkpoints path: checkpoints_gbm_1500_30_2\n",
      "gbm Model Build progress: |██████████████████████████████████████████████████████| (done) 100%\n",
      "Took 229.7234320640564 s\n",
      "Checkpoints path: checkpoints_gbm_1500_30_3\n",
      "gbm Model Build progress: |██████████████████████████████████████████████████████| (done) 100%\n",
      "Took 230.66578888893127 s\n",
      "Checkpoints path: checkpoints_gbm_1500_30_4\n",
      "gbm Model Build progress: |██████████████████████████████████████████████████████| (done) 100%\n",
      "Took 230.3400661945343 s\n",
      "Checkpoints path: checkpoints_gbm_1500_30_5\n",
      "gbm Model Build progress: |██████████████████████████████████████████████████████| (done) 100%\n",
      "Took 229.16805005073547 s\n",
      "Checkpoints path: checkpoints_gbm_1500_30_6\n",
      "gbm Model Build progress: |██████████████████████████████████████████████████████| (done) 100%\n",
      "Took 229.49898505210876 s\n",
      "Checkpoints path: checkpoints_gbm_1500_30_7\n",
      "gbm Model Build progress: |██████████████████████████████████████████████████████| (done) 100%\n",
      "Took 230.15303325653076 s\n",
      "Checkpoints path: checkpoints_gbm_1500_30_8\n",
      "gbm Model Build progress: |██████████████████████████████████████████████████████| (done) 100%\n",
      "Took 229.9203600883484 s\n",
      "Checkpoints path: checkpoints_gbm_1500_30_9\n",
      "gbm Model Build progress: |██████████████████████████████████████████████████████| (done) 100%\n",
      "Took 229.2895312309265 s\n",
      "Mean training times:  229.75372190475463\n",
      "Mean model size in MegaBytes is 5.581235790252686\n",
      "Size of all checkpoints is:  1292.1606073379517 MB\n",
      "Its  231.51872737479349 times more that size of final model\n"
     ]
    },
    {
     "data": {
      "text/plain": [
       "'Without checkpoints times'"
      ]
     },
     "metadata": {},
     "output_type": "display_data"
    },
    {
     "data": {
      "text/plain": [
       "([226.88086080551147,\n",
       "  226.79192781448364,\n",
       "  227.5347399711609,\n",
       "  226.76876997947693,\n",
       "  227.68660616874695,\n",
       "  229.8453278541565,\n",
       "  229.91983008384705,\n",
       "  228.21733808517456,\n",
       "  229.154865026474,\n",
       "  228.87089371681213],\n",
       " [5.581198692321777,\n",
       "  5.581262588500977,\n",
       "  5.581193923950195,\n",
       "  5.581252098083496,\n",
       "  5.58106803894043,\n",
       "  5.581199645996094,\n",
       "  5.581183433532715,\n",
       "  5.5812177658081055,\n",
       "  5.581151008605957,\n",
       "  5.581167221069336])"
      ]
     },
     "metadata": {},
     "output_type": "display_data"
    },
    {
     "data": {
      "text/plain": [
       "'With checkpoints times'"
      ]
     },
     "metadata": {},
     "output_type": "display_data"
    },
    {
     "data": {
      "text/plain": [
       "([230.32618403434753,\n",
       "  228.45178818702698,\n",
       "  229.7234320640564,\n",
       "  230.66578888893127,\n",
       "  230.3400661945343,\n",
       "  229.16805005073547,\n",
       "  229.49898505210876,\n",
       "  230.15303325653076,\n",
       "  229.9203600883484,\n",
       "  229.2895312309265],\n",
       " [5.581246376037598,\n",
       "  5.581276893615723,\n",
       "  5.581264495849609,\n",
       "  5.581154823303223,\n",
       "  5.581246376037598,\n",
       "  5.581199645996094,\n",
       "  5.581269264221191,\n",
       "  5.581249237060547,\n",
       "  5.581207275390625,\n",
       "  5.581243515014648])"
      ]
     },
     "metadata": {},
     "output_type": "display_data"
    },
    {
     "name": "stdout",
     "output_type": "stream",
     "text": [
      "Training time is: 0.6953701227103259 % different with checkpoints\n",
      "gbm Model Build progress: |██████████████████████████████████████████████████████| (done) 100%\n",
      "Took 292.62147188186646 s\n",
      "gbm Model Build progress: |██████████████████████████████████████████████████████| (done) 100%\n",
      "Took 292.4892830848694 s\n",
      "gbm Model Build progress: |██████████████████████████████████████████████████████| (done) 100%\n",
      "Took 292.6246678829193 s\n",
      "gbm Model Build progress: |██████████████████████████████████████████████████████| (done) 100%\n",
      "Took 291.5497899055481 s\n",
      "gbm Model Build progress: |██████████████████████████████████████████████████████| (done) 100%\n",
      "Took 291.0712368488312 s\n",
      "gbm Model Build progress: |██████████████████████████████████████████████████████| (done) 100%\n",
      "Took 291.42474913597107 s\n",
      "gbm Model Build progress: |██████████████████████████████████████████████████████| (done) 100%\n",
      "Took 292.2807867527008 s\n",
      "gbm Model Build progress: |██████████████████████████████████████████████████████| (done) 100%\n",
      "Took 288.5051031112671 s\n",
      "gbm Model Build progress: |██████████████████████████████████████████████████████| (done) 100%\n",
      "Took 287.794322013855 s\n",
      "gbm Model Build progress: |██████████████████████████████████████████████████████| (done) 100%\n",
      "Took 286.6255090236664 s\n",
      "Mean training times:  290.6986919641495\n",
      "Mean model size in MegaBytes is 6.224137592315674\n",
      "Checkpoints path: checkpoints_gbm_2000_30_0\n",
      "gbm Model Build progress: |██████████████████████████████████████████████████████| (done) 100%\n",
      "Took 291.76204681396484 s\n",
      "Checkpoints path: checkpoints_gbm_2000_30_1\n",
      "gbm Model Build progress: |██████████████████████████████████████████████████████| (done) 100%\n",
      "Took 297.0929400920868 s\n",
      "Checkpoints path: checkpoints_gbm_2000_30_2\n",
      "gbm Model Build progress: |██████████████████████████████████████████████████████| (done) 100%\n",
      "Took 294.62653613090515 s\n",
      "Checkpoints path: checkpoints_gbm_2000_30_3\n",
      "gbm Model Build progress: |██████████████████████████████████████████████████████| (done) 100%\n",
      "Took 295.4833097457886 s\n",
      "Checkpoints path: checkpoints_gbm_2000_30_4\n",
      "gbm Model Build progress: |██████████████████████████████████████████████████████| (done) 100%\n",
      "Took 294.1173839569092 s\n",
      "Checkpoints path: checkpoints_gbm_2000_30_5\n",
      "gbm Model Build progress: |██████████████████████████████████████████████████████| (done) 100%\n",
      "Took 295.11101484298706 s\n",
      "Checkpoints path: checkpoints_gbm_2000_30_6\n",
      "gbm Model Build progress: |██████████████████████████████████████████████████████| (done) 100%\n",
      "Took 294.3508548736572 s\n",
      "Checkpoints path: checkpoints_gbm_2000_30_7\n",
      "gbm Model Build progress: |██████████████████████████████████████████████████████| (done) 100%\n",
      "Took 295.26317715644836 s\n",
      "Checkpoints path: checkpoints_gbm_2000_30_8\n",
      "gbm Model Build progress: |██████████████████████████████████████████████████████| (done) 100%\n",
      "Took 296.12681007385254 s\n",
      "Checkpoints path: checkpoints_gbm_2000_30_9\n",
      "gbm Model Build progress: |██████████████████████████████████████████████████████| (done) 100%\n",
      "Took 294.61343908309937 s\n",
      "Mean training times:  294.8547512769699\n",
      "Mean model size in MegaBytes is 6.224199295043945\n",
      "Size of all checkpoints is:  1880.0781230926514 MB\n",
      "Its  302.0594351131517 times more that size of final model\n"
     ]
    },
    {
     "data": {
      "text/plain": [
       "'Without checkpoints times'"
      ]
     },
     "metadata": {},
     "output_type": "display_data"
    },
    {
     "data": {
      "text/plain": [
       "([292.62147188186646,\n",
       "  292.4892830848694,\n",
       "  292.6246678829193,\n",
       "  291.5497899055481,\n",
       "  291.0712368488312,\n",
       "  291.42474913597107,\n",
       "  292.2807867527008,\n",
       "  288.5051031112671,\n",
       "  287.794322013855,\n",
       "  286.6255090236664],\n",
       " [6.224169731140137,\n",
       "  6.22420597076416,\n",
       "  6.224148750305176,\n",
       "  6.224078178405762,\n",
       "  6.224109649658203,\n",
       "  6.224093437194824,\n",
       "  6.224140167236328,\n",
       "  6.224139213562012,\n",
       "  6.224189758300781,\n",
       "  6.2241010665893555])"
      ]
     },
     "metadata": {},
     "output_type": "display_data"
    },
    {
     "data": {
      "text/plain": [
       "'With checkpoints times'"
      ]
     },
     "metadata": {},
     "output_type": "display_data"
    },
    {
     "data": {
      "text/plain": [
       "([291.76204681396484,\n",
       "  297.0929400920868,\n",
       "  294.62653613090515,\n",
       "  295.4833097457886,\n",
       "  294.1173839569092,\n",
       "  295.11101484298706,\n",
       "  294.3508548736572,\n",
       "  295.26317715644836,\n",
       "  296.12681007385254,\n",
       "  294.61343908309937],\n",
       " [6.22425651550293,\n",
       "  6.224198341369629,\n",
       "  6.224237442016602,\n",
       "  6.22414493560791,\n",
       "  6.22419548034668,\n",
       "  6.224128723144531,\n",
       "  6.224124908447266,\n",
       "  6.224221229553223,\n",
       "  6.22419548034668,\n",
       "  6.224289894104004])"
      ]
     },
     "metadata": {},
     "output_type": "display_data"
    },
    {
     "name": "stdout",
     "output_type": "stream",
     "text": [
      "Training time is: 1.4296793992224055 % different with checkpoints\n"
     ]
    },
    {
     "data": {
      "text/plain": [
       "'Slowdowns'"
      ]
     },
     "metadata": {},
     "output_type": "display_data"
    },
    {
     "data": {
      "text/plain": [
       "[0.03397066012905525,\n",
       " 0.003888111782581083,\n",
       " -0.04901806390228469,\n",
       " -0.024449903308654708,\n",
       " 0.0069537012271032594,\n",
       " 0.014296793992224055]"
      ]
     },
     "metadata": {},
     "output_type": "display_data"
    },
    {
     "name": "stdout",
     "output_type": "stream",
     "text": [
      "Training time slowdown average is: -0.0023931166799959582\n"
     ]
    }
   ],
   "source": [
    "slowdowns = []\n",
    "for ntrees in [100, 200, 500, 1000, 1500, 2000]:\n",
    "    model = measure_model(ntrees, 30)\n",
    "    model_checkpoints = measure_model(ntrees, 30, \"checkpoints_gbm\")\n",
    "    display(\"Without checkpoints times\", model)\n",
    "    display(\"With checkpoints times\", model_checkpoints)\n",
    "    slowdown = statistics.mean(model_checkpoints[0])/statistics.mean(model[0]) - 1\n",
    "    slowdowns.append(slowdown)\n",
    "    print(\"Training time is:\", slowdown*100, \"% different with checkpoints\")\n",
    "    \n",
    "display(\"Slowdowns\", slowdowns)\n",
    "print(\"Training time slowdown average is:\", statistics.mean(slowdowns))"
   ]
  },
  {
   "cell_type": "code",
   "execution_count": null,
   "metadata": {},
   "outputs": [],
   "source": []
  }
 ],
 "metadata": {
  "kernelspec": {
   "display_name": "Python 3 (ipykernel)",
   "language": "python",
   "name": "python3"
  },
  "language_info": {
   "codemirror_mode": {
    "name": "ipython",
    "version": 3
   },
   "file_extension": ".py",
   "mimetype": "text/x-python",
   "name": "python",
   "nbconvert_exporter": "python",
   "pygments_lexer": "ipython3",
   "version": "3.9.8"
  }
 },
 "nbformat": 4,
 "nbformat_minor": 2
}
