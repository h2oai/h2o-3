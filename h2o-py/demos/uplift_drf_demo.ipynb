{
 "cells": [
  {
   "cell_type": "markdown",
   "metadata": {},
   "source": [
    "# H2O Uplift Distributed Random Forest \n",
    "\n",
    "### Author: Veronika Maurerova veronika.maurerova@h2o.ai\n",
    "\n",
    "## Modeling Uplift \n",
    "\n",
    "Distributed Uplift Random Forest (Uplift DRF) is a classification tool for modeling uplift - the incremental impact of a treatment. This tool is very useful for example in marketing or in medicine. This machine learning approach is inspired by the A/B testing method. \n",
    "\n",
    "To model uplift, the analyst needs to collect data specifically - before the experiment, the objects are divided usually into two groups: \n",
    "\n",
    "- **treatment group**: receive some kind of treatment (for example customer get some type of discount) \n",
    "- **control group**: is separated from the treatment (customers in this group get no discount). \n",
    "\n",
    "Then the data are prepared and an analyst can gather information about the response - for example, whether customers bought a product, patients recovered from the disease, or similar. \n",
    "\n",
    "## Uplift approaches \n",
    "\n",
    "There are several approaches to model uplift: \n",
    "\n",
    "- Meta-learner algorithms\n",
    "- Instrumental variables algorithms\n",
    "- Neural-networks-based algorithms\n",
    "- Tree-based algorithms \n",
    "\n"
   ]
  },
  {
   "cell_type": "markdown",
   "metadata": {},
   "source": [
    "## Tree Based Uplift Algorithm\n",
    "\n",
    "Tree-based algorithm means in every tree, it takes information about treatment/control group assignment and information about response directly into a decision about splitting a node. The uplift score is the criterion to make a decision similar to the Gini coefficient in the standard decision tree. \n",
    "\n",
    "**Uplift metric to decide best split**\n",
    "\n",
    "The goal is to maximize the differences between the class distributions in the treatment and control sets, so the splitting criteria are based on distribution divergences. The distribution divergence is calculated based on the ``uplift_metric`` parameter. In H2O-3, three ``uplift_metric`` types are supported:\n",
    "\n",
    "- **Kullback-Leibler divergence** (``uplift_metric=\"KL\"``) - uses logarithms to calculate divergence, asymmetric, widely used, tends to infinity values (if treatment or control group distributions contain zero values). \n",
    "\n",
    "$ KL(P, Q) = \\sum_{i=0}^{N} p_i \\log{\\frac{p_i}{q_i}}$\n",
    "\n",
    "- **Squared Euclidean distance** (``uplift_metric=\"euclidean\"``) - symmetric and stable distribution, does not tend to infinity values. \n",
    "\n",
    "$ E(P, Q) = \\sum_{i=0}^{N} \\sqrt{p_i-q_i}$\n",
    "\n",
    "\n",
    "- **Chi-squared divergence** (``uplift_metric=\"chi_squared\"``) - Euclidean divergence normalized by control group distribution. Asymmetric and also tends to infinity values (if control group distribution contains zero values). \n",
    "\n",
    "$\\sqrt{X}(P, Q) = \\sum_{i=0}^{N} \\frac{\\sqrt{p_i-q_i}}{q_i}$\n",
    "\n",
    "where:\n",
    "\n",
    "- $P$ is treatment group distribution\n",
    "\n",
    "- $Q$ is control group distribution\n",
    "\n",
    "In a tree node the result value for a split is sum: $metric(P, Q) + metric(1-P, 1-Q)$. \n",
    "\n",
    "For the split gain value, the result within the node is normalized using a gini coefficient (Eclidean or ChiSquared) or entropy (KL) for each distribution before and after the split.\n",
    "\n",
    "\n",
    "**Uplift score in each leaf is calculated as:**\n",
    "\n",
    "- $TP = (TY1 + 1) / (T + 2)$\n",
    "- $CP = (CY1 + 1) / (C + 2)$\n",
    "- $uplift\\_score = TP - CP $\n",
    "\n",
    "where:\n",
    "- $T$ how many observations in a leaf are from the treatment group (how many data rows in a leaf have ``treatment_column`` label == 1) \n",
    "- $C$ how many observations in a leaf are from the control group (how many data rows in the leaf have ``treatment_column`` label == 0)\n",
    "- $TY1$ how many observations in a leaf are from the treatment group and respond to the offer (how many data rows in the leaf have ``treatment_column`` label == 1 and ``response_column`` label == 1)\n",
    "- $CY1$ how many observations in a leaf are from the control group and respond to the offer (how many data rows in the leaf have ``treatment_column`` label == 0 and ``response_column`` label == 1)\n",
    "\n",
    "**Note**: A higher uplift score means more observations from treatment group respond to the offer than from control group. Which means offered treatment has positive effect. The uplift score can be negative, if more observations from control group respond to the offer without treatment.\n",
    "\n",
    "<br>\n",
    "<br>\n",
    "\n",
    "![Difference between SDT and Uplift DT](https://blog.h2o.ai/wp-content/uploads/2022/01/tree.png)\n",
    "\n",
    "\n"
   ]
  },
  {
   "cell_type": "markdown",
   "metadata": {},
   "source": [
    "## H2O Implementation (Major release 3.36)\n",
    "\n",
    "The H2O-3 implementation of Uplift DRF is based on DRF because the principle of training is similar to DRF. It is tree based uplift algorithm. Uplift DRF generates a forest of classification uplift trees, rather than a single classification tree. Each of these trees is a weak learner built on a subset of rows and columns. More trees will reduce the variance. Classification takes the average prediction over all of their trees to make a final prediction. \n",
    "\n",
    "Currently, in H2O-3 only binomial trees are supported, as well as the uplift curve metric and Area Under Uplift curve (AUUC) metric and the Qini coefficient. We are working on adding also regression trees and more metrics, for example, normalized AUUC, and more. "
   ]
  },
  {
   "cell_type": "markdown",
   "metadata": {},
   "source": [
    "## Start H2O-3"
   ]
  },
  {
   "cell_type": "code",
   "execution_count": 2,
   "metadata": {},
   "outputs": [],
   "source": [
    "import h2o\n",
    "from h2o.estimators.uplift_random_forest import H2OUpliftRandomForestEstimator\n",
    "\n",
    "import matplotlib as mpl\n",
    "import matplotlib.pyplot as plt\n",
    "import matplotlib.style as style\n",
    "\n",
    "import pandas as pd"
   ]
  },
  {
   "cell_type": "code",
   "execution_count": 3,
   "metadata": {},
   "outputs": [
    {
     "name": "stdout",
     "output_type": "stream",
     "text": [
      "Checking whether there is an H2O instance running at http://localhost:54321 . connected.\n",
      "Warning: Version mismatch. H2O is version 3.37.0.99999, but the h2o-python package is version 0.0.local. This is a developer build, please contact your developer.\n"
     ]
    },
    {
     "data": {
      "text/html": [
       "<div style=\"overflow:auto\"><table style=\"width:50%\"><tr><td>H2O_cluster_uptime:</td>\n",
       "<td>19 mins 07 secs</td></tr>\n",
       "<tr><td>H2O_cluster_timezone:</td>\n",
       "<td>Europe/Berlin</td></tr>\n",
       "<tr><td>H2O_data_parsing_timezone:</td>\n",
       "<td>UTC</td></tr>\n",
       "<tr><td>H2O_cluster_version:</td>\n",
       "<td>3.37.0.99999</td></tr>\n",
       "<tr><td>H2O_cluster_version_age:</td>\n",
       "<td>13 days </td></tr>\n",
       "<tr><td>H2O_cluster_name:</td>\n",
       "<td>mori</td></tr>\n",
       "<tr><td>H2O_cluster_total_nodes:</td>\n",
       "<td>1</td></tr>\n",
       "<tr><td>H2O_cluster_free_memory:</td>\n",
       "<td>4.888 Gb</td></tr>\n",
       "<tr><td>H2O_cluster_total_cores:</td>\n",
       "<td>8</td></tr>\n",
       "<tr><td>H2O_cluster_allowed_cores:</td>\n",
       "<td>8</td></tr>\n",
       "<tr><td>H2O_cluster_status:</td>\n",
       "<td>locked, healthy</td></tr>\n",
       "<tr><td>H2O_connection_url:</td>\n",
       "<td>http://localhost:54321</td></tr>\n",
       "<tr><td>H2O_connection_proxy:</td>\n",
       "<td>{\"http\": null, \"https\": null}</td></tr>\n",
       "<tr><td>H2O_internal_security:</td>\n",
       "<td>False</td></tr>\n",
       "<tr><td>Python_version:</td>\n",
       "<td>3.7.3 candidate</td></tr></table></div>"
      ],
      "text/plain": [
       "--------------------------  -----------------------------\n",
       "H2O_cluster_uptime:         19 mins 07 secs\n",
       "H2O_cluster_timezone:       Europe/Berlin\n",
       "H2O_data_parsing_timezone:  UTC\n",
       "H2O_cluster_version:        3.37.0.99999\n",
       "H2O_cluster_version_age:    13 days\n",
       "H2O_cluster_name:           mori\n",
       "H2O_cluster_total_nodes:    1\n",
       "H2O_cluster_free_memory:    4.888 Gb\n",
       "H2O_cluster_total_cores:    8\n",
       "H2O_cluster_allowed_cores:  8\n",
       "H2O_cluster_status:         locked, healthy\n",
       "H2O_connection_url:         http://localhost:54321\n",
       "H2O_connection_proxy:       {\"http\": null, \"https\": null}\n",
       "H2O_internal_security:      False\n",
       "Python_version:             3.7.3 candidate\n",
       "--------------------------  -----------------------------"
      ]
     },
     "metadata": {},
     "output_type": "display_data"
    }
   ],
   "source": [
    "h2o.init(strict_version_check=False)"
   ]
  },
  {
   "cell_type": "markdown",
   "metadata": {},
   "source": [
    "## Load data\n",
    "\n",
    "To demonstrate how Uplift DRF works, Criteo dataset is used. \n",
    "\n",
    "Source: https://www.kaggle.com/arashnic/uplift-modeling\n",
    "\n",
    "**Description:**\n",
    "\n",
    "- The dataset was created by The Criteo AI Lab\n",
    "- Consists of 13M rows, each one representing a user with 12 features, a treatment indicator and 2 binary labels (visits and conversions).\n",
    "- Positive labels mean the user visited/converted on the advertiser website during the test period (2 weeks).\n",
    "- The global treatment ratio is 84.6%.\n",
    "\n",
    "**Detailed description of the columns:**\n",
    "\n",
    "- **f0, f1, f2, f3, f4, f5, f6, f7, f8, f9, f10, f11**: feature values (dense, float)\n",
    "- **treatment**: treatment group (1 = treated, 0 = control)\n",
    "- **conversion**: whether a conversion occured for this user (binary, label)\n",
    "- **visit**: whether a visit occured for this user (binary, label)\n",
    "- **exposure**: treatment effect, whether the user has been effectively exposed (binary)"
   ]
  },
  {
   "cell_type": "code",
   "execution_count": 4,
   "metadata": {},
   "outputs": [
    {
     "data": {
      "text/html": [
       "<div>\n",
       "<style scoped>\n",
       "    .dataframe tbody tr th:only-of-type {\n",
       "        vertical-align: middle;\n",
       "    }\n",
       "\n",
       "    .dataframe tbody tr th {\n",
       "        vertical-align: top;\n",
       "    }\n",
       "\n",
       "    .dataframe thead th {\n",
       "        text-align: right;\n",
       "    }\n",
       "</style>\n",
       "<table border=\"1\" class=\"dataframe\">\n",
       "  <thead>\n",
       "    <tr style=\"text-align: right;\">\n",
       "      <th></th>\n",
       "      <th>f0</th>\n",
       "      <th>f1</th>\n",
       "      <th>f2</th>\n",
       "      <th>f3</th>\n",
       "      <th>f4</th>\n",
       "      <th>f5</th>\n",
       "      <th>f6</th>\n",
       "      <th>f7</th>\n",
       "      <th>f8</th>\n",
       "      <th>f9</th>\n",
       "      <th>f10</th>\n",
       "      <th>f11</th>\n",
       "      <th>treatment</th>\n",
       "      <th>conversion</th>\n",
       "      <th>visit</th>\n",
       "      <th>exposure</th>\n",
       "    </tr>\n",
       "  </thead>\n",
       "  <tbody>\n",
       "    <tr>\n",
       "      <th>0</th>\n",
       "      <td>12.616365</td>\n",
       "      <td>10.059654</td>\n",
       "      <td>8.976429</td>\n",
       "      <td>4.679882</td>\n",
       "      <td>10.280525</td>\n",
       "      <td>4.115453</td>\n",
       "      <td>0.294443</td>\n",
       "      <td>4.833815</td>\n",
       "      <td>3.955396</td>\n",
       "      <td>13.190056</td>\n",
       "      <td>5.300375</td>\n",
       "      <td>-0.168679</td>\n",
       "      <td>1</td>\n",
       "      <td>0</td>\n",
       "      <td>0</td>\n",
       "      <td>0</td>\n",
       "    </tr>\n",
       "    <tr>\n",
       "      <th>1</th>\n",
       "      <td>12.616365</td>\n",
       "      <td>10.059654</td>\n",
       "      <td>9.002689</td>\n",
       "      <td>4.679882</td>\n",
       "      <td>10.280525</td>\n",
       "      <td>4.115453</td>\n",
       "      <td>0.294443</td>\n",
       "      <td>4.833815</td>\n",
       "      <td>3.955396</td>\n",
       "      <td>13.190056</td>\n",
       "      <td>5.300375</td>\n",
       "      <td>-0.168679</td>\n",
       "      <td>1</td>\n",
       "      <td>0</td>\n",
       "      <td>0</td>\n",
       "      <td>0</td>\n",
       "    </tr>\n",
       "    <tr>\n",
       "      <th>2</th>\n",
       "      <td>12.616365</td>\n",
       "      <td>10.059654</td>\n",
       "      <td>8.964775</td>\n",
       "      <td>4.679882</td>\n",
       "      <td>10.280525</td>\n",
       "      <td>4.115453</td>\n",
       "      <td>0.294443</td>\n",
       "      <td>4.833815</td>\n",
       "      <td>3.955396</td>\n",
       "      <td>13.190056</td>\n",
       "      <td>5.300375</td>\n",
       "      <td>-0.168679</td>\n",
       "      <td>1</td>\n",
       "      <td>0</td>\n",
       "      <td>0</td>\n",
       "      <td>0</td>\n",
       "    </tr>\n",
       "    <tr>\n",
       "      <th>3</th>\n",
       "      <td>12.616365</td>\n",
       "      <td>10.059654</td>\n",
       "      <td>9.002801</td>\n",
       "      <td>4.679882</td>\n",
       "      <td>10.280525</td>\n",
       "      <td>4.115453</td>\n",
       "      <td>0.294443</td>\n",
       "      <td>4.833815</td>\n",
       "      <td>3.955396</td>\n",
       "      <td>13.190056</td>\n",
       "      <td>5.300375</td>\n",
       "      <td>-0.168679</td>\n",
       "      <td>1</td>\n",
       "      <td>0</td>\n",
       "      <td>0</td>\n",
       "      <td>0</td>\n",
       "    </tr>\n",
       "    <tr>\n",
       "      <th>4</th>\n",
       "      <td>12.616365</td>\n",
       "      <td>10.059654</td>\n",
       "      <td>9.037999</td>\n",
       "      <td>4.679882</td>\n",
       "      <td>10.280525</td>\n",
       "      <td>4.115453</td>\n",
       "      <td>0.294443</td>\n",
       "      <td>4.833815</td>\n",
       "      <td>3.955396</td>\n",
       "      <td>13.190056</td>\n",
       "      <td>5.300375</td>\n",
       "      <td>-0.168679</td>\n",
       "      <td>1</td>\n",
       "      <td>0</td>\n",
       "      <td>0</td>\n",
       "      <td>0</td>\n",
       "    </tr>\n",
       "  </tbody>\n",
       "</table>\n",
       "</div>"
      ],
      "text/plain": [
       "          f0         f1        f2        f3         f4        f5        f6  \\\n",
       "0  12.616365  10.059654  8.976429  4.679882  10.280525  4.115453  0.294443   \n",
       "1  12.616365  10.059654  9.002689  4.679882  10.280525  4.115453  0.294443   \n",
       "2  12.616365  10.059654  8.964775  4.679882  10.280525  4.115453  0.294443   \n",
       "3  12.616365  10.059654  9.002801  4.679882  10.280525  4.115453  0.294443   \n",
       "4  12.616365  10.059654  9.037999  4.679882  10.280525  4.115453  0.294443   \n",
       "\n",
       "         f7        f8         f9       f10       f11  treatment  conversion  \\\n",
       "0  4.833815  3.955396  13.190056  5.300375 -0.168679          1           0   \n",
       "1  4.833815  3.955396  13.190056  5.300375 -0.168679          1           0   \n",
       "2  4.833815  3.955396  13.190056  5.300375 -0.168679          1           0   \n",
       "3  4.833815  3.955396  13.190056  5.300375 -0.168679          1           0   \n",
       "4  4.833815  3.955396  13.190056  5.300375 -0.168679          1           0   \n",
       "\n",
       "   visit  exposure  \n",
       "0      0         0  \n",
       "1      0         0  \n",
       "2      0         0  \n",
       "3      0         0  \n",
       "4      0         0  "
      ]
     },
     "execution_count": 4,
     "metadata": {},
     "output_type": "execute_result"
    }
   ],
   "source": [
    "control_name = \"control\"\n",
    "treatment_column = \"treatment\"\n",
    "response_column = \"visit\"\n",
    "feature_cols = [\"f\"+str(x) for x in range(0,12)]\n",
    "\n",
    "df = pd.read_csv(\"../../smalldata/uplift/criteo_uplift.csv\")\n",
    "#df = pd.read_csv(\"http://go.criteo.net/criteo-research-uplift-v2.1.csv.gz\")\n",
    "df.head()"
   ]
  },
  {
   "cell_type": "markdown",
   "metadata": {},
   "source": [
    "## Prepare data\n",
    "\n",
    "Inspiration from: https://www.kaggle.com/code/hughhuyton/criteo-uplift-modelling/notebook\n",
    "\n",
    "To modeling uplift the treatment and control group data have to have similar distribution. In real world usually the control group is smaller than the treatment group. It is also a case of Crieteo dataset and we have to rebalanced the data to have a similar size."
   ]
  },
  {
   "cell_type": "code",
   "execution_count": 5,
   "metadata": {},
   "outputs": [
    {
     "name": "stdout",
     "output_type": "stream",
     "text": [
      "Total number of samples: 13979592\n",
      "The dataset is largely imbalanced: \n",
      "1    0.85\n",
      "0    0.15\n",
      "Name: treatment, dtype: float64\n",
      "Percentage of users that visit: 4.7%\n",
      "Percentage of users that convert: 0.29%\n",
      "Percentage of visitors that convert: 6.21%\n"
     ]
    }
   ],
   "source": [
    "print('Total number of samples: {}'.format(len(df)))\n",
    "print('The dataset is largely imbalanced: ')\n",
    "print(df['treatment'].value_counts(normalize = True))\n",
    "print('Percentage of users that visit: {}%'.format(100*round(df['visit'].mean(),4)))\n",
    "print('Percentage of users that convert: {}%'.format(100*round(df['conversion'].mean(),4)))\n",
    "print('Percentage of visitors that convert: {}%'.format(100*round(df[df[\"visit\"]==1][\"conversion\"].mean(),4)))"
   ]
  },
  {
   "cell_type": "code",
   "execution_count": 6,
   "metadata": {},
   "outputs": [
    {
     "name": "stdout",
     "output_type": "stream",
     "text": [
      "Class 0: 2096937\n",
      "Class 1: 11882655\n",
      "Proportion: 6 : 1\n"
     ]
    },
    {
     "data": {
      "image/png": "[encoded data removed]",
      "text/plain": [
       "<Figure size 720x432 with 1 Axes>"
      ]
     },
     "metadata": {
      "needs_background": "light"
     },
     "output_type": "display_data"
    }
   ],
   "source": [
    "# Print proportion of a binary column\n",
    "# https://www.kaggle.com/code/hughhuyton/criteo-uplift-modelling/notebook\n",
    "def print_proportion(df, column):\n",
    "    fig = plt.figure(figsize = (10,6))\n",
    "    target_count = df[column].value_counts()\n",
    "    print('Class 0:', target_count[0])\n",
    "    print('Class 1:', target_count[1])\n",
    "    print('Proportion:', int(round(target_count[1] / target_count[0])), ': 1')\n",
    "    target_count.plot(kind='bar', title='Treatment Class Distribution', color=['#2077B4', '#FF7F0E'], fontsize = 15)\n",
    "    plt.xticks(rotation=0) \n",
    "    \n",
    "print_proportion(df, treatment_column)"
   ]
  },
  {
   "cell_type": "code",
   "execution_count": 7,
   "metadata": {},
   "outputs": [
    {
     "name": "stdout",
     "output_type": "stream",
     "text": [
      "(11183673, 16)\n",
      "(2795919, 16)\n"
     ]
    }
   ],
   "source": [
    "from sklearn.model_selection import train_test_split\n",
    "train_df, test_df  = train_test_split(df, test_size=0.2, random_state=42, stratify=df['treatment'])\n",
    "print(train_df.shape)\n",
    "print(test_df.shape)"
   ]
  },
  {
   "cell_type": "code",
   "execution_count": 8,
   "metadata": {},
   "outputs": [],
   "source": [
    "del(df)"
   ]
  },
  {
   "cell_type": "code",
   "execution_count": 9,
   "metadata": {},
   "outputs": [
    {
     "name": "stdout",
     "output_type": "stream",
     "text": [
      "Class 0: 1677550\n",
      "Class 1: 9506123\n",
      "Proportion: 6 : 1\n"
     ]
    },
    {
     "data": {
      "image/png": "[encoded data removed]",
      "text/plain": [
       "<Figure size 720x432 with 1 Axes>"
      ]
     },
     "metadata": {
      "needs_background": "light"
     },
     "output_type": "display_data"
    }
   ],
   "source": [
    "print_proportion(train_df, treatment_column)"
   ]
  },
  {
   "cell_type": "code",
   "execution_count": 10,
   "metadata": {},
   "outputs": [],
   "source": [
    "# Random Undersampling (finding the majority class and undersampling it)\n",
    "# https://www.kaggle.com/code/hughhuyton/criteo-uplift-modelling/notebook\n",
    "def random_under(df, feature):\n",
    "    \n",
    "    target = df[feature].value_counts()\n",
    "    \n",
    "    if target.values[0]<target.values[1]:\n",
    "        under = target.index.values[1]\n",
    "    \n",
    "    else: \n",
    "        under = target.index.values[0]\n",
    "        \n",
    "    df_0 = df[df[feature] != under]\n",
    "    df_1 = df[df[feature] == under]\n",
    "    \n",
    "    df_treatment_under = df_1.sample(len(df_0))\n",
    "    df_1 = pd.concat([df_treatment_under, df_0], axis=0)\n",
    "    \n",
    "    return df_1"
   ]
  },
  {
   "cell_type": "code",
   "execution_count": 11,
   "metadata": {},
   "outputs": [],
   "source": [
    "train_df = random_under(train_df, treatment_column)"
   ]
  },
  {
   "cell_type": "code",
   "execution_count": 12,
   "metadata": {},
   "outputs": [
    {
     "name": "stdout",
     "output_type": "stream",
     "text": [
      "Class 0: 1677550\n",
      "Class 1: 1677550\n",
      "Proportion: 1 : 1\n"
     ]
    },
    {
     "data": {
      "image/png": "[encoded data removed]",
      "text/plain": [
       "<Figure size 720x432 with 1 Axes>"
      ]
     },
     "metadata": {
      "needs_background": "light"
     },
     "output_type": "display_data"
    }
   ],
   "source": [
    "print_proportion(train_df, treatment_column)"
   ]
  },
  {
   "cell_type": "code",
   "execution_count": 13,
   "metadata": {},
   "outputs": [],
   "source": [
    "# method to transfor data for LGWUM method, will be explained later\n",
    "def target_class_lgwum(df, treatment, target, column_name):\n",
    "    \n",
    "    #CN:\n",
    "    df[column_name] = 0 \n",
    "    #CR:\n",
    "    df.loc[(df[treatment] == 0) & (df[target] != 0), column_name] = 1 \n",
    "    #TN:\n",
    "    df.loc[(df[treatment] != 0) & (df[target] == 0), column_name] = 2 \n",
    "    #TR:\n",
    "    df.loc[(df[treatment] != 0) & (df[target] != 0), column_name] = 3 \n",
    "    return df\n",
    "\n",
    "response_column_lgwum = \"lqwum_response\"\n",
    "train_df = target_class_lgwum(train_df, treatment_column, response_column, response_column_lgwum)\n",
    "test_df = target_class_lgwum(test_df, treatment_column, response_column, response_column_lgwum)"
   ]
  },
  {
   "cell_type": "markdown",
   "metadata": {},
   "source": [
    "## Import data to H2O"
   ]
  },
  {
   "cell_type": "code",
   "execution_count": 14,
   "metadata": {},
   "outputs": [
    {
     "name": "stdout",
     "output_type": "stream",
     "text": [
      "Parse progress: |████████████████████████████████████████████████████████████████| (done) 100%\n",
      "Parse progress: |████████████████████████████████████████████████████████████████| (done) 100%\n"
     ]
    }
   ],
   "source": [
    "h2o_train_df = h2o.H2OFrame(train_df)\n",
    "del(train_df)\n",
    "\n",
    "h2o_train_df[treatment_column] = h2o_train_df[treatment_column].asfactor()\n",
    "h2o_train_df[response_column] = h2o_train_df[response_column].asfactor()\n",
    "h2o_train_df[response_column_lgwum] = h2o_train_df[response_column_lgwum].asfactor()\n",
    "\n",
    "h2o_test_df = h2o.H2OFrame(test_df)\n",
    "\n",
    "h2o_test_df[treatment_column] = h2o_test_df[treatment_column].asfactor()\n",
    "h2o_test_df[response_column] = h2o_test_df[response_column].asfactor()\n",
    "h2o_test_df[response_column_lgwum] = h2o_test_df[response_column_lgwum].asfactor()\n",
    "del(test_df)"
   ]
  },
  {
   "cell_type": "markdown",
   "metadata": {},
   "source": [
    "## Train H2O UpliftDRF model"
   ]
  },
  {
   "cell_type": "code",
   "execution_count": 15,
   "metadata": {},
   "outputs": [
    {
     "name": "stdout",
     "output_type": "stream",
     "text": [
      "upliftdrf Model Build progress: |████████████████████████████████████████████████| (done) 100%\n",
      "Model Details\n",
      "=============\n",
      "H2OUpliftRandomForestEstimator :  Uplift Distributed Random Forest\n",
      "Model Key:  UpliftDRF_model_python_1650393468574_1\n",
      "\n",
      "\n",
      "Model Summary: \n"
     ]
    },
    {
     "data": {
      "text/html": [
       "<div>\n",
       "<style scoped>\n",
       "    .dataframe tbody tr th:only-of-type {\n",
       "        vertical-align: middle;\n",
       "    }\n",
       "\n",
       "    .dataframe tbody tr th {\n",
       "        vertical-align: top;\n",
       "    }\n",
       "\n",
       "    .dataframe thead th {\n",
       "        text-align: right;\n",
       "    }\n",
       "</style>\n",
       "<table border=\"1\" class=\"dataframe\">\n",
       "  <thead>\n",
       "    <tr style=\"text-align: right;\">\n",
       "      <th></th>\n",
       "      <th></th>\n",
       "      <th>number_of_trees</th>\n",
       "      <th>number_of_internal_trees</th>\n",
       "      <th>model_size_in_bytes</th>\n",
       "      <th>min_depth</th>\n",
       "      <th>max_depth</th>\n",
       "      <th>mean_depth</th>\n",
       "      <th>min_leaves</th>\n",
       "      <th>max_leaves</th>\n",
       "      <th>mean_leaves</th>\n",
       "    </tr>\n",
       "  </thead>\n",
       "  <tbody>\n",
       "    <tr>\n",
       "      <th>0</th>\n",
       "      <td></td>\n",
       "      <td>20.0</td>\n",
       "      <td>40.0</td>\n",
       "      <td>167763.0</td>\n",
       "      <td>15.0</td>\n",
       "      <td>15.0</td>\n",
       "      <td>15.0</td>\n",
       "      <td>261.0</td>\n",
       "      <td>389.0</td>\n",
       "      <td>330.85</td>\n",
       "    </tr>\n",
       "  </tbody>\n",
       "</table>\n",
       "</div>"
      ],
      "text/plain": [
       "     number_of_trees  number_of_internal_trees  model_size_in_bytes  \\\n",
       "0               20.0                      40.0             167763.0   \n",
       "\n",
       "   min_depth  max_depth  mean_depth  min_leaves  max_leaves  mean_leaves  \n",
       "0       15.0       15.0        15.0       261.0       389.0       330.85  "
      ]
     },
     "metadata": {},
     "output_type": "display_data"
    },
    {
     "name": "stdout",
     "output_type": "stream",
     "text": [
      "\n",
      "\n",
      "ModelMetricsBinomialUplift: upliftdrf\n",
      "** Reported on train data. **\n",
      "\n",
      "AUUC: 29390.424039770176\n",
      "AUUC normalized: 0.8372386064200737\n",
      "\n",
      "AUUC table (number of bins: 975): All types of AUUC value\n"
     ]
    },
    {
     "data": {
      "text/html": [
       "<div>\n",
       "<style scoped>\n",
       "    .dataframe tbody tr th:only-of-type {\n",
       "        vertical-align: middle;\n",
       "    }\n",
       "\n",
       "    .dataframe tbody tr th {\n",
       "        vertical-align: top;\n",
       "    }\n",
       "\n",
       "    .dataframe thead th {\n",
       "        text-align: right;\n",
       "    }\n",
       "</style>\n",
       "<table border=\"1\" class=\"dataframe\">\n",
       "  <thead>\n",
       "    <tr style=\"text-align: right;\">\n",
       "      <th></th>\n",
       "      <th>uplift_type</th>\n",
       "      <th>qini</th>\n",
       "      <th>lift</th>\n",
       "      <th>gain</th>\n",
       "    </tr>\n",
       "  </thead>\n",
       "  <tbody>\n",
       "    <tr>\n",
       "      <th>0</th>\n",
       "      <td>AUUC value</td>\n",
       "      <td>14844.341803</td>\n",
       "      <td>0.027901</td>\n",
       "      <td>29390.424040</td>\n",
       "    </tr>\n",
       "    <tr>\n",
       "      <th>1</th>\n",
       "      <td>AUUC normalized</td>\n",
       "      <td>0.845735</td>\n",
       "      <td>0.027901</td>\n",
       "      <td>0.837239</td>\n",
       "    </tr>\n",
       "    <tr>\n",
       "      <th>2</th>\n",
       "      <td>AUUC random value</td>\n",
       "      <td>8786.508163</td>\n",
       "      <td>0.005238</td>\n",
       "      <td>17573.016325</td>\n",
       "    </tr>\n",
       "  </tbody>\n",
       "</table>\n",
       "</div>"
      ],
      "text/plain": [
       "         uplift_type          qini      lift          gain\n",
       "0         AUUC value  14844.341803  0.027901  29390.424040\n",
       "1    AUUC normalized      0.845735  0.027901      0.837239\n",
       "2  AUUC random value   8786.508163  0.005238  17573.016325"
      ]
     },
     "metadata": {},
     "output_type": "display_data"
    },
    {
     "name": "stdout",
     "output_type": "stream",
     "text": [
      "Qini value: 6057.833640613539\n",
      "\n",
      "AECU values table: All types of AECU value\n"
     ]
    },
    {
     "data": {
      "text/html": [
       "<div>\n",
       "<style scoped>\n",
       "    .dataframe tbody tr th:only-of-type {\n",
       "        vertical-align: middle;\n",
       "    }\n",
       "\n",
       "    .dataframe tbody tr th {\n",
       "        vertical-align: top;\n",
       "    }\n",
       "\n",
       "    .dataframe thead th {\n",
       "        text-align: right;\n",
       "    }\n",
       "</style>\n",
       "<table border=\"1\" class=\"dataframe\">\n",
       "  <thead>\n",
       "    <tr style=\"text-align: right;\">\n",
       "      <th></th>\n",
       "      <th>uplift_type</th>\n",
       "      <th>qini</th>\n",
       "      <th>lift</th>\n",
       "      <th>gain</th>\n",
       "    </tr>\n",
       "  </thead>\n",
       "  <tbody>\n",
       "    <tr>\n",
       "      <th>0</th>\n",
       "      <td>AECU value</td>\n",
       "      <td>6057.833641</td>\n",
       "      <td>0.022663</td>\n",
       "      <td>11817.407714</td>\n",
       "    </tr>\n",
       "  </tbody>\n",
       "</table>\n",
       "</div>"
      ],
      "text/plain": [
       "  uplift_type         qini      lift          gain\n",
       "0  AECU value  6057.833641  0.022663  11817.407714"
      ]
     },
     "metadata": {},
     "output_type": "display_data"
    },
    {
     "name": "stdout",
     "output_type": "stream",
     "text": [
      "\n",
      "Scoring History: \n"
     ]
    },
    {
     "data": {
      "text/html": [
       "<div>\n",
       "<style scoped>\n",
       "    .dataframe tbody tr th:only-of-type {\n",
       "        vertical-align: middle;\n",
       "    }\n",
       "\n",
       "    .dataframe tbody tr th {\n",
       "        vertical-align: top;\n",
       "    }\n",
       "\n",
       "    .dataframe thead th {\n",
       "        text-align: right;\n",
       "    }\n",
       "</style>\n",
       "<table border=\"1\" class=\"dataframe\">\n",
       "  <thead>\n",
       "    <tr style=\"text-align: right;\">\n",
       "      <th></th>\n",
       "      <th></th>\n",
       "      <th>timestamp</th>\n",
       "      <th>duration</th>\n",
       "      <th>number_of_trees</th>\n",
       "      <th>training_auuc_nbins</th>\n",
       "      <th>training_auuc</th>\n",
       "      <th>training_auuc_normalized</th>\n",
       "      <th>training_qini_coefficient</th>\n",
       "    </tr>\n",
       "  </thead>\n",
       "  <tbody>\n",
       "    <tr>\n",
       "      <th>0</th>\n",
       "      <td></td>\n",
       "      <td>2022-04-19 21:00:39</td>\n",
       "      <td>0.227 sec</td>\n",
       "      <td>0.0</td>\n",
       "      <td>0</td>\n",
       "      <td>NaN</td>\n",
       "      <td>NaN</td>\n",
       "      <td>NaN</td>\n",
       "    </tr>\n",
       "    <tr>\n",
       "      <th>1</th>\n",
       "      <td></td>\n",
       "      <td>2022-04-19 21:00:49</td>\n",
       "      <td>9.800 sec</td>\n",
       "      <td>1.0</td>\n",
       "      <td>19</td>\n",
       "      <td>29321.829358</td>\n",
       "      <td>0.835285</td>\n",
       "      <td>154.081597</td>\n",
       "    </tr>\n",
       "    <tr>\n",
       "      <th>2</th>\n",
       "      <td></td>\n",
       "      <td>2022-04-19 21:01:40</td>\n",
       "      <td>1 min  1.436 sec</td>\n",
       "      <td>10.0</td>\n",
       "      <td>558</td>\n",
       "      <td>27419.121618</td>\n",
       "      <td>0.781083</td>\n",
       "      <td>4922.091602</td>\n",
       "    </tr>\n",
       "    <tr>\n",
       "      <th>3</th>\n",
       "      <td></td>\n",
       "      <td>2022-04-19 21:02:59</td>\n",
       "      <td>2 min 20.130 sec</td>\n",
       "      <td>20.0</td>\n",
       "      <td>975</td>\n",
       "      <td>29390.424040</td>\n",
       "      <td>0.837239</td>\n",
       "      <td>6057.833641</td>\n",
       "    </tr>\n",
       "  </tbody>\n",
       "</table>\n",
       "</div>"
      ],
      "text/plain": [
       "               timestamp           duration  number_of_trees  \\\n",
       "0    2022-04-19 21:00:39          0.227 sec              0.0   \n",
       "1    2022-04-19 21:00:49          9.800 sec              1.0   \n",
       "2    2022-04-19 21:01:40   1 min  1.436 sec             10.0   \n",
       "3    2022-04-19 21:02:59   2 min 20.130 sec             20.0   \n",
       "\n",
       "   training_auuc_nbins  training_auuc  training_auuc_normalized  \\\n",
       "0                    0            NaN                       NaN   \n",
       "1                   19   29321.829358                  0.835285   \n",
       "2                  558   27419.121618                  0.781083   \n",
       "3                  975   29390.424040                  0.837239   \n",
       "\n",
       "   training_qini_coefficient  \n",
       "0                        NaN  \n",
       "1                 154.081597  \n",
       "2                4922.091602  \n",
       "3                6057.833641  "
      ]
     },
     "metadata": {},
     "output_type": "display_data"
    },
    {
     "data": {
      "text/plain": []
     },
     "execution_count": 15,
     "metadata": {},
     "output_type": "execute_result"
    }
   ],
   "source": [
    "ntree = 20\n",
    "max_depth = 15\n",
    "metric=\"Euclidean\"\n",
    "\n",
    "h2o_uplift_model = H2OUpliftRandomForestEstimator(\n",
    "                    ntrees=ntree,\n",
    "                    max_depth=max_depth,\n",
    "                    min_rows=30,\n",
    "                    nbins=1000,\n",
    "                    sample_rate=0.80,\n",
    "                    score_each_iteration=False,\n",
    "                    treatment_column=treatment_column,\n",
    "                    uplift_metric=metric,\n",
    "                    auuc_nbins=1000,\n",
    "                    auuc_type=\"gain\",\n",
    "                    seed=42)\n",
    "\n",
    "h2o_uplift_model.train(y=response_column, x=feature_cols, training_frame=h2o_train_df)\n",
    "h2o_uplift_model"
   ]
  },
  {
   "cell_type": "markdown",
   "metadata": {},
   "source": [
    "## Predict and plot Uplift Score"
   ]
  },
  {
   "cell_type": "code",
   "execution_count": 16,
   "metadata": {},
   "outputs": [],
   "source": [
    "# Plot uplift score\n",
    "# source https://www.kaggle.com/code/hughhuyton/criteo-uplift-modelling/notebook\n",
    "def plot_uplift_score(uplift_score):\n",
    "    plt.figure(figsize = (10,6))\n",
    "    plt.xlim(-.05, .1)\n",
    "    plt.hist(uplift_score, bins=1000, color=['#2077B4'])\n",
    "    plt.xlabel('Uplift score')\n",
    "    plt.ylabel('Number of observations in validation set')"
   ]
  },
  {
   "cell_type": "code",
   "execution_count": 17,
   "metadata": {},
   "outputs": [
    {
     "name": "stdout",
     "output_type": "stream",
     "text": [
      "upliftdrf prediction progress: |█████████████████████████████████████████████████| (done) 100%\n"
     ]
    },
    {
     "data": {
      "text/html": [
       "<table>\n",
       "<thead>\n",
       "<tr><th style=\"text-align: right;\">  uplift_predict</th><th style=\"text-align: right;\">  p_y1_ct1</th><th style=\"text-align: right;\">   p_y1_ct0</th></tr>\n",
       "</thead>\n",
       "<tbody>\n",
       "<tr><td style=\"text-align: right;\">     0.000539834</td><td style=\"text-align: right;\">0.00152852</td><td style=\"text-align: right;\">0.000988688</td></tr>\n",
       "<tr><td style=\"text-align: right;\">     0.000539834</td><td style=\"text-align: right;\">0.00152852</td><td style=\"text-align: right;\">0.000988688</td></tr>\n",
       "<tr><td style=\"text-align: right;\">     0.000539834</td><td style=\"text-align: right;\">0.00152852</td><td style=\"text-align: right;\">0.000988688</td></tr>\n",
       "<tr><td style=\"text-align: right;\">     0.0418714  </td><td style=\"text-align: right;\">0.0855105 </td><td style=\"text-align: right;\">0.043639   </td></tr>\n",
       "<tr><td style=\"text-align: right;\">     0.000539834</td><td style=\"text-align: right;\">0.00152852</td><td style=\"text-align: right;\">0.000988688</td></tr>\n",
       "<tr><td style=\"text-align: right;\">     0.000677465</td><td style=\"text-align: right;\">0.0017351 </td><td style=\"text-align: right;\">0.00105763 </td></tr>\n",
       "<tr><td style=\"text-align: right;\">     0.000539834</td><td style=\"text-align: right;\">0.00152852</td><td style=\"text-align: right;\">0.000988688</td></tr>\n",
       "<tr><td style=\"text-align: right;\">     0.00118989 </td><td style=\"text-align: right;\">0.0301447 </td><td style=\"text-align: right;\">0.0289548  </td></tr>\n",
       "<tr><td style=\"text-align: right;\">     0.000539834</td><td style=\"text-align: right;\">0.00152852</td><td style=\"text-align: right;\">0.000988688</td></tr>\n",
       "<tr><td style=\"text-align: right;\">     0.000539834</td><td style=\"text-align: right;\">0.00152852</td><td style=\"text-align: right;\">0.000988688</td></tr>\n",
       "</tbody>\n",
       "</table>"
      ]
     },
     "metadata": {},
     "output_type": "display_data"
    },
    {
     "data": {
      "text/plain": []
     },
     "execution_count": 17,
     "metadata": {},
     "output_type": "execute_result"
    }
   ],
   "source": [
    "h2o_uplift_pred = h2o_uplift_model.predict(h2o_test_df)\n",
    "h2o_uplift_pred"
   ]
  },
  {
   "cell_type": "code",
   "execution_count": 18,
   "metadata": {},
   "outputs": [
    {
     "data": {
      "image/png": "[encoded data removed]",
      "text/plain": [
       "<Figure size 720x432 with 1 Axes>"
      ]
     },
     "metadata": {
      "needs_background": "light"
     },
     "output_type": "display_data"
    }
   ],
   "source": [
    "plot_uplift_score(h2o_uplift_pred['uplift_predict'].as_data_frame())"
   ]
  },
  {
   "cell_type": "markdown",
   "metadata": {},
   "source": [
    "## Evaluate the model"
   ]
  },
  {
   "cell_type": "code",
   "execution_count": 19,
   "metadata": {},
   "outputs": [],
   "source": [
    "perf_h2o = h2o_uplift_model.model_performance(h2o_test_df)"
   ]
  },
  {
   "cell_type": "markdown",
   "metadata": {},
   "source": [
    "\n",
    "\n",
    "### Area Under Uplift Curve (AUUC) calculation\n",
    "\n",
    "To calculate AUUC for big data, the predictions are binned to histograms. Due to this feature the results should be different compared to exact computation.\n",
    "\n",
    "To define AUUC, binned predictions are sorted from largest to smallest value. For every group the cumulative sum of observations statistic is calculated. The uplift is defined based on these statistics.\n",
    "\n",
    "\n",
    "#### Types of AUUC\n",
    "\n",
    "\n",
    "| AUUC type | &nbsp; &nbsp; &nbsp; &nbsp; &nbsp; &nbsp; &nbsp;&nbsp; &nbsp; &nbsp; Formula &nbsp; &nbsp; &nbsp; &nbsp; &nbsp; &nbsp; &nbsp; &nbsp; &nbsp; &nbsp;|\n",
    "|:----------:|:-------------------------------------------:|\n",
    "| **Qini**   | $TY1 - CY1 * \\frac{T}{C}$                   |\n",
    "| **Lift**   | $\\frac{TY1}{T} - \\frac{CY1}{C}$             |\n",
    "| **Gain**   | $(\\frac{TY1}{T} - \\frac{CY1}{C}) * (T + C)$ |\n",
    "\n",
    "\n",
    "Where:\n",
    "\n",
    "- **T** how many observations are in the treatment group (how many data rows in the bin have treatment_column label == 1)\n",
    "- **C** how many observations are in the control group (how many data rows in the bin have treatment_column label == 0)\n",
    "- **TY1** how many observations are in the treatment group and respond to the offer (how many data rows in the bin have treatment_column label == 1 and response_column label == 1)\n",
    "- **CY1** how many observations are in the control group and respond to the offer (how many data rows in the bin have treatment_column label == 0 and response_column label == 1)\n",
    "\n",
    "\n",
    "The resulting AUUC value is not normalized, so the result could be a positive number, but also a negative number. A higher number means better model. \n",
    "\n",
    "For some observation groups the results should be NaN. In this case, the results from NaN groups are linearly interpolated to calculate AUUC and plot uplift curve.\n"
   ]
  },
  {
   "cell_type": "code",
   "execution_count": 20,
   "metadata": {},
   "outputs": [
    {
     "name": "stdout",
     "output_type": "stream",
     "text": [
      "\n",
      "AUUC table (number of bins: 162): All types of AUUC value\n"
     ]
    },
    {
     "data": {
      "text/html": [
       "<div>\n",
       "<style scoped>\n",
       "    .dataframe tbody tr th:only-of-type {\n",
       "        vertical-align: middle;\n",
       "    }\n",
       "\n",
       "    .dataframe tbody tr th {\n",
       "        vertical-align: top;\n",
       "    }\n",
       "\n",
       "    .dataframe thead th {\n",
       "        text-align: right;\n",
       "    }\n",
       "</style>\n",
       "<table border=\"1\" class=\"dataframe\">\n",
       "  <thead>\n",
       "    <tr style=\"text-align: right;\">\n",
       "      <th></th>\n",
       "      <th>uplift_type</th>\n",
       "      <th>qini</th>\n",
       "      <th>lift</th>\n",
       "      <th>gain</th>\n",
       "    </tr>\n",
       "  </thead>\n",
       "  <tbody>\n",
       "    <tr>\n",
       "      <th>0</th>\n",
       "      <td>AUUC value</td>\n",
       "      <td>21690.805408</td>\n",
       "      <td>0.025577</td>\n",
       "      <td>25456.461847</td>\n",
       "    </tr>\n",
       "    <tr>\n",
       "      <th>1</th>\n",
       "      <td>AUUC normalized</td>\n",
       "      <td>0.884829</td>\n",
       "      <td>0.025577</td>\n",
       "      <td>0.882675</td>\n",
       "    </tr>\n",
       "    <tr>\n",
       "      <th>2</th>\n",
       "      <td>AUUC random value</td>\n",
       "      <td>15666.408369</td>\n",
       "      <td>0.006592</td>\n",
       "      <td>18431.062077</td>\n",
       "    </tr>\n",
       "  </tbody>\n",
       "</table>\n",
       "</div>"
      ],
      "text/plain": [
       "         uplift_type          qini      lift          gain\n",
       "0         AUUC value  21690.805408  0.025577  25456.461847\n",
       "1    AUUC normalized      0.884829  0.025577      0.882675\n",
       "2  AUUC random value  15666.408369  0.006592  18431.062077"
      ]
     },
     "metadata": {},
     "output_type": "display_data"
    },
    {
     "data": {
      "text/plain": []
     },
     "execution_count": 20,
     "metadata": {},
     "output_type": "execute_result"
    }
   ],
   "source": [
    "perf_h2o.auuc_table()"
   ]
  },
  {
   "cell_type": "markdown",
   "metadata": {},
   "source": [
    "### Cumulative Uplift curve plot\n",
    "\n",
    "To plot the uplift curve, the ``plot_uplift``method can be used. There is specific parameter ``metric`` which can be ``\"qini\", \"gain\", or \"lift\"``. The most popular is the Qini uplift curve which is similar to the ROC curve. The Gain and Lift curves are also known from traditional binomial models. \n",
    "\n",
    "Depending on these curves, you can decide how many observations (for example customers) from the test dataset you send an offer to get optimal gain."
   ]
  },
  {
   "cell_type": "code",
   "execution_count": 21,
   "metadata": {},
   "outputs": [
    {
     "data": {
      "image/png": "[encoded data removed]",
      "text/plain": [
       "<Figure size 432x288 with 1 Axes>"
      ]
     },
     "metadata": {
      "needs_background": "light"
     },
     "output_type": "display_data"
    }
   ],
   "source": [
    "perf_h2o.plot_uplift(metric=\"qini\")"
   ]
  },
  {
   "cell_type": "code",
   "execution_count": 22,
   "metadata": {},
   "outputs": [
    {
     "data": {
      "image/png": "[encoded data removed]",
      "text/plain": [
       "<Figure size 432x288 with 1 Axes>"
      ]
     },
     "metadata": {
      "needs_background": "light"
     },
     "output_type": "display_data"
    }
   ],
   "source": [
    "perf_h2o.plot_uplift(metric=\"gain\")"
   ]
  },
  {
   "cell_type": "code",
   "execution_count": 23,
   "metadata": {},
   "outputs": [
    {
     "data": {
      "image/png": "[encoded data removed]",
      "text/plain": [
       "<Figure size 432x288 with 1 Axes>"
      ]
     },
     "metadata": {
      "needs_background": "light"
     },
     "output_type": "display_data"
    }
   ],
   "source": [
    "perf_h2o.plot_uplift(metric=\"lift\")"
   ]
  },
  {
   "cell_type": "markdown",
   "metadata": {},
   "source": [
    "### Qini value and AECU\n",
    "\n",
    "Qini value is calculated as the difference between the Qini AUUC and area under the random uplift curve (random AUUC). The random AUUC is computed as diagonal from zero to overall gain uplift. \n",
    "\n",
    "The Qini value can be generalized for all AUUC metric types. So AECU for Qini metric is the same as Qini value, but the AECU can be also calculated for Gain and Lift metric type. These values are stored in ``aecu_table``.\n"
   ]
  },
  {
   "cell_type": "code",
   "execution_count": 24,
   "metadata": {},
   "outputs": [
    {
     "name": "stdout",
     "output_type": "stream",
     "text": [
      "\n",
      "AECU values table: All types of AECU value\n"
     ]
    },
    {
     "data": {
      "text/html": [
       "<div>\n",
       "<style scoped>\n",
       "    .dataframe tbody tr th:only-of-type {\n",
       "        vertical-align: middle;\n",
       "    }\n",
       "\n",
       "    .dataframe tbody tr th {\n",
       "        vertical-align: top;\n",
       "    }\n",
       "\n",
       "    .dataframe thead th {\n",
       "        text-align: right;\n",
       "    }\n",
       "</style>\n",
       "<table border=\"1\" class=\"dataframe\">\n",
       "  <thead>\n",
       "    <tr style=\"text-align: right;\">\n",
       "      <th></th>\n",
       "      <th>uplift_type</th>\n",
       "      <th>qini</th>\n",
       "      <th>lift</th>\n",
       "      <th>gain</th>\n",
       "    </tr>\n",
       "  </thead>\n",
       "  <tbody>\n",
       "    <tr>\n",
       "      <th>0</th>\n",
       "      <td>AECU value</td>\n",
       "      <td>6024.397039</td>\n",
       "      <td>0.018985</td>\n",
       "      <td>7025.39977</td>\n",
       "    </tr>\n",
       "  </tbody>\n",
       "</table>\n",
       "</div>"
      ],
      "text/plain": [
       "  uplift_type         qini      lift        gain\n",
       "0  AECU value  6024.397039  0.018985  7025.39977"
      ]
     },
     "metadata": {},
     "output_type": "display_data"
    },
    {
     "data": {
      "text/plain": []
     },
     "execution_count": 24,
     "metadata": {},
     "output_type": "execute_result"
    }
   ],
   "source": [
    "perf_h2o.aecu_table()"
   ]
  },
  {
   "cell_type": "markdown",
   "metadata": {},
   "source": [
    "### Normalized AUUC\n",
    "\n",
    "To get normalized AUUC, you have to call ``auuc_normalized`` method. The normalized AUUC is calculated from uplift values which are normalized by uplift value from maximal treated number of observations. So if you have for example uplift values [10, 20, 30] the normalized uplift is [1/3, 2/3, 1]. If the maximal value is negative, the normalization factor is the absolute value from this number. The normalized AUUC can be again negative and positive and can be outside of (0, 1) interval. The normalized AUUC for ``auuc_metric=\"lift\"`` is not defined, so the normalized AUUC = AUUC for this case. Also the ``plot_uplift`` with ``metric=\"lift\"`` is the same for ``normalize=False`` and ``normalize=True``.\n"
   ]
  },
  {
   "cell_type": "code",
   "execution_count": 25,
   "metadata": {},
   "outputs": [
    {
     "data": {
      "image/png": "[encoded data removed]",
      "text/plain": [
       "<Figure size 432x288 with 1 Axes>"
      ]
     },
     "metadata": {
      "needs_background": "light"
     },
     "output_type": "display_data"
    }
   ],
   "source": [
    "perf_h2o.plot_uplift(metric=\"gain\", normalize=True)"
   ]
  },
  {
   "cell_type": "code",
   "execution_count": 26,
   "metadata": {},
   "outputs": [
    {
     "data": {
      "text/plain": [
       "0.8826750798770131"
      ]
     },
     "execution_count": 26,
     "metadata": {},
     "output_type": "execute_result"
    }
   ],
   "source": [
    "perf_h2o.auuc_normalized()"
   ]
  },
  {
   "cell_type": "markdown",
   "metadata": {},
   "source": [
    "### Scoring histrory and importance of number of trees\n",
    "\n",
    "To speed up the calculation of AUUC, the predictions are binned into quantile histograms. To calculate precision AUUC the more bins the better. The more trees usually produce more various predictions and then the algorithm creates histograms with more bins. So the algorithm needs more iterations to get meaningful AUUC results. \n",
    "You can see in the scoring history table the number of bins as well as the result AUUC. There is also Qini coefficient parameter, which reflects the number of bins and then is a better pointer of the model improvement. In the picture below you can see the algorithm stabilized after building 6 trees. But it depends on data and model settings on how many trees are necessary."
   ]
  },
  {
   "cell_type": "code",
   "execution_count": 27,
   "metadata": {},
   "outputs": [
    {
     "data": {
      "text/html": [
       "<div>\n",
       "<style scoped>\n",
       "    .dataframe tbody tr th:only-of-type {\n",
       "        vertical-align: middle;\n",
       "    }\n",
       "\n",
       "    .dataframe tbody tr th {\n",
       "        vertical-align: top;\n",
       "    }\n",
       "\n",
       "    .dataframe thead th {\n",
       "        text-align: right;\n",
       "    }\n",
       "</style>\n",
       "<table border=\"1\" class=\"dataframe\">\n",
       "  <thead>\n",
       "    <tr style=\"text-align: right;\">\n",
       "      <th></th>\n",
       "      <th></th>\n",
       "      <th>timestamp</th>\n",
       "      <th>duration</th>\n",
       "      <th>number_of_trees</th>\n",
       "      <th>training_auuc_nbins</th>\n",
       "      <th>training_auuc</th>\n",
       "      <th>training_auuc_normalized</th>\n",
       "      <th>training_qini_coefficient</th>\n",
       "    </tr>\n",
       "  </thead>\n",
       "  <tbody>\n",
       "    <tr>\n",
       "      <th>0</th>\n",
       "      <td></td>\n",
       "      <td>2022-04-19 21:00:39</td>\n",
       "      <td>0.227 sec</td>\n",
       "      <td>0.0</td>\n",
       "      <td>0</td>\n",
       "      <td>NaN</td>\n",
       "      <td>NaN</td>\n",
       "      <td>NaN</td>\n",
       "    </tr>\n",
       "    <tr>\n",
       "      <th>1</th>\n",
       "      <td></td>\n",
       "      <td>2022-04-19 21:00:49</td>\n",
       "      <td>9.800 sec</td>\n",
       "      <td>1.0</td>\n",
       "      <td>19</td>\n",
       "      <td>29321.829358</td>\n",
       "      <td>0.835285</td>\n",
       "      <td>154.081597</td>\n",
       "    </tr>\n",
       "    <tr>\n",
       "      <th>2</th>\n",
       "      <td></td>\n",
       "      <td>2022-04-19 21:01:40</td>\n",
       "      <td>1 min  1.436 sec</td>\n",
       "      <td>10.0</td>\n",
       "      <td>558</td>\n",
       "      <td>27419.121618</td>\n",
       "      <td>0.781083</td>\n",
       "      <td>4922.091602</td>\n",
       "    </tr>\n",
       "    <tr>\n",
       "      <th>3</th>\n",
       "      <td></td>\n",
       "      <td>2022-04-19 21:02:59</td>\n",
       "      <td>2 min 20.130 sec</td>\n",
       "      <td>20.0</td>\n",
       "      <td>975</td>\n",
       "      <td>29390.424040</td>\n",
       "      <td>0.837239</td>\n",
       "      <td>6057.833641</td>\n",
       "    </tr>\n",
       "  </tbody>\n",
       "</table>\n",
       "</div>"
      ],
      "text/plain": [
       "               timestamp           duration  number_of_trees  \\\n",
       "0    2022-04-19 21:00:39          0.227 sec              0.0   \n",
       "1    2022-04-19 21:00:49          9.800 sec              1.0   \n",
       "2    2022-04-19 21:01:40   1 min  1.436 sec             10.0   \n",
       "3    2022-04-19 21:02:59   2 min 20.130 sec             20.0   \n",
       "\n",
       "   training_auuc_nbins  training_auuc  training_auuc_normalized  \\\n",
       "0                    0            NaN                       NaN   \n",
       "1                   19   29321.829358                  0.835285   \n",
       "2                  558   27419.121618                  0.781083   \n",
       "3                  975   29390.424040                  0.837239   \n",
       "\n",
       "   training_qini_coefficient  \n",
       "0                        NaN  \n",
       "1                 154.081597  \n",
       "2                4922.091602  \n",
       "3                6057.833641  "
      ]
     },
     "execution_count": 27,
     "metadata": {},
     "output_type": "execute_result"
    }
   ],
   "source": [
    "h2o_uplift_model.scoring_history()"
   ]
  },
  {
   "cell_type": "markdown",
   "metadata": {},
   "source": [
    "## Comparasion Tree-based approach and Generalized Weighed Uplift (LGWUM)"
   ]
  },
  {
   "cell_type": "markdown",
   "metadata": {},
   "source": [
    "LGWUM (Kane et al., 2014) is one of several methods available for Uplift Modeling, and uses an approach to Uplift Modelling better known as Class Variable Transformation. LGWUM assumes that positive uplift lies in treating treatment-group responders (TR) and control-group non-responders (CN), whilst avoiding treatment-group non-responders (TN) and control-group responders (CR). This is visually shown as:\n",
    "\n",
    "𝑈𝑝𝑙𝑖𝑓𝑡 𝐿𝐺𝑊𝑈𝑀 = P(TR)/P(T) + P(CN)/P(C) - P(TN)/P(T) - P(CR)/P(C)\n",
    "\n",
    "source: https://www.kaggle.com/code/hughhuyton/criteo-uplift-modelling/notebook"
   ]
  },
  {
   "cell_type": "code",
   "execution_count": 28,
   "metadata": {},
   "outputs": [
    {
     "name": "stdout",
     "output_type": "stream",
     "text": [
      "gbm Model Build progress: |██████████████████████████████████████████████████████| (done) 100%\n",
      "Model Details\n",
      "=============\n",
      "H2OGradientBoostingEstimator :  Gradient Boosting Machine\n",
      "Model Key:  GBM_model_python_1650393468574_7\n",
      "\n",
      "\n",
      "Model Summary: \n"
     ]
    },
    {
     "data": {
      "text/html": [
       "<div>\n",
       "<style scoped>\n",
       "    .dataframe tbody tr th:only-of-type {\n",
       "        vertical-align: middle;\n",
       "    }\n",
       "\n",
       "    .dataframe tbody tr th {\n",
       "        vertical-align: top;\n",
       "    }\n",
       "\n",
       "    .dataframe thead th {\n",
       "        text-align: right;\n",
       "    }\n",
       "</style>\n",
       "<table border=\"1\" class=\"dataframe\">\n",
       "  <thead>\n",
       "    <tr style=\"text-align: right;\">\n",
       "      <th></th>\n",
       "      <th></th>\n",
       "      <th>number_of_trees</th>\n",
       "      <th>number_of_internal_trees</th>\n",
       "      <th>model_size_in_bytes</th>\n",
       "      <th>min_depth</th>\n",
       "      <th>max_depth</th>\n",
       "      <th>mean_depth</th>\n",
       "      <th>min_leaves</th>\n",
       "      <th>max_leaves</th>\n",
       "      <th>mean_leaves</th>\n",
       "    </tr>\n",
       "  </thead>\n",
       "  <tbody>\n",
       "    <tr>\n",
       "      <th>0</th>\n",
       "      <td></td>\n",
       "      <td>20.0</td>\n",
       "      <td>80.0</td>\n",
       "      <td>4010153.0</td>\n",
       "      <td>15.0</td>\n",
       "      <td>15.0</td>\n",
       "      <td>15.0</td>\n",
       "      <td>1455.0</td>\n",
       "      <td>7137.0</td>\n",
       "      <td>3989.8</td>\n",
       "    </tr>\n",
       "  </tbody>\n",
       "</table>\n",
       "</div>"
      ],
      "text/plain": [
       "     number_of_trees  number_of_internal_trees  model_size_in_bytes  \\\n",
       "0               20.0                      80.0            4010153.0   \n",
       "\n",
       "   min_depth  max_depth  mean_depth  min_leaves  max_leaves  mean_leaves  \n",
       "0       15.0       15.0        15.0      1455.0      7137.0       3989.8  "
      ]
     },
     "metadata": {},
     "output_type": "display_data"
    },
    {
     "name": "stdout",
     "output_type": "stream",
     "text": [
      "\n",
      "\n",
      "ModelMetricsMultinomial: gbm\n",
      "** Reported on train data. **\n",
      "\n",
      "MSE: 0.3119865279635693\n",
      "RMSE: 0.5585575422134852\n",
      "LogLoss: 0.8287318113441646\n",
      "Mean Per-Class Error: 0.5807710920043135\n",
      "AUC: NaN\n",
      "AUCPR: NaN\n",
      "Multinomial auc values: Table is not computed because it is disabled (model parameter 'auc_type' is set to AUTO or NONE) or due to domain size (maximum is 50 domains).\n",
      "Multinomial auc_pr values: Table is not computed because it is disabled (model parameter 'auc_type' is set to AUTO or NONE) or due to domain size (maximum is 50 domains).\n",
      "\n",
      "Confusion Matrix: Row labels: Actual class; Column labels: Predicted class\n"
     ]
    },
    {
     "data": {
      "text/html": [
       "<div>\n",
       "<style scoped>\n",
       "    .dataframe tbody tr th:only-of-type {\n",
       "        vertical-align: middle;\n",
       "    }\n",
       "\n",
       "    .dataframe tbody tr th {\n",
       "        vertical-align: top;\n",
       "    }\n",
       "\n",
       "    .dataframe thead th {\n",
       "        text-align: right;\n",
       "    }\n",
       "</style>\n",
       "<table border=\"1\" class=\"dataframe\">\n",
       "  <thead>\n",
       "    <tr style=\"text-align: right;\">\n",
       "      <th></th>\n",
       "      <th>0</th>\n",
       "      <th>1</th>\n",
       "      <th>2</th>\n",
       "      <th>3</th>\n",
       "      <th>Error</th>\n",
       "      <th>Rate</th>\n",
       "    </tr>\n",
       "  </thead>\n",
       "  <tbody>\n",
       "    <tr>\n",
       "      <th>0</th>\n",
       "      <td>1485522.0</td>\n",
       "      <td>3215.0</td>\n",
       "      <td>116414.0</td>\n",
       "      <td>8294.0</td>\n",
       "      <td>0.079286</td>\n",
       "      <td>127,923 / 1,613,445</td>\n",
       "    </tr>\n",
       "    <tr>\n",
       "      <th>1</th>\n",
       "      <td>23216.0</td>\n",
       "      <td>14562.0</td>\n",
       "      <td>17826.0</td>\n",
       "      <td>8501.0</td>\n",
       "      <td>0.772841</td>\n",
       "      <td>49,543 / 64,105</td>\n",
       "    </tr>\n",
       "    <tr>\n",
       "      <th>2</th>\n",
       "      <td>1347538.0</td>\n",
       "      <td>3142.0</td>\n",
       "      <td>236716.0</td>\n",
       "      <td>8497.0</td>\n",
       "      <td>0.851672</td>\n",
       "      <td>1,359,177 / 1,595,893</td>\n",
       "    </tr>\n",
       "    <tr>\n",
       "      <th>3</th>\n",
       "      <td>25980.0</td>\n",
       "      <td>2745.0</td>\n",
       "      <td>21844.0</td>\n",
       "      <td>31088.0</td>\n",
       "      <td>0.619286</td>\n",
       "      <td>50,569 / 81,657</td>\n",
       "    </tr>\n",
       "    <tr>\n",
       "      <th>4</th>\n",
       "      <td>2882256.0</td>\n",
       "      <td>23664.0</td>\n",
       "      <td>392800.0</td>\n",
       "      <td>56380.0</td>\n",
       "      <td>0.473074</td>\n",
       "      <td>1,587,212 / 3,355,100</td>\n",
       "    </tr>\n",
       "  </tbody>\n",
       "</table>\n",
       "</div>"
      ],
      "text/plain": [
       "           0        1         2        3     Error                   Rate\n",
       "0  1485522.0   3215.0  116414.0   8294.0  0.079286    127,923 / 1,613,445\n",
       "1    23216.0  14562.0   17826.0   8501.0  0.772841        49,543 / 64,105\n",
       "2  1347538.0   3142.0  236716.0   8497.0  0.851672  1,359,177 / 1,595,893\n",
       "3    25980.0   2745.0   21844.0  31088.0  0.619286        50,569 / 81,657\n",
       "4  2882256.0  23664.0  392800.0  56380.0  0.473074  1,587,212 / 3,355,100"
      ]
     },
     "metadata": {},
     "output_type": "display_data"
    },
    {
     "name": "stdout",
     "output_type": "stream",
     "text": [
      "\n",
      "Top-4 Hit Ratios: \n"
     ]
    },
    {
     "data": {
      "text/html": [
       "<div>\n",
       "<style scoped>\n",
       "    .dataframe tbody tr th:only-of-type {\n",
       "        vertical-align: middle;\n",
       "    }\n",
       "\n",
       "    .dataframe tbody tr th {\n",
       "        vertical-align: top;\n",
       "    }\n",
       "\n",
       "    .dataframe thead th {\n",
       "        text-align: right;\n",
       "    }\n",
       "</style>\n",
       "<table border=\"1\" class=\"dataframe\">\n",
       "  <thead>\n",
       "    <tr style=\"text-align: right;\">\n",
       "      <th></th>\n",
       "      <th>k</th>\n",
       "      <th>hit_ratio</th>\n",
       "    </tr>\n",
       "  </thead>\n",
       "  <tbody>\n",
       "    <tr>\n",
       "      <th>0</th>\n",
       "      <td>1</td>\n",
       "      <td>0.526926</td>\n",
       "    </tr>\n",
       "    <tr>\n",
       "      <th>1</th>\n",
       "      <td>2</td>\n",
       "      <td>0.970879</td>\n",
       "    </tr>\n",
       "    <tr>\n",
       "      <th>2</th>\n",
       "      <td>3</td>\n",
       "      <td>0.993831</td>\n",
       "    </tr>\n",
       "    <tr>\n",
       "      <th>3</th>\n",
       "      <td>4</td>\n",
       "      <td>1.000000</td>\n",
       "    </tr>\n",
       "  </tbody>\n",
       "</table>\n",
       "</div>"
      ],
      "text/plain": [
       "   k  hit_ratio\n",
       "0  1   0.526926\n",
       "1  2   0.970879\n",
       "2  3   0.993831\n",
       "3  4   1.000000"
      ]
     },
     "metadata": {},
     "output_type": "display_data"
    },
    {
     "name": "stdout",
     "output_type": "stream",
     "text": [
      "\n",
      "Scoring History: \n"
     ]
    },
    {
     "data": {
      "text/html": [
       "<div>\n",
       "<style scoped>\n",
       "    .dataframe tbody tr th:only-of-type {\n",
       "        vertical-align: middle;\n",
       "    }\n",
       "\n",
       "    .dataframe tbody tr th {\n",
       "        vertical-align: top;\n",
       "    }\n",
       "\n",
       "    .dataframe thead th {\n",
       "        text-align: right;\n",
       "    }\n",
       "</style>\n",
       "<table border=\"1\" class=\"dataframe\">\n",
       "  <thead>\n",
       "    <tr style=\"text-align: right;\">\n",
       "      <th></th>\n",
       "      <th></th>\n",
       "      <th>timestamp</th>\n",
       "      <th>duration</th>\n",
       "      <th>number_of_trees</th>\n",
       "      <th>training_rmse</th>\n",
       "      <th>training_logloss</th>\n",
       "      <th>training_classification_error</th>\n",
       "      <th>training_auc</th>\n",
       "      <th>training_pr_auc</th>\n",
       "    </tr>\n",
       "  </thead>\n",
       "  <tbody>\n",
       "    <tr>\n",
       "      <th>0</th>\n",
       "      <td></td>\n",
       "      <td>2022-04-19 21:04:29</td>\n",
       "      <td>0.105 sec</td>\n",
       "      <td>0.0</td>\n",
       "      <td>0.750000</td>\n",
       "      <td>1.386294</td>\n",
       "      <td>0.541178</td>\n",
       "      <td>NaN</td>\n",
       "      <td>NaN</td>\n",
       "    </tr>\n",
       "    <tr>\n",
       "      <th>1</th>\n",
       "      <td></td>\n",
       "      <td>2022-04-19 21:04:58</td>\n",
       "      <td>28.523 sec</td>\n",
       "      <td>1.0</td>\n",
       "      <td>0.727374</td>\n",
       "      <td>1.299949</td>\n",
       "      <td>0.498934</td>\n",
       "      <td>NaN</td>\n",
       "      <td>NaN</td>\n",
       "    </tr>\n",
       "    <tr>\n",
       "      <th>2</th>\n",
       "      <td></td>\n",
       "      <td>2022-04-19 21:05:25</td>\n",
       "      <td>55.480 sec</td>\n",
       "      <td>2.0</td>\n",
       "      <td>0.707261</td>\n",
       "      <td>1.229373</td>\n",
       "      <td>0.494527</td>\n",
       "      <td>NaN</td>\n",
       "      <td>NaN</td>\n",
       "    </tr>\n",
       "    <tr>\n",
       "      <th>3</th>\n",
       "      <td></td>\n",
       "      <td>2022-04-19 21:05:48</td>\n",
       "      <td>1 min 18.501 sec</td>\n",
       "      <td>3.0</td>\n",
       "      <td>0.689354</td>\n",
       "      <td>1.170738</td>\n",
       "      <td>0.491885</td>\n",
       "      <td>NaN</td>\n",
       "      <td>NaN</td>\n",
       "    </tr>\n",
       "    <tr>\n",
       "      <th>4</th>\n",
       "      <td></td>\n",
       "      <td>2022-04-19 21:06:11</td>\n",
       "      <td>1 min 41.133 sec</td>\n",
       "      <td>4.0</td>\n",
       "      <td>0.673405</td>\n",
       "      <td>1.121443</td>\n",
       "      <td>0.489326</td>\n",
       "      <td>NaN</td>\n",
       "      <td>NaN</td>\n",
       "    </tr>\n",
       "    <tr>\n",
       "      <th>5</th>\n",
       "      <td></td>\n",
       "      <td>2022-04-19 21:06:32</td>\n",
       "      <td>2 min  2.725 sec</td>\n",
       "      <td>5.0</td>\n",
       "      <td>0.659184</td>\n",
       "      <td>1.079589</td>\n",
       "      <td>0.487215</td>\n",
       "      <td>NaN</td>\n",
       "      <td>NaN</td>\n",
       "    </tr>\n",
       "    <tr>\n",
       "      <th>6</th>\n",
       "      <td></td>\n",
       "      <td>2022-04-19 21:06:54</td>\n",
       "      <td>2 min 24.515 sec</td>\n",
       "      <td>6.0</td>\n",
       "      <td>0.646490</td>\n",
       "      <td>1.043765</td>\n",
       "      <td>0.485422</td>\n",
       "      <td>NaN</td>\n",
       "      <td>NaN</td>\n",
       "    </tr>\n",
       "    <tr>\n",
       "      <th>7</th>\n",
       "      <td></td>\n",
       "      <td>2022-04-19 21:07:16</td>\n",
       "      <td>2 min 46.584 sec</td>\n",
       "      <td>7.0</td>\n",
       "      <td>0.635130</td>\n",
       "      <td>1.012841</td>\n",
       "      <td>0.483815</td>\n",
       "      <td>NaN</td>\n",
       "      <td>NaN</td>\n",
       "    </tr>\n",
       "    <tr>\n",
       "      <th>8</th>\n",
       "      <td></td>\n",
       "      <td>2022-04-19 21:07:37</td>\n",
       "      <td>3 min  7.351 sec</td>\n",
       "      <td>8.0</td>\n",
       "      <td>0.624969</td>\n",
       "      <td>0.986045</td>\n",
       "      <td>0.482553</td>\n",
       "      <td>NaN</td>\n",
       "      <td>NaN</td>\n",
       "    </tr>\n",
       "    <tr>\n",
       "      <th>9</th>\n",
       "      <td></td>\n",
       "      <td>2022-04-19 21:07:57</td>\n",
       "      <td>3 min 27.564 sec</td>\n",
       "      <td>9.0</td>\n",
       "      <td>0.615851</td>\n",
       "      <td>0.962656</td>\n",
       "      <td>0.481290</td>\n",
       "      <td>NaN</td>\n",
       "      <td>NaN</td>\n",
       "    </tr>\n",
       "    <tr>\n",
       "      <th>10</th>\n",
       "      <td></td>\n",
       "      <td>2022-04-19 21:08:17</td>\n",
       "      <td>3 min 47.666 sec</td>\n",
       "      <td>10.0</td>\n",
       "      <td>0.607639</td>\n",
       "      <td>0.942107</td>\n",
       "      <td>0.480128</td>\n",
       "      <td>NaN</td>\n",
       "      <td>NaN</td>\n",
       "    </tr>\n",
       "    <tr>\n",
       "      <th>11</th>\n",
       "      <td></td>\n",
       "      <td>2022-04-19 21:08:36</td>\n",
       "      <td>4 min  6.257 sec</td>\n",
       "      <td>11.0</td>\n",
       "      <td>0.600264</td>\n",
       "      <td>0.924046</td>\n",
       "      <td>0.479165</td>\n",
       "      <td>NaN</td>\n",
       "      <td>NaN</td>\n",
       "    </tr>\n",
       "    <tr>\n",
       "      <th>12</th>\n",
       "      <td></td>\n",
       "      <td>2022-04-19 21:08:57</td>\n",
       "      <td>4 min 27.764 sec</td>\n",
       "      <td>12.0</td>\n",
       "      <td>0.593597</td>\n",
       "      <td>0.908032</td>\n",
       "      <td>0.478186</td>\n",
       "      <td>NaN</td>\n",
       "      <td>NaN</td>\n",
       "    </tr>\n",
       "    <tr>\n",
       "      <th>13</th>\n",
       "      <td></td>\n",
       "      <td>2022-04-19 21:09:15</td>\n",
       "      <td>4 min 45.365 sec</td>\n",
       "      <td>13.0</td>\n",
       "      <td>0.587586</td>\n",
       "      <td>0.893859</td>\n",
       "      <td>0.477341</td>\n",
       "      <td>NaN</td>\n",
       "      <td>NaN</td>\n",
       "    </tr>\n",
       "    <tr>\n",
       "      <th>14</th>\n",
       "      <td></td>\n",
       "      <td>2022-04-19 21:09:32</td>\n",
       "      <td>5 min  2.629 sec</td>\n",
       "      <td>14.0</td>\n",
       "      <td>0.582150</td>\n",
       "      <td>0.881245</td>\n",
       "      <td>0.476615</td>\n",
       "      <td>NaN</td>\n",
       "      <td>NaN</td>\n",
       "    </tr>\n",
       "    <tr>\n",
       "      <th>15</th>\n",
       "      <td></td>\n",
       "      <td>2022-04-19 21:09:48</td>\n",
       "      <td>5 min 18.233 sec</td>\n",
       "      <td>15.0</td>\n",
       "      <td>0.577245</td>\n",
       "      <td>0.870031</td>\n",
       "      <td>0.476018</td>\n",
       "      <td>NaN</td>\n",
       "      <td>NaN</td>\n",
       "    </tr>\n",
       "    <tr>\n",
       "      <th>16</th>\n",
       "      <td></td>\n",
       "      <td>2022-04-19 21:10:03</td>\n",
       "      <td>5 min 34.047 sec</td>\n",
       "      <td>16.0</td>\n",
       "      <td>0.572781</td>\n",
       "      <td>0.859962</td>\n",
       "      <td>0.475444</td>\n",
       "      <td>NaN</td>\n",
       "      <td>NaN</td>\n",
       "    </tr>\n",
       "    <tr>\n",
       "      <th>17</th>\n",
       "      <td></td>\n",
       "      <td>2022-04-19 21:10:19</td>\n",
       "      <td>5 min 49.631 sec</td>\n",
       "      <td>17.0</td>\n",
       "      <td>0.568714</td>\n",
       "      <td>0.850897</td>\n",
       "      <td>0.474771</td>\n",
       "      <td>NaN</td>\n",
       "      <td>NaN</td>\n",
       "    </tr>\n",
       "    <tr>\n",
       "      <th>18</th>\n",
       "      <td></td>\n",
       "      <td>2022-04-19 21:10:34</td>\n",
       "      <td>6 min  4.827 sec</td>\n",
       "      <td>18.0</td>\n",
       "      <td>0.565023</td>\n",
       "      <td>0.842770</td>\n",
       "      <td>0.474172</td>\n",
       "      <td>NaN</td>\n",
       "      <td>NaN</td>\n",
       "    </tr>\n",
       "    <tr>\n",
       "      <th>19</th>\n",
       "      <td></td>\n",
       "      <td>2022-04-19 21:10:49</td>\n",
       "      <td>6 min 19.567 sec</td>\n",
       "      <td>19.0</td>\n",
       "      <td>0.561644</td>\n",
       "      <td>0.835404</td>\n",
       "      <td>0.473614</td>\n",
       "      <td>NaN</td>\n",
       "      <td>NaN</td>\n",
       "    </tr>\n",
       "  </tbody>\n",
       "</table>\n",
       "</div>"
      ],
      "text/plain": [
       "                timestamp           duration  number_of_trees  training_rmse  \\\n",
       "0     2022-04-19 21:04:29          0.105 sec              0.0       0.750000   \n",
       "1     2022-04-19 21:04:58         28.523 sec              1.0       0.727374   \n",
       "2     2022-04-19 21:05:25         55.480 sec              2.0       0.707261   \n",
       "3     2022-04-19 21:05:48   1 min 18.501 sec              3.0       0.689354   \n",
       "4     2022-04-19 21:06:11   1 min 41.133 sec              4.0       0.673405   \n",
       "5     2022-04-19 21:06:32   2 min  2.725 sec              5.0       0.659184   \n",
       "6     2022-04-19 21:06:54   2 min 24.515 sec              6.0       0.646490   \n",
       "7     2022-04-19 21:07:16   2 min 46.584 sec              7.0       0.635130   \n",
       "8     2022-04-19 21:07:37   3 min  7.351 sec              8.0       0.624969   \n",
       "9     2022-04-19 21:07:57   3 min 27.564 sec              9.0       0.615851   \n",
       "10    2022-04-19 21:08:17   3 min 47.666 sec             10.0       0.607639   \n",
       "11    2022-04-19 21:08:36   4 min  6.257 sec             11.0       0.600264   \n",
       "12    2022-04-19 21:08:57   4 min 27.764 sec             12.0       0.593597   \n",
       "13    2022-04-19 21:09:15   4 min 45.365 sec             13.0       0.587586   \n",
       "14    2022-04-19 21:09:32   5 min  2.629 sec             14.0       0.582150   \n",
       "15    2022-04-19 21:09:48   5 min 18.233 sec             15.0       0.577245   \n",
       "16    2022-04-19 21:10:03   5 min 34.047 sec             16.0       0.572781   \n",
       "17    2022-04-19 21:10:19   5 min 49.631 sec             17.0       0.568714   \n",
       "18    2022-04-19 21:10:34   6 min  4.827 sec             18.0       0.565023   \n",
       "19    2022-04-19 21:10:49   6 min 19.567 sec             19.0       0.561644   \n",
       "\n",
       "    training_logloss  training_classification_error  training_auc  \\\n",
       "0           1.386294                       0.541178           NaN   \n",
       "1           1.299949                       0.498934           NaN   \n",
       "2           1.229373                       0.494527           NaN   \n",
       "3           1.170738                       0.491885           NaN   \n",
       "4           1.121443                       0.489326           NaN   \n",
       "5           1.079589                       0.487215           NaN   \n",
       "6           1.043765                       0.485422           NaN   \n",
       "7           1.012841                       0.483815           NaN   \n",
       "8           0.986045                       0.482553           NaN   \n",
       "9           0.962656                       0.481290           NaN   \n",
       "10          0.942107                       0.480128           NaN   \n",
       "11          0.924046                       0.479165           NaN   \n",
       "12          0.908032                       0.478186           NaN   \n",
       "13          0.893859                       0.477341           NaN   \n",
       "14          0.881245                       0.476615           NaN   \n",
       "15          0.870031                       0.476018           NaN   \n",
       "16          0.859962                       0.475444           NaN   \n",
       "17          0.850897                       0.474771           NaN   \n",
       "18          0.842770                       0.474172           NaN   \n",
       "19          0.835404                       0.473614           NaN   \n",
       "\n",
       "    training_pr_auc  \n",
       "0               NaN  \n",
       "1               NaN  \n",
       "2               NaN  \n",
       "3               NaN  \n",
       "4               NaN  \n",
       "5               NaN  \n",
       "6               NaN  \n",
       "7               NaN  \n",
       "8               NaN  \n",
       "9               NaN  \n",
       "10              NaN  \n",
       "11              NaN  \n",
       "12              NaN  \n",
       "13              NaN  \n",
       "14              NaN  \n",
       "15              NaN  \n",
       "16              NaN  \n",
       "17              NaN  \n",
       "18              NaN  \n",
       "19              NaN  "
      ]
     },
     "metadata": {},
     "output_type": "display_data"
    },
    {
     "name": "stdout",
     "output_type": "stream",
     "text": [
      "\n",
      "See the whole table with table.as_data_frame()\n",
      "\n",
      "Variable Importances: \n"
     ]
    },
    {
     "data": {
      "text/html": [
       "<div>\n",
       "<style scoped>\n",
       "    .dataframe tbody tr th:only-of-type {\n",
       "        vertical-align: middle;\n",
       "    }\n",
       "\n",
       "    .dataframe tbody tr th {\n",
       "        vertical-align: top;\n",
       "    }\n",
       "\n",
       "    .dataframe thead th {\n",
       "        text-align: right;\n",
       "    }\n",
       "</style>\n",
       "<table border=\"1\" class=\"dataframe\">\n",
       "  <thead>\n",
       "    <tr style=\"text-align: right;\">\n",
       "      <th></th>\n",
       "      <th>variable</th>\n",
       "      <th>relative_importance</th>\n",
       "      <th>scaled_importance</th>\n",
       "      <th>percentage</th>\n",
       "    </tr>\n",
       "  </thead>\n",
       "  <tbody>\n",
       "    <tr>\n",
       "      <th>0</th>\n",
       "      <td>f8</td>\n",
       "      <td>186729.000000</td>\n",
       "      <td>1.000000</td>\n",
       "      <td>0.438383</td>\n",
       "    </tr>\n",
       "    <tr>\n",
       "      <th>1</th>\n",
       "      <td>f2</td>\n",
       "      <td>99514.296875</td>\n",
       "      <td>0.532934</td>\n",
       "      <td>0.233629</td>\n",
       "    </tr>\n",
       "    <tr>\n",
       "      <th>2</th>\n",
       "      <td>f9</td>\n",
       "      <td>38789.437500</td>\n",
       "      <td>0.207731</td>\n",
       "      <td>0.091066</td>\n",
       "    </tr>\n",
       "    <tr>\n",
       "      <th>3</th>\n",
       "      <td>f0</td>\n",
       "      <td>34076.613281</td>\n",
       "      <td>0.182492</td>\n",
       "      <td>0.080002</td>\n",
       "    </tr>\n",
       "    <tr>\n",
       "      <th>4</th>\n",
       "      <td>f6</td>\n",
       "      <td>22724.421875</td>\n",
       "      <td>0.121697</td>\n",
       "      <td>0.053350</td>\n",
       "    </tr>\n",
       "    <tr>\n",
       "      <th>5</th>\n",
       "      <td>f3</td>\n",
       "      <td>14971.792969</td>\n",
       "      <td>0.080179</td>\n",
       "      <td>0.035149</td>\n",
       "    </tr>\n",
       "    <tr>\n",
       "      <th>6</th>\n",
       "      <td>f10</td>\n",
       "      <td>12779.439453</td>\n",
       "      <td>0.068438</td>\n",
       "      <td>0.030002</td>\n",
       "    </tr>\n",
       "    <tr>\n",
       "      <th>7</th>\n",
       "      <td>f7</td>\n",
       "      <td>8683.427734</td>\n",
       "      <td>0.046503</td>\n",
       "      <td>0.020386</td>\n",
       "    </tr>\n",
       "    <tr>\n",
       "      <th>8</th>\n",
       "      <td>f4</td>\n",
       "      <td>3683.322266</td>\n",
       "      <td>0.019725</td>\n",
       "      <td>0.008647</td>\n",
       "    </tr>\n",
       "    <tr>\n",
       "      <th>9</th>\n",
       "      <td>f5</td>\n",
       "      <td>1894.747437</td>\n",
       "      <td>0.010147</td>\n",
       "      <td>0.004448</td>\n",
       "    </tr>\n",
       "    <tr>\n",
       "      <th>10</th>\n",
       "      <td>f11</td>\n",
       "      <td>1319.906616</td>\n",
       "      <td>0.007069</td>\n",
       "      <td>0.003099</td>\n",
       "    </tr>\n",
       "    <tr>\n",
       "      <th>11</th>\n",
       "      <td>f1</td>\n",
       "      <td>782.816650</td>\n",
       "      <td>0.004192</td>\n",
       "      <td>0.001838</td>\n",
       "    </tr>\n",
       "  </tbody>\n",
       "</table>\n",
       "</div>"
      ],
      "text/plain": [
       "   variable  relative_importance  scaled_importance  percentage\n",
       "0        f8        186729.000000           1.000000    0.438383\n",
       "1        f2         99514.296875           0.532934    0.233629\n",
       "2        f9         38789.437500           0.207731    0.091066\n",
       "3        f0         34076.613281           0.182492    0.080002\n",
       "4        f6         22724.421875           0.121697    0.053350\n",
       "5        f3         14971.792969           0.080179    0.035149\n",
       "6       f10         12779.439453           0.068438    0.030002\n",
       "7        f7          8683.427734           0.046503    0.020386\n",
       "8        f4          3683.322266           0.019725    0.008647\n",
       "9        f5          1894.747437           0.010147    0.004448\n",
       "10      f11          1319.906616           0.007069    0.003099\n",
       "11       f1           782.816650           0.004192    0.001838"
      ]
     },
     "metadata": {},
     "output_type": "display_data"
    },
    {
     "data": {
      "text/plain": []
     },
     "execution_count": 28,
     "metadata": {},
     "output_type": "execute_result"
    }
   ],
   "source": [
    "from h2o.estimators.gbm import H2OGradientBoostingEstimator\n",
    "\n",
    "h2o_gbm_lgwum = H2OGradientBoostingEstimator(ntrees=ntree,\n",
    "                                       max_depth=max_depth,\n",
    "                                       min_rows=30,\n",
    "                                       nbins=1000,\n",
    "                                       score_each_iteration=False,\n",
    "                                       seed=42)\n",
    "\n",
    "h2o_gbm_lgwum.train(y=response_column_lgwum, x=feature_cols, training_frame=h2o_train_df)\n",
    "h2o_gbm_lgwum"
   ]
  },
  {
   "cell_type": "code",
   "execution_count": 29,
   "metadata": {},
   "outputs": [
    {
     "name": "stdout",
     "output_type": "stream",
     "text": [
      "gbm prediction progress: |███████████████████████████████████████████████████████| (done) 100%\n"
     ]
    },
    {
     "data": {
      "text/html": [
       "<div>\n",
       "<style scoped>\n",
       "    .dataframe tbody tr th:only-of-type {\n",
       "        vertical-align: middle;\n",
       "    }\n",
       "\n",
       "    .dataframe tbody tr th {\n",
       "        vertical-align: top;\n",
       "    }\n",
       "\n",
       "    .dataframe thead th {\n",
       "        text-align: right;\n",
       "    }\n",
       "</style>\n",
       "<table border=\"1\" class=\"dataframe\">\n",
       "  <thead>\n",
       "    <tr style=\"text-align: right;\">\n",
       "      <th></th>\n",
       "      <th>predict</th>\n",
       "      <th>p_cn</th>\n",
       "      <th>p_cr</th>\n",
       "      <th>p_tn</th>\n",
       "      <th>p_tr</th>\n",
       "      <th>uplift_score</th>\n",
       "    </tr>\n",
       "  </thead>\n",
       "  <tbody>\n",
       "    <tr>\n",
       "      <th>0</th>\n",
       "      <td>0</td>\n",
       "      <td>0.463167</td>\n",
       "      <td>0.039057</td>\n",
       "      <td>0.458722</td>\n",
       "      <td>0.039054</td>\n",
       "      <td>0.001377</td>\n",
       "    </tr>\n",
       "    <tr>\n",
       "      <th>1</th>\n",
       "      <td>0</td>\n",
       "      <td>0.462336</td>\n",
       "      <td>0.039786</td>\n",
       "      <td>0.458101</td>\n",
       "      <td>0.039778</td>\n",
       "      <td>0.001317</td>\n",
       "    </tr>\n",
       "    <tr>\n",
       "      <th>2</th>\n",
       "      <td>0</td>\n",
       "      <td>0.463085</td>\n",
       "      <td>0.039202</td>\n",
       "      <td>0.458136</td>\n",
       "      <td>0.039577</td>\n",
       "      <td>0.002944</td>\n",
       "    </tr>\n",
       "    <tr>\n",
       "      <th>3</th>\n",
       "      <td>2</td>\n",
       "      <td>0.428925</td>\n",
       "      <td>0.045710</td>\n",
       "      <td>0.471622</td>\n",
       "      <td>0.053743</td>\n",
       "      <td>0.011982</td>\n",
       "    </tr>\n",
       "    <tr>\n",
       "      <th>4</th>\n",
       "      <td>0</td>\n",
       "      <td>0.463157</td>\n",
       "      <td>0.039057</td>\n",
       "      <td>0.458712</td>\n",
       "      <td>0.039074</td>\n",
       "      <td>0.001452</td>\n",
       "    </tr>\n",
       "    <tr>\n",
       "      <th>...</th>\n",
       "      <td>...</td>\n",
       "      <td>...</td>\n",
       "      <td>...</td>\n",
       "      <td>...</td>\n",
       "      <td>...</td>\n",
       "      <td>...</td>\n",
       "    </tr>\n",
       "    <tr>\n",
       "      <th>2795914</th>\n",
       "      <td>2</td>\n",
       "      <td>0.249120</td>\n",
       "      <td>0.221641</td>\n",
       "      <td>0.287218</td>\n",
       "      <td>0.242022</td>\n",
       "      <td>-0.027027</td>\n",
       "    </tr>\n",
       "    <tr>\n",
       "      <th>2795915</th>\n",
       "      <td>2</td>\n",
       "      <td>0.327417</td>\n",
       "      <td>0.067967</td>\n",
       "      <td>0.433664</td>\n",
       "      <td>0.170951</td>\n",
       "      <td>0.221684</td>\n",
       "    </tr>\n",
       "    <tr>\n",
       "      <th>2795916</th>\n",
       "      <td>0</td>\n",
       "      <td>0.463089</td>\n",
       "      <td>0.039051</td>\n",
       "      <td>0.458645</td>\n",
       "      <td>0.039215</td>\n",
       "      <td>0.001996</td>\n",
       "    </tr>\n",
       "    <tr>\n",
       "      <th>2795917</th>\n",
       "      <td>2</td>\n",
       "      <td>0.446004</td>\n",
       "      <td>0.051081</td>\n",
       "      <td>0.454156</td>\n",
       "      <td>0.048759</td>\n",
       "      <td>-0.011616</td>\n",
       "    </tr>\n",
       "    <tr>\n",
       "      <th>2795918</th>\n",
       "      <td>0</td>\n",
       "      <td>0.463094</td>\n",
       "      <td>0.039051</td>\n",
       "      <td>0.458650</td>\n",
       "      <td>0.039204</td>\n",
       "      <td>0.001956</td>\n",
       "    </tr>\n",
       "  </tbody>\n",
       "</table>\n",
       "<p>2795919 rows × 6 columns</p>\n",
       "</div>"
      ],
      "text/plain": [
       "         predict      p_cn      p_cr      p_tn      p_tr  uplift_score\n",
       "0              0  0.463167  0.039057  0.458722  0.039054      0.001377\n",
       "1              0  0.462336  0.039786  0.458101  0.039778      0.001317\n",
       "2              0  0.463085  0.039202  0.458136  0.039577      0.002944\n",
       "3              2  0.428925  0.045710  0.471622  0.053743      0.011982\n",
       "4              0  0.463157  0.039057  0.458712  0.039074      0.001452\n",
       "...          ...       ...       ...       ...       ...           ...\n",
       "2795914        2  0.249120  0.221641  0.287218  0.242022     -0.027027\n",
       "2795915        2  0.327417  0.067967  0.433664  0.170951      0.221684\n",
       "2795916        0  0.463089  0.039051  0.458645  0.039215      0.001996\n",
       "2795917        2  0.446004  0.051081  0.454156  0.048759     -0.011616\n",
       "2795918        0  0.463094  0.039051  0.458650  0.039204      0.001956\n",
       "\n",
       "[2795919 rows x 6 columns]"
      ]
     },
     "execution_count": 29,
     "metadata": {},
     "output_type": "execute_result"
    }
   ],
   "source": [
    "uplift_predict_lgwum = h2o_gbm_lgwum.predict(h2o_test_df)\n",
    "\n",
    "result = uplift_predict_lgwum.as_data_frame()\n",
    "result.columns = ['predict', 'p_cn', 'p_cr', 'p_tn', 'p_tr']\n",
    "result['uplift_score'] = result.eval('\\\n",
    "                                p_cn/(p_cn + p_cr) \\\n",
    "                                + p_tr/(p_tn + p_tr) \\\n",
    "                                - p_tn/(p_tn + p_tr) \\\n",
    "                                - p_cr/(p_cn + p_cr)')\n",
    "result"
   ]
  },
  {
   "cell_type": "code",
   "execution_count": 30,
   "metadata": {},
   "outputs": [
    {
     "data": {
      "image/png": "[encoded data removed]",
      "text/plain": [
       "<Figure size 720x432 with 1 Axes>"
      ]
     },
     "metadata": {
      "needs_background": "light"
     },
     "output_type": "display_data"
    }
   ],
   "source": [
    "plot_uplift_score(result.uplift_score)"
   ]
  },
  {
   "cell_type": "code",
   "execution_count": 31,
   "metadata": {},
   "outputs": [
    {
     "name": "stdout",
     "output_type": "stream",
     "text": [
      "Parse progress: |████████████████████████████████████████████████████████████████| (done) 100%\n",
      "\n",
      "ModelMetricsBinomialUplift: \n",
      "** Reported on test data. **\n",
      "\n",
      "AUUC: 21082.05600054968\n",
      "AUUC normalized: 0.730997323047819\n",
      "\n",
      "AUUC table (number of bins: 76): All types of AUUC value\n"
     ]
    },
    {
     "data": {
      "text/html": [
       "<div>\n",
       "<style scoped>\n",
       "    .dataframe tbody tr th:only-of-type {\n",
       "        vertical-align: middle;\n",
       "    }\n",
       "\n",
       "    .dataframe tbody tr th {\n",
       "        vertical-align: top;\n",
       "    }\n",
       "\n",
       "    .dataframe thead th {\n",
       "        text-align: right;\n",
       "    }\n",
       "</style>\n",
       "<table border=\"1\" class=\"dataframe\">\n",
       "  <thead>\n",
       "    <tr style=\"text-align: right;\">\n",
       "      <th></th>\n",
       "      <th>uplift_type</th>\n",
       "      <th>qini</th>\n",
       "      <th>lift</th>\n",
       "      <th>gain</th>\n",
       "    </tr>\n",
       "  </thead>\n",
       "  <tbody>\n",
       "    <tr>\n",
       "      <th>0</th>\n",
       "      <td>AUUC value</td>\n",
       "      <td>17955.647982</td>\n",
       "      <td>0.024278</td>\n",
       "      <td>21082.056001</td>\n",
       "    </tr>\n",
       "    <tr>\n",
       "      <th>1</th>\n",
       "      <td>AUUC normalized</td>\n",
       "      <td>0.732462</td>\n",
       "      <td>0.024278</td>\n",
       "      <td>0.730997</td>\n",
       "    </tr>\n",
       "    <tr>\n",
       "      <th>2</th>\n",
       "      <td>AUUC random value</td>\n",
       "      <td>12449.841356</td>\n",
       "      <td>0.005239</td>\n",
       "      <td>14646.866945</td>\n",
       "    </tr>\n",
       "  </tbody>\n",
       "</table>\n",
       "</div>"
      ],
      "text/plain": [
       "         uplift_type          qini      lift          gain\n",
       "0         AUUC value  17955.647982  0.024278  21082.056001\n",
       "1    AUUC normalized      0.732462  0.024278      0.730997\n",
       "2  AUUC random value  12449.841356  0.005239  14646.866945"
      ]
     },
     "metadata": {},
     "output_type": "display_data"
    },
    {
     "name": "stdout",
     "output_type": "stream",
     "text": [
      "Qini value: 5505.80662580217\n",
      "\n",
      "AECU values table: All types of AECU value\n"
     ]
    },
    {
     "data": {
      "text/html": [
       "<div>\n",
       "<style scoped>\n",
       "    .dataframe tbody tr th:only-of-type {\n",
       "        vertical-align: middle;\n",
       "    }\n",
       "\n",
       "    .dataframe tbody tr th {\n",
       "        vertical-align: top;\n",
       "    }\n",
       "\n",
       "    .dataframe thead th {\n",
       "        text-align: right;\n",
       "    }\n",
       "</style>\n",
       "<table border=\"1\" class=\"dataframe\">\n",
       "  <thead>\n",
       "    <tr style=\"text-align: right;\">\n",
       "      <th></th>\n",
       "      <th>uplift_type</th>\n",
       "      <th>qini</th>\n",
       "      <th>lift</th>\n",
       "      <th>gain</th>\n",
       "    </tr>\n",
       "  </thead>\n",
       "  <tbody>\n",
       "    <tr>\n",
       "      <th>0</th>\n",
       "      <td>AECU value</td>\n",
       "      <td>5505.806626</td>\n",
       "      <td>0.01904</td>\n",
       "      <td>6435.189055</td>\n",
       "    </tr>\n",
       "  </tbody>\n",
       "</table>\n",
       "</div>"
      ],
      "text/plain": [
       "  uplift_type         qini     lift         gain\n",
       "0  AECU value  5505.806626  0.01904  6435.189055"
      ]
     },
     "metadata": {},
     "output_type": "display_data"
    },
    {
     "data": {
      "text/plain": []
     },
     "execution_count": 31,
     "metadata": {},
     "output_type": "execute_result"
    }
   ],
   "source": [
    "lgwum_predict = h2o.H2OFrame(result['uplift_score'].tolist())\n",
    "perf_lgwum = h2o.make_metrics(lgwum_predict, h2o_test_df[response_column], treatment=h2o_test_df[treatment_column], auuc_type=\"gain\", auuc_nbins=81)\n",
    "perf_lgwum"
   ]
  },
  {
   "cell_type": "code",
   "execution_count": 32,
   "metadata": {},
   "outputs": [
    {
     "data": {
      "image/png": "[encoded data removed]",
      "text/plain": [
       "<Figure size 432x288 with 1 Axes>"
      ]
     },
     "metadata": {
      "needs_background": "light"
     },
     "output_type": "display_data"
    }
   ],
   "source": [
    "perf_h2o.plot_uplift(metric=\"qini\")"
   ]
  },
  {
   "cell_type": "code",
   "execution_count": 33,
   "metadata": {},
   "outputs": [
    {
     "data": {
      "image/png": "[encoded data removed]",
      "text/plain": [
       "<Figure size 432x288 with 1 Axes>"
      ]
     },
     "metadata": {
      "needs_background": "light"
     },
     "output_type": "display_data"
    }
   ],
   "source": [
    "perf_lgwum.plot_uplift(metric=\"qini\")"
   ]
  }
 ],
 "metadata": {
  "kernelspec": {
   "display_name": "Python 3",
   "language": "python",
   "name": "python3"
  },
  "language_info": {
   "codemirror_mode": {
    "name": "ipython",
    "version": 3
   },
   "file_extension": ".py",
   "mimetype": "text/x-python",
   "name": "python",
   "nbconvert_exporter": "python",
   "pygments_lexer": "ipython3",
   "version": "3.7.3rc1"
  }
 },
 "nbformat": 4,
 "nbformat_minor": 4
}
